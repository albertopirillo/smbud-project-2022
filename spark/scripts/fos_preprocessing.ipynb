{
 "cells": [
  {
   "cell_type": "markdown",
   "source": [
    "This notebook is used to reshape the **paper** and **fos** datasets.\n",
    "\n",
    "Operations on the **fos** dataset:\n",
    "- Group ll the fos by *name* and compute the average of their *weights*\n",
    "- Generate a unique *id* for each fos\n",
    "- Drop the *paper_id* field\n",
    "\n",
    "Operations on the **paper** dataset:\n",
    "- For each paper, add the *ids* of the field of studies coevered by the paper"
   ],
   "metadata": {
    "collapsed": false
   }
  },
  {
   "cell_type": "code",
   "execution_count": 1,
   "outputs": [],
   "source": [
    "import pandas as pd"
   ],
   "metadata": {
    "collapsed": false
   }
  },
  {
   "cell_type": "code",
   "execution_count": 2,
   "outputs": [],
   "source": [
    "# Config\n",
    "fos_path = \"\"\n",
    "paper_path = \"\""
   ],
   "metadata": {
    "collapsed": false
   }
  },
  {
   "cell_type": "code",
   "execution_count": 3,
   "outputs": [
    {
     "data": {
      "text/plain": "        paper_id               fos_name  fos_weight\n0      101421652        Decision-making    0.495733\n1      101421652   Knowledge management    0.460340\n2      101421652               Workload    0.539081\n3      101421652       Interface design    0.000000\n4      101421652     Information system    0.562489\n...          ...                    ...         ...\n41586    9715319             E-commerce    0.514008\n41587    9715319       Public relations    0.439679\n41588    9715319                 Vendor    0.521475\n41589    9715319   Database transaction    0.404049\n41590    9715319  Customer satisfaction    0.578668\n\n[41591 rows x 3 columns]",
      "text/html": "<div>\n<style scoped>\n    .dataframe tbody tr th:only-of-type {\n        vertical-align: middle;\n    }\n\n    .dataframe tbody tr th {\n        vertical-align: top;\n    }\n\n    .dataframe thead th {\n        text-align: right;\n    }\n</style>\n<table border=\"1\" class=\"dataframe\">\n  <thead>\n    <tr style=\"text-align: right;\">\n      <th></th>\n      <th>paper_id</th>\n      <th>fos_name</th>\n      <th>fos_weight</th>\n    </tr>\n  </thead>\n  <tbody>\n    <tr>\n      <th>0</th>\n      <td>101421652</td>\n      <td>Decision-making</td>\n      <td>0.495733</td>\n    </tr>\n    <tr>\n      <th>1</th>\n      <td>101421652</td>\n      <td>Knowledge management</td>\n      <td>0.460340</td>\n    </tr>\n    <tr>\n      <th>2</th>\n      <td>101421652</td>\n      <td>Workload</td>\n      <td>0.539081</td>\n    </tr>\n    <tr>\n      <th>3</th>\n      <td>101421652</td>\n      <td>Interface design</td>\n      <td>0.000000</td>\n    </tr>\n    <tr>\n      <th>4</th>\n      <td>101421652</td>\n      <td>Information system</td>\n      <td>0.562489</td>\n    </tr>\n    <tr>\n      <th>...</th>\n      <td>...</td>\n      <td>...</td>\n      <td>...</td>\n    </tr>\n    <tr>\n      <th>41586</th>\n      <td>9715319</td>\n      <td>E-commerce</td>\n      <td>0.514008</td>\n    </tr>\n    <tr>\n      <th>41587</th>\n      <td>9715319</td>\n      <td>Public relations</td>\n      <td>0.439679</td>\n    </tr>\n    <tr>\n      <th>41588</th>\n      <td>9715319</td>\n      <td>Vendor</td>\n      <td>0.521475</td>\n    </tr>\n    <tr>\n      <th>41589</th>\n      <td>9715319</td>\n      <td>Database transaction</td>\n      <td>0.404049</td>\n    </tr>\n    <tr>\n      <th>41590</th>\n      <td>9715319</td>\n      <td>Customer satisfaction</td>\n      <td>0.578668</td>\n    </tr>\n  </tbody>\n</table>\n<p>41591 rows × 3 columns</p>\n</div>"
     },
     "execution_count": 3,
     "metadata": {},
     "output_type": "execute_result"
    }
   ],
   "source": [
    "df = pd.read_csv(fos_path, encoding=\"UTF-8\")\n",
    "df"
   ],
   "metadata": {
    "collapsed": false
   }
  },
  {
   "cell_type": "code",
   "execution_count": 4,
   "outputs": [
    {
     "data": {
      "text/plain": "        paper_id                                              title  year  \\\n0      101421652  The influence of query interface design on dec...  2003   \n1     1015675232  Research-paper recommender systems: a literatu...  2016   \n2       10311529  Technical Section: Sketch-based modeling: A su...  2009   \n3      104754383  Shackled to the status quo: the inhibiting eff...  2012   \n4      108157922             The State of the Art in Text Filtering  1997   \n...          ...                                                ...   ...   \n8329    86453134                             IDDQ testing: A review  1992   \n8330    90851268           Issues in computational Vickrey auctions  2000   \n8331   914561379  A Robust and Efficient Video Representation fo...  2016   \n8332   925742927  Sensitivity analysis: A review of recent advances  2016   \n8333     9715319  Trust, satisfaction, and online repurchase int...  2014   \n\n      n_citation  page_start  page_end    doc_type  \\\n0            139         397       423     Journal   \n1            106         305       338     Journal   \n2            236          85       103     Journal   \n3            215          21        42     Journal   \n4            114         141       178     Journal   \n...          ...         ...       ...         ...   \n8329         169         291       303     Journal   \n8330         108         107       129  Conference   \n8331         116         219       238     Journal   \n8332         130         869       887     Journal   \n8333         120         407       427     Journal   \n\n                                              publisher  volume  issue  \\\n0     Society for Information Management and The Man...      27      3   \n1                            Springer Berlin Heidelberg      17      4   \n2                                  Pergamon Press, Inc.      33      1   \n3     Society for Information Management and The Man...      36      1   \n4                            Kluwer Academic Publishers       7      3   \n...                                                 ...     ...    ...   \n8329                                        Springer US       3      4   \n8330                                 M. E. Sharpe, Inc.       4      3   \n8331                                        Springer US     119      3   \n8332                                           Elsevier     248      3   \n8333     Management Information Systems Research Center      38      2   \n\n                                 doi  \\\n0                   10.2307/30036539   \n1          10.1007/s00799-015-0156-0   \n2          10.1016/j.cag.2008.09.013   \n3                   10.2307/41410404   \n4            10.1023/A:1008287121180   \n...                              ...   \n8329              10.1007/BF00135333   \n8330  10.1080/10864415.2000.11518374   \n8331       10.1007/s11263-015-0846-5   \n8332      10.1016/j.ejor.2015.06.032   \n8333      10.25300/MISQ/2014/38.2.04   \n\n                                             references  \\\n0                              [1516261653, 1978738035]   \n1     [1971040550, 2012451152, 2019443264, 205011383...   \n2                              [2075597533, 2118304946]   \n3     [1758167268, 1918570226, 2098685541, 211598118...   \n4                                                    []   \n...                                                 ...   \n8329                                                 []   \n8330                                                 []   \n8331  [1966385142, 1984309565, 2020163092, 206861165...   \n8332                           [1979362125, 2148080122]   \n8333  [1574235309, 1755842991, 2053076487, 206165088...   \n\n                                               abstract    venue_id  \\\n0     Managers in modern organizations are confronte...    57293258   \n1     In the last 16 years, more than 200 research a...   110615584   \n2     User interfaces in modeling have traditionally...    94821547   \n3     Given that adoption of a new system often impl...    57293258   \n4     This paper develops a conceptual framework for...   160628929   \n...                                                 ...         ...   \n8329  Quiescent power supply current (I DDQ ) testin...   200807567   \n8330  The Vickrey auction has been widely advocated ...  1195874795   \n8331  This paper introduces a state-of-the-art video...    25538012   \n8332  The solution of several operations research pr...   103321696   \n8333  The effects of e-commerce institutional mechan...    57293258   \n\n                                                authors  \n0                              [1973614237, 2113568395]  \n1        [2032888927, 72611330, 2135709281, 2063223331]  \n2      [2142664686, 1821145341, 2105740368, 2120678171]  \n3                               [2305721212, 270263451]  \n4                                             [7916806]  \n...                                                 ...  \n8329   [2112919840, 2145526017, 2599269601, 2306694419]  \n8330                                       [2070867630]  \n8331    [2777199248, 273224254, 2145238836, 2111851554]  \n8332                           [2082753280, 2559736284]  \n8333  [2141706349, 2132872148, 2170062325, 193140482...  \n\n[8334 rows x 15 columns]",
      "text/html": "<div>\n<style scoped>\n    .dataframe tbody tr th:only-of-type {\n        vertical-align: middle;\n    }\n\n    .dataframe tbody tr th {\n        vertical-align: top;\n    }\n\n    .dataframe thead th {\n        text-align: right;\n    }\n</style>\n<table border=\"1\" class=\"dataframe\">\n  <thead>\n    <tr style=\"text-align: right;\">\n      <th></th>\n      <th>paper_id</th>\n      <th>title</th>\n      <th>year</th>\n      <th>n_citation</th>\n      <th>page_start</th>\n      <th>page_end</th>\n      <th>doc_type</th>\n      <th>publisher</th>\n      <th>volume</th>\n      <th>issue</th>\n      <th>doi</th>\n      <th>references</th>\n      <th>abstract</th>\n      <th>venue_id</th>\n      <th>authors</th>\n    </tr>\n  </thead>\n  <tbody>\n    <tr>\n      <th>0</th>\n      <td>101421652</td>\n      <td>The influence of query interface design on dec...</td>\n      <td>2003</td>\n      <td>139</td>\n      <td>397</td>\n      <td>423</td>\n      <td>Journal</td>\n      <td>Society for Information Management and The Man...</td>\n      <td>27</td>\n      <td>3</td>\n      <td>10.2307/30036539</td>\n      <td>[1516261653, 1978738035]</td>\n      <td>Managers in modern organizations are confronte...</td>\n      <td>57293258</td>\n      <td>[1973614237, 2113568395]</td>\n    </tr>\n    <tr>\n      <th>1</th>\n      <td>1015675232</td>\n      <td>Research-paper recommender systems: a literatu...</td>\n      <td>2016</td>\n      <td>106</td>\n      <td>305</td>\n      <td>338</td>\n      <td>Journal</td>\n      <td>Springer Berlin Heidelberg</td>\n      <td>17</td>\n      <td>4</td>\n      <td>10.1007/s00799-015-0156-0</td>\n      <td>[1971040550, 2012451152, 2019443264, 205011383...</td>\n      <td>In the last 16 years, more than 200 research a...</td>\n      <td>110615584</td>\n      <td>[2032888927, 72611330, 2135709281, 2063223331]</td>\n    </tr>\n    <tr>\n      <th>2</th>\n      <td>10311529</td>\n      <td>Technical Section: Sketch-based modeling: A su...</td>\n      <td>2009</td>\n      <td>236</td>\n      <td>85</td>\n      <td>103</td>\n      <td>Journal</td>\n      <td>Pergamon Press, Inc.</td>\n      <td>33</td>\n      <td>1</td>\n      <td>10.1016/j.cag.2008.09.013</td>\n      <td>[2075597533, 2118304946]</td>\n      <td>User interfaces in modeling have traditionally...</td>\n      <td>94821547</td>\n      <td>[2142664686, 1821145341, 2105740368, 2120678171]</td>\n    </tr>\n    <tr>\n      <th>3</th>\n      <td>104754383</td>\n      <td>Shackled to the status quo: the inhibiting eff...</td>\n      <td>2012</td>\n      <td>215</td>\n      <td>21</td>\n      <td>42</td>\n      <td>Journal</td>\n      <td>Society for Information Management and The Man...</td>\n      <td>36</td>\n      <td>1</td>\n      <td>10.2307/41410404</td>\n      <td>[1758167268, 1918570226, 2098685541, 211598118...</td>\n      <td>Given that adoption of a new system often impl...</td>\n      <td>57293258</td>\n      <td>[2305721212, 270263451]</td>\n    </tr>\n    <tr>\n      <th>4</th>\n      <td>108157922</td>\n      <td>The State of the Art in Text Filtering</td>\n      <td>1997</td>\n      <td>114</td>\n      <td>141</td>\n      <td>178</td>\n      <td>Journal</td>\n      <td>Kluwer Academic Publishers</td>\n      <td>7</td>\n      <td>3</td>\n      <td>10.1023/A:1008287121180</td>\n      <td>[]</td>\n      <td>This paper develops a conceptual framework for...</td>\n      <td>160628929</td>\n      <td>[7916806]</td>\n    </tr>\n    <tr>\n      <th>...</th>\n      <td>...</td>\n      <td>...</td>\n      <td>...</td>\n      <td>...</td>\n      <td>...</td>\n      <td>...</td>\n      <td>...</td>\n      <td>...</td>\n      <td>...</td>\n      <td>...</td>\n      <td>...</td>\n      <td>...</td>\n      <td>...</td>\n      <td>...</td>\n      <td>...</td>\n    </tr>\n    <tr>\n      <th>8329</th>\n      <td>86453134</td>\n      <td>IDDQ testing: A review</td>\n      <td>1992</td>\n      <td>169</td>\n      <td>291</td>\n      <td>303</td>\n      <td>Journal</td>\n      <td>Springer US</td>\n      <td>3</td>\n      <td>4</td>\n      <td>10.1007/BF00135333</td>\n      <td>[]</td>\n      <td>Quiescent power supply current (I DDQ ) testin...</td>\n      <td>200807567</td>\n      <td>[2112919840, 2145526017, 2599269601, 2306694419]</td>\n    </tr>\n    <tr>\n      <th>8330</th>\n      <td>90851268</td>\n      <td>Issues in computational Vickrey auctions</td>\n      <td>2000</td>\n      <td>108</td>\n      <td>107</td>\n      <td>129</td>\n      <td>Conference</td>\n      <td>M. E. Sharpe, Inc.</td>\n      <td>4</td>\n      <td>3</td>\n      <td>10.1080/10864415.2000.11518374</td>\n      <td>[]</td>\n      <td>The Vickrey auction has been widely advocated ...</td>\n      <td>1195874795</td>\n      <td>[2070867630]</td>\n    </tr>\n    <tr>\n      <th>8331</th>\n      <td>914561379</td>\n      <td>A Robust and Efficient Video Representation fo...</td>\n      <td>2016</td>\n      <td>116</td>\n      <td>219</td>\n      <td>238</td>\n      <td>Journal</td>\n      <td>Springer US</td>\n      <td>119</td>\n      <td>3</td>\n      <td>10.1007/s11263-015-0846-5</td>\n      <td>[1966385142, 1984309565, 2020163092, 206861165...</td>\n      <td>This paper introduces a state-of-the-art video...</td>\n      <td>25538012</td>\n      <td>[2777199248, 273224254, 2145238836, 2111851554]</td>\n    </tr>\n    <tr>\n      <th>8332</th>\n      <td>925742927</td>\n      <td>Sensitivity analysis: A review of recent advances</td>\n      <td>2016</td>\n      <td>130</td>\n      <td>869</td>\n      <td>887</td>\n      <td>Journal</td>\n      <td>Elsevier</td>\n      <td>248</td>\n      <td>3</td>\n      <td>10.1016/j.ejor.2015.06.032</td>\n      <td>[1979362125, 2148080122]</td>\n      <td>The solution of several operations research pr...</td>\n      <td>103321696</td>\n      <td>[2082753280, 2559736284]</td>\n    </tr>\n    <tr>\n      <th>8333</th>\n      <td>9715319</td>\n      <td>Trust, satisfaction, and online repurchase int...</td>\n      <td>2014</td>\n      <td>120</td>\n      <td>407</td>\n      <td>427</td>\n      <td>Journal</td>\n      <td>Management Information Systems Research Center</td>\n      <td>38</td>\n      <td>2</td>\n      <td>10.25300/MISQ/2014/38.2.04</td>\n      <td>[1574235309, 1755842991, 2053076487, 206165088...</td>\n      <td>The effects of e-commerce institutional mechan...</td>\n      <td>57293258</td>\n      <td>[2141706349, 2132872148, 2170062325, 193140482...</td>\n    </tr>\n  </tbody>\n</table>\n<p>8334 rows × 15 columns</p>\n</div>"
     },
     "execution_count": 4,
     "metadata": {},
     "output_type": "execute_result"
    }
   ],
   "source": [
    "paper_df = pd.read_csv(paper_path, encoding=\"UTF-8\")\n",
    "paper_df"
   ],
   "metadata": {
    "collapsed": false
   }
  },
  {
   "cell_type": "markdown",
   "source": [
    "Group the fos by *name* and compute the average of the *weight*:"
   ],
   "metadata": {
    "collapsed": false
   }
  },
  {
   "cell_type": "code",
   "execution_count": 5,
   "outputs": [
    {
     "data": {
      "text/plain": "                  fos_name  fos_weight\n0           1-planar graph    0.705774\n1                    2-opt    0.681086\n2                   32-bit    0.435294\n3     3D computer graphics    0.613358\n4              3D modeling    0.503868\n...                    ...         ...\n6083                 sysfs    0.643146\n6084           t-closeness    0.620392\n6085                tf–idf    0.438651\n6086                   x86    0.477826\n6087           ω-automaton    0.654422\n\n[6088 rows x 2 columns]",
      "text/html": "<div>\n<style scoped>\n    .dataframe tbody tr th:only-of-type {\n        vertical-align: middle;\n    }\n\n    .dataframe tbody tr th {\n        vertical-align: top;\n    }\n\n    .dataframe thead th {\n        text-align: right;\n    }\n</style>\n<table border=\"1\" class=\"dataframe\">\n  <thead>\n    <tr style=\"text-align: right;\">\n      <th></th>\n      <th>fos_name</th>\n      <th>fos_weight</th>\n    </tr>\n  </thead>\n  <tbody>\n    <tr>\n      <th>0</th>\n      <td>1-planar graph</td>\n      <td>0.705774</td>\n    </tr>\n    <tr>\n      <th>1</th>\n      <td>2-opt</td>\n      <td>0.681086</td>\n    </tr>\n    <tr>\n      <th>2</th>\n      <td>32-bit</td>\n      <td>0.435294</td>\n    </tr>\n    <tr>\n      <th>3</th>\n      <td>3D computer graphics</td>\n      <td>0.613358</td>\n    </tr>\n    <tr>\n      <th>4</th>\n      <td>3D modeling</td>\n      <td>0.503868</td>\n    </tr>\n    <tr>\n      <th>...</th>\n      <td>...</td>\n      <td>...</td>\n    </tr>\n    <tr>\n      <th>6083</th>\n      <td>sysfs</td>\n      <td>0.643146</td>\n    </tr>\n    <tr>\n      <th>6084</th>\n      <td>t-closeness</td>\n      <td>0.620392</td>\n    </tr>\n    <tr>\n      <th>6085</th>\n      <td>tf–idf</td>\n      <td>0.438651</td>\n    </tr>\n    <tr>\n      <th>6086</th>\n      <td>x86</td>\n      <td>0.477826</td>\n    </tr>\n    <tr>\n      <th>6087</th>\n      <td>ω-automaton</td>\n      <td>0.654422</td>\n    </tr>\n  </tbody>\n</table>\n<p>6088 rows × 2 columns</p>\n</div>"
     },
     "execution_count": 5,
     "metadata": {},
     "output_type": "execute_result"
    }
   ],
   "source": [
    "fos_df = df.groupby(\"fos_name\")[\"fos_weight\"].mean().reset_index()\n",
    "fos_df"
   ],
   "metadata": {
    "collapsed": false
   }
  },
  {
   "cell_type": "markdown",
   "source": [
    "Generate a unique *id* and add it to the Dataframe:"
   ],
   "metadata": {
    "collapsed": false
   }
  },
  {
   "cell_type": "code",
   "execution_count": 6,
   "outputs": [
    {
     "data": {
      "text/plain": "                  fos_name  fos_weight      id\n0           1-planar graph    0.705774  100000\n1                    2-opt    0.681086  100001\n2                   32-bit    0.435294  100002\n3     3D computer graphics    0.613358  100003\n4              3D modeling    0.503868  100004\n...                    ...         ...     ...\n6083                 sysfs    0.643146  106083\n6084           t-closeness    0.620392  106084\n6085                tf–idf    0.438651  106085\n6086                   x86    0.477826  106086\n6087           ω-automaton    0.654422  106087\n\n[6088 rows x 3 columns]",
      "text/html": "<div>\n<style scoped>\n    .dataframe tbody tr th:only-of-type {\n        vertical-align: middle;\n    }\n\n    .dataframe tbody tr th {\n        vertical-align: top;\n    }\n\n    .dataframe thead th {\n        text-align: right;\n    }\n</style>\n<table border=\"1\" class=\"dataframe\">\n  <thead>\n    <tr style=\"text-align: right;\">\n      <th></th>\n      <th>fos_name</th>\n      <th>fos_weight</th>\n      <th>id</th>\n    </tr>\n  </thead>\n  <tbody>\n    <tr>\n      <th>0</th>\n      <td>1-planar graph</td>\n      <td>0.705774</td>\n      <td>100000</td>\n    </tr>\n    <tr>\n      <th>1</th>\n      <td>2-opt</td>\n      <td>0.681086</td>\n      <td>100001</td>\n    </tr>\n    <tr>\n      <th>2</th>\n      <td>32-bit</td>\n      <td>0.435294</td>\n      <td>100002</td>\n    </tr>\n    <tr>\n      <th>3</th>\n      <td>3D computer graphics</td>\n      <td>0.613358</td>\n      <td>100003</td>\n    </tr>\n    <tr>\n      <th>4</th>\n      <td>3D modeling</td>\n      <td>0.503868</td>\n      <td>100004</td>\n    </tr>\n    <tr>\n      <th>...</th>\n      <td>...</td>\n      <td>...</td>\n      <td>...</td>\n    </tr>\n    <tr>\n      <th>6083</th>\n      <td>sysfs</td>\n      <td>0.643146</td>\n      <td>106083</td>\n    </tr>\n    <tr>\n      <th>6084</th>\n      <td>t-closeness</td>\n      <td>0.620392</td>\n      <td>106084</td>\n    </tr>\n    <tr>\n      <th>6085</th>\n      <td>tf–idf</td>\n      <td>0.438651</td>\n      <td>106085</td>\n    </tr>\n    <tr>\n      <th>6086</th>\n      <td>x86</td>\n      <td>0.477826</td>\n      <td>106086</td>\n    </tr>\n    <tr>\n      <th>6087</th>\n      <td>ω-automaton</td>\n      <td>0.654422</td>\n      <td>106087</td>\n    </tr>\n  </tbody>\n</table>\n<p>6088 rows × 3 columns</p>\n</div>"
     },
     "execution_count": 6,
     "metadata": {},
     "output_type": "execute_result"
    }
   ],
   "source": [
    "fos_id = [100000 + i for i in range(len(fos_df))]\n",
    "fos_df[\"id\"] = fos_id\n",
    "fos_df"
   ],
   "metadata": {
    "collapsed": false
   }
  },
  {
   "cell_type": "markdown",
   "source": [
    "Now we work on the **paper** dataset. We open the original **fos** dataset again for ease of use."
   ],
   "metadata": {
    "collapsed": false
   }
  },
  {
   "cell_type": "code",
   "execution_count": 7,
   "outputs": [],
   "source": [
    "old_fos_df = pd.read_csv(fos_path, encoding=\"UTF-8\")"
   ],
   "metadata": {
    "collapsed": false
   }
  },
  {
   "cell_type": "markdown",
   "source": [
    "Merge together the *paper_id* with the new fos *id*:"
   ],
   "metadata": {
    "collapsed": false
   }
  },
  {
   "cell_type": "code",
   "execution_count": 8,
   "outputs": [
    {
     "data": {
      "text/plain": "         paper_id                          fos_name  fos_weight      id\n0       101421652                   Decision-making    0.453829  101369\n1      1982671202                   Decision-making    0.453829  101369\n2      2052729728                   Decision-making    0.453829  101369\n3      2112042732                   Decision-making    0.453829  101369\n4      2120230944                   Decision-making    0.453829  101369\n...           ...                               ...         ...     ...\n41586     7126071                            MEDCIN    0.538794  103141\n41587    85271976           Social cognitive theory    0.523215  105040\n41588    90851268  Generalized second-price auction    0.623478  102227\n41589    90851268                         Proxy bid    0.603282  104328\n41590    90851268                   English auction    0.624480  101780\n\n[41591 rows x 4 columns]",
      "text/html": "<div>\n<style scoped>\n    .dataframe tbody tr th:only-of-type {\n        vertical-align: middle;\n    }\n\n    .dataframe tbody tr th {\n        vertical-align: top;\n    }\n\n    .dataframe thead th {\n        text-align: right;\n    }\n</style>\n<table border=\"1\" class=\"dataframe\">\n  <thead>\n    <tr style=\"text-align: right;\">\n      <th></th>\n      <th>paper_id</th>\n      <th>fos_name</th>\n      <th>fos_weight</th>\n      <th>id</th>\n    </tr>\n  </thead>\n  <tbody>\n    <tr>\n      <th>0</th>\n      <td>101421652</td>\n      <td>Decision-making</td>\n      <td>0.453829</td>\n      <td>101369</td>\n    </tr>\n    <tr>\n      <th>1</th>\n      <td>1982671202</td>\n      <td>Decision-making</td>\n      <td>0.453829</td>\n      <td>101369</td>\n    </tr>\n    <tr>\n      <th>2</th>\n      <td>2052729728</td>\n      <td>Decision-making</td>\n      <td>0.453829</td>\n      <td>101369</td>\n    </tr>\n    <tr>\n      <th>3</th>\n      <td>2112042732</td>\n      <td>Decision-making</td>\n      <td>0.453829</td>\n      <td>101369</td>\n    </tr>\n    <tr>\n      <th>4</th>\n      <td>2120230944</td>\n      <td>Decision-making</td>\n      <td>0.453829</td>\n      <td>101369</td>\n    </tr>\n    <tr>\n      <th>...</th>\n      <td>...</td>\n      <td>...</td>\n      <td>...</td>\n      <td>...</td>\n    </tr>\n    <tr>\n      <th>41586</th>\n      <td>7126071</td>\n      <td>MEDCIN</td>\n      <td>0.538794</td>\n      <td>103141</td>\n    </tr>\n    <tr>\n      <th>41587</th>\n      <td>85271976</td>\n      <td>Social cognitive theory</td>\n      <td>0.523215</td>\n      <td>105040</td>\n    </tr>\n    <tr>\n      <th>41588</th>\n      <td>90851268</td>\n      <td>Generalized second-price auction</td>\n      <td>0.623478</td>\n      <td>102227</td>\n    </tr>\n    <tr>\n      <th>41589</th>\n      <td>90851268</td>\n      <td>Proxy bid</td>\n      <td>0.603282</td>\n      <td>104328</td>\n    </tr>\n    <tr>\n      <th>41590</th>\n      <td>90851268</td>\n      <td>English auction</td>\n      <td>0.624480</td>\n      <td>101780</td>\n    </tr>\n  </tbody>\n</table>\n<p>41591 rows × 4 columns</p>\n</div>"
     },
     "execution_count": 8,
     "metadata": {},
     "output_type": "execute_result"
    }
   ],
   "source": [
    "old_df = pd.merge(old_fos_df[[\"paper_id\", \"fos_name\"]], fos_df, on=\"fos_name\")\n",
    "old_df"
   ],
   "metadata": {
    "collapsed": false
   }
  },
  {
   "cell_type": "markdown",
   "source": [
    "Group in a single row all *fos* that a paper covers:"
   ],
   "metadata": {
    "collapsed": false
   }
  },
  {
   "cell_type": "code",
   "execution_count": 9,
   "outputs": [
    {
     "data": {
      "text/plain": "        paper_id                                    fos_id\n0        7126071  [102669, 101294, 103292, 101364, 103141]\n1        9715319  [101643, 104353, 105871, 101334, 101236]\n2       10311529  [100970, 100270, 105001, 102262, 102502]\n3       12532419  [103244, 103247, 102306, 102843, 102815]\n4       30814344  [102929, 100963, 103181, 101886, 105456]\n...          ...                                       ...\n8329  2761239369  [100963, 104749, 100453, 104810, 102688]\n8330  2766000922  [100963, 102669, 101294, 101322, 104409]\n8331  2768461089  [101525, 100844, 102882, 103350, 103352]\n8332  2776316078  [100963, 105571, 102083, 101729, 104303]\n8333  2810491896  [105571, 102083, 104230, 102081, 105618]\n\n[8334 rows x 2 columns]",
      "text/html": "<div>\n<style scoped>\n    .dataframe tbody tr th:only-of-type {\n        vertical-align: middle;\n    }\n\n    .dataframe tbody tr th {\n        vertical-align: top;\n    }\n\n    .dataframe thead th {\n        text-align: right;\n    }\n</style>\n<table border=\"1\" class=\"dataframe\">\n  <thead>\n    <tr style=\"text-align: right;\">\n      <th></th>\n      <th>paper_id</th>\n      <th>fos_id</th>\n    </tr>\n  </thead>\n  <tbody>\n    <tr>\n      <th>0</th>\n      <td>7126071</td>\n      <td>[102669, 101294, 103292, 101364, 103141]</td>\n    </tr>\n    <tr>\n      <th>1</th>\n      <td>9715319</td>\n      <td>[101643, 104353, 105871, 101334, 101236]</td>\n    </tr>\n    <tr>\n      <th>2</th>\n      <td>10311529</td>\n      <td>[100970, 100270, 105001, 102262, 102502]</td>\n    </tr>\n    <tr>\n      <th>3</th>\n      <td>12532419</td>\n      <td>[103244, 103247, 102306, 102843, 102815]</td>\n    </tr>\n    <tr>\n      <th>4</th>\n      <td>30814344</td>\n      <td>[102929, 100963, 103181, 101886, 105456]</td>\n    </tr>\n    <tr>\n      <th>...</th>\n      <td>...</td>\n      <td>...</td>\n    </tr>\n    <tr>\n      <th>8329</th>\n      <td>2761239369</td>\n      <td>[100963, 104749, 100453, 104810, 102688]</td>\n    </tr>\n    <tr>\n      <th>8330</th>\n      <td>2766000922</td>\n      <td>[100963, 102669, 101294, 101322, 104409]</td>\n    </tr>\n    <tr>\n      <th>8331</th>\n      <td>2768461089</td>\n      <td>[101525, 100844, 102882, 103350, 103352]</td>\n    </tr>\n    <tr>\n      <th>8332</th>\n      <td>2776316078</td>\n      <td>[100963, 105571, 102083, 101729, 104303]</td>\n    </tr>\n    <tr>\n      <th>8333</th>\n      <td>2810491896</td>\n      <td>[105571, 102083, 104230, 102081, 105618]</td>\n    </tr>\n  </tbody>\n</table>\n<p>8334 rows × 2 columns</p>\n</div>"
     },
     "execution_count": 9,
     "metadata": {},
     "output_type": "execute_result"
    }
   ],
   "source": [
    "old_df = old_df.groupby(\"paper_id\")[\"id\"].apply(list).reset_index()\n",
    "old_df = old_df.rename({\"id\": \"fos_id\"}, axis=1)\n",
    "old_df"
   ],
   "metadata": {
    "collapsed": false
   }
  },
  {
   "cell_type": "markdown",
   "source": [
    "Add such *fos_ids* to the **paper** dataset:"
   ],
   "metadata": {
    "collapsed": false
   }
  },
  {
   "cell_type": "code",
   "execution_count": 10,
   "outputs": [
    {
     "data": {
      "text/plain": "        paper_id                                              title  year  \\\n0      101421652  The influence of query interface design on dec...  2003   \n1     1015675232  Research-paper recommender systems: a literatu...  2016   \n2       10311529  Technical Section: Sketch-based modeling: A su...  2009   \n3      104754383  Shackled to the status quo: the inhibiting eff...  2012   \n4      108157922             The State of the Art in Text Filtering  1997   \n...          ...                                                ...   ...   \n8329    86453134                             IDDQ testing: A review  1992   \n8330    90851268           Issues in computational Vickrey auctions  2000   \n8331   914561379  A Robust and Efficient Video Representation fo...  2016   \n8332   925742927  Sensitivity analysis: A review of recent advances  2016   \n8333     9715319  Trust, satisfaction, and online repurchase int...  2014   \n\n      n_citation  page_start  page_end    doc_type  \\\n0            139         397       423     Journal   \n1            106         305       338     Journal   \n2            236          85       103     Journal   \n3            215          21        42     Journal   \n4            114         141       178     Journal   \n...          ...         ...       ...         ...   \n8329         169         291       303     Journal   \n8330         108         107       129  Conference   \n8331         116         219       238     Journal   \n8332         130         869       887     Journal   \n8333         120         407       427     Journal   \n\n                                              publisher  volume  issue  \\\n0     Society for Information Management and The Man...      27      3   \n1                            Springer Berlin Heidelberg      17      4   \n2                                  Pergamon Press, Inc.      33      1   \n3     Society for Information Management and The Man...      36      1   \n4                            Kluwer Academic Publishers       7      3   \n...                                                 ...     ...    ...   \n8329                                        Springer US       3      4   \n8330                                 M. E. Sharpe, Inc.       4      3   \n8331                                        Springer US     119      3   \n8332                                           Elsevier     248      3   \n8333     Management Information Systems Research Center      38      2   \n\n                                 doi  \\\n0                   10.2307/30036539   \n1          10.1007/s00799-015-0156-0   \n2          10.1016/j.cag.2008.09.013   \n3                   10.2307/41410404   \n4            10.1023/A:1008287121180   \n...                              ...   \n8329              10.1007/BF00135333   \n8330  10.1080/10864415.2000.11518374   \n8331       10.1007/s11263-015-0846-5   \n8332      10.1016/j.ejor.2015.06.032   \n8333      10.25300/MISQ/2014/38.2.04   \n\n                                             references  \\\n0                              [1516261653, 1978738035]   \n1     [1971040550, 2012451152, 2019443264, 205011383...   \n2                              [2075597533, 2118304946]   \n3     [1758167268, 1918570226, 2098685541, 211598118...   \n4                                                    []   \n...                                                 ...   \n8329                                                 []   \n8330                                                 []   \n8331  [1966385142, 1984309565, 2020163092, 206861165...   \n8332                           [1979362125, 2148080122]   \n8333  [1574235309, 1755842991, 2053076487, 206165088...   \n\n                                               abstract    venue_id  \\\n0     Managers in modern organizations are confronte...    57293258   \n1     In the last 16 years, more than 200 research a...   110615584   \n2     User interfaces in modeling have traditionally...    94821547   \n3     Given that adoption of a new system often impl...    57293258   \n4     This paper develops a conceptual framework for...   160628929   \n...                                                 ...         ...   \n8329  Quiescent power supply current (I DDQ ) testin...   200807567   \n8330  The Vickrey auction has been widely advocated ...  1195874795   \n8331  This paper introduces a state-of-the-art video...    25538012   \n8332  The solution of several operations research pr...   103321696   \n8333  The effects of e-commerce institutional mechan...    57293258   \n\n                                                authors  \\\n0                              [1973614237, 2113568395]   \n1        [2032888927, 72611330, 2135709281, 2063223331]   \n2      [2142664686, 1821145341, 2105740368, 2120678171]   \n3                               [2305721212, 270263451]   \n4                                             [7916806]   \n...                                                 ...   \n8329   [2112919840, 2145526017, 2599269601, 2306694419]   \n8330                                       [2070867630]   \n8331    [2777199248, 273224254, 2145238836, 2111851554]   \n8332                           [2082753280, 2559736284]   \n8333  [2141706349, 2132872148, 2170062325, 193140482...   \n\n                                        fos_id  \n0     [101369, 102929, 106036, 102766, 102680]  \n1     [100963, 102661, 101414, 102590, 102669]  \n2     [100970, 100270, 105001, 102262, 102502]  \n3     [103181, 105367, 102627, 105265, 105266]  \n4     [100963, 102669, 100270, 101294, 103154]  \n...                                        ...  \n8329  [100963, 104584, 101707, 101730, 102721]  \n8330  [100847, 100854, 102227, 104328, 101780]  \n8331  [100970, 100270, 103154, 104689, 103875]  \n8332  [101294, 103244, 105842, 105767, 103422]  \n8333  [101643, 104353, 105871, 101334, 101236]  \n\n[8334 rows x 16 columns]",
      "text/html": "<div>\n<style scoped>\n    .dataframe tbody tr th:only-of-type {\n        vertical-align: middle;\n    }\n\n    .dataframe tbody tr th {\n        vertical-align: top;\n    }\n\n    .dataframe thead th {\n        text-align: right;\n    }\n</style>\n<table border=\"1\" class=\"dataframe\">\n  <thead>\n    <tr style=\"text-align: right;\">\n      <th></th>\n      <th>paper_id</th>\n      <th>title</th>\n      <th>year</th>\n      <th>n_citation</th>\n      <th>page_start</th>\n      <th>page_end</th>\n      <th>doc_type</th>\n      <th>publisher</th>\n      <th>volume</th>\n      <th>issue</th>\n      <th>doi</th>\n      <th>references</th>\n      <th>abstract</th>\n      <th>venue_id</th>\n      <th>authors</th>\n      <th>fos_id</th>\n    </tr>\n  </thead>\n  <tbody>\n    <tr>\n      <th>0</th>\n      <td>101421652</td>\n      <td>The influence of query interface design on dec...</td>\n      <td>2003</td>\n      <td>139</td>\n      <td>397</td>\n      <td>423</td>\n      <td>Journal</td>\n      <td>Society for Information Management and The Man...</td>\n      <td>27</td>\n      <td>3</td>\n      <td>10.2307/30036539</td>\n      <td>[1516261653, 1978738035]</td>\n      <td>Managers in modern organizations are confronte...</td>\n      <td>57293258</td>\n      <td>[1973614237, 2113568395]</td>\n      <td>[101369, 102929, 106036, 102766, 102680]</td>\n    </tr>\n    <tr>\n      <th>1</th>\n      <td>1015675232</td>\n      <td>Research-paper recommender systems: a literatu...</td>\n      <td>2016</td>\n      <td>106</td>\n      <td>305</td>\n      <td>338</td>\n      <td>Journal</td>\n      <td>Springer Berlin Heidelberg</td>\n      <td>17</td>\n      <td>4</td>\n      <td>10.1007/s00799-015-0156-0</td>\n      <td>[1971040550, 2012451152, 2019443264, 205011383...</td>\n      <td>In the last 16 years, more than 200 research a...</td>\n      <td>110615584</td>\n      <td>[2032888927, 72611330, 2135709281, 2063223331]</td>\n      <td>[100963, 102661, 101414, 102590, 102669]</td>\n    </tr>\n    <tr>\n      <th>2</th>\n      <td>10311529</td>\n      <td>Technical Section: Sketch-based modeling: A su...</td>\n      <td>2009</td>\n      <td>236</td>\n      <td>85</td>\n      <td>103</td>\n      <td>Journal</td>\n      <td>Pergamon Press, Inc.</td>\n      <td>33</td>\n      <td>1</td>\n      <td>10.1016/j.cag.2008.09.013</td>\n      <td>[2075597533, 2118304946]</td>\n      <td>User interfaces in modeling have traditionally...</td>\n      <td>94821547</td>\n      <td>[2142664686, 1821145341, 2105740368, 2120678171]</td>\n      <td>[100970, 100270, 105001, 102262, 102502]</td>\n    </tr>\n    <tr>\n      <th>3</th>\n      <td>104754383</td>\n      <td>Shackled to the status quo: the inhibiting eff...</td>\n      <td>2012</td>\n      <td>215</td>\n      <td>21</td>\n      <td>42</td>\n      <td>Journal</td>\n      <td>Society for Information Management and The Man...</td>\n      <td>36</td>\n      <td>1</td>\n      <td>10.2307/41410404</td>\n      <td>[1758167268, 1918570226, 2098685541, 211598118...</td>\n      <td>Given that adoption of a new system often impl...</td>\n      <td>57293258</td>\n      <td>[2305721212, 270263451]</td>\n      <td>[103181, 105367, 102627, 105265, 105266]</td>\n    </tr>\n    <tr>\n      <th>4</th>\n      <td>108157922</td>\n      <td>The State of the Art in Text Filtering</td>\n      <td>1997</td>\n      <td>114</td>\n      <td>141</td>\n      <td>178</td>\n      <td>Journal</td>\n      <td>Kluwer Academic Publishers</td>\n      <td>7</td>\n      <td>3</td>\n      <td>10.1023/A:1008287121180</td>\n      <td>[]</td>\n      <td>This paper develops a conceptual framework for...</td>\n      <td>160628929</td>\n      <td>[7916806]</td>\n      <td>[100963, 102669, 100270, 101294, 103154]</td>\n    </tr>\n    <tr>\n      <th>...</th>\n      <td>...</td>\n      <td>...</td>\n      <td>...</td>\n      <td>...</td>\n      <td>...</td>\n      <td>...</td>\n      <td>...</td>\n      <td>...</td>\n      <td>...</td>\n      <td>...</td>\n      <td>...</td>\n      <td>...</td>\n      <td>...</td>\n      <td>...</td>\n      <td>...</td>\n      <td>...</td>\n    </tr>\n    <tr>\n      <th>8329</th>\n      <td>86453134</td>\n      <td>IDDQ testing: A review</td>\n      <td>1992</td>\n      <td>169</td>\n      <td>291</td>\n      <td>303</td>\n      <td>Journal</td>\n      <td>Springer US</td>\n      <td>3</td>\n      <td>4</td>\n      <td>10.1007/BF00135333</td>\n      <td>[]</td>\n      <td>Quiescent power supply current (I DDQ ) testin...</td>\n      <td>200807567</td>\n      <td>[2112919840, 2145526017, 2599269601, 2306694419]</td>\n      <td>[100963, 104584, 101707, 101730, 102721]</td>\n    </tr>\n    <tr>\n      <th>8330</th>\n      <td>90851268</td>\n      <td>Issues in computational Vickrey auctions</td>\n      <td>2000</td>\n      <td>108</td>\n      <td>107</td>\n      <td>129</td>\n      <td>Conference</td>\n      <td>M. E. Sharpe, Inc.</td>\n      <td>4</td>\n      <td>3</td>\n      <td>10.1080/10864415.2000.11518374</td>\n      <td>[]</td>\n      <td>The Vickrey auction has been widely advocated ...</td>\n      <td>1195874795</td>\n      <td>[2070867630]</td>\n      <td>[100847, 100854, 102227, 104328, 101780]</td>\n    </tr>\n    <tr>\n      <th>8331</th>\n      <td>914561379</td>\n      <td>A Robust and Efficient Video Representation fo...</td>\n      <td>2016</td>\n      <td>116</td>\n      <td>219</td>\n      <td>238</td>\n      <td>Journal</td>\n      <td>Springer US</td>\n      <td>119</td>\n      <td>3</td>\n      <td>10.1007/s11263-015-0846-5</td>\n      <td>[1966385142, 1984309565, 2020163092, 206861165...</td>\n      <td>This paper introduces a state-of-the-art video...</td>\n      <td>25538012</td>\n      <td>[2777199248, 273224254, 2145238836, 2111851554]</td>\n      <td>[100970, 100270, 103154, 104689, 103875]</td>\n    </tr>\n    <tr>\n      <th>8332</th>\n      <td>925742927</td>\n      <td>Sensitivity analysis: A review of recent advances</td>\n      <td>2016</td>\n      <td>130</td>\n      <td>869</td>\n      <td>887</td>\n      <td>Journal</td>\n      <td>Elsevier</td>\n      <td>248</td>\n      <td>3</td>\n      <td>10.1016/j.ejor.2015.06.032</td>\n      <td>[1979362125, 2148080122]</td>\n      <td>The solution of several operations research pr...</td>\n      <td>103321696</td>\n      <td>[2082753280, 2559736284]</td>\n      <td>[101294, 103244, 105842, 105767, 103422]</td>\n    </tr>\n    <tr>\n      <th>8333</th>\n      <td>9715319</td>\n      <td>Trust, satisfaction, and online repurchase int...</td>\n      <td>2014</td>\n      <td>120</td>\n      <td>407</td>\n      <td>427</td>\n      <td>Journal</td>\n      <td>Management Information Systems Research Center</td>\n      <td>38</td>\n      <td>2</td>\n      <td>10.25300/MISQ/2014/38.2.04</td>\n      <td>[1574235309, 1755842991, 2053076487, 206165088...</td>\n      <td>The effects of e-commerce institutional mechan...</td>\n      <td>57293258</td>\n      <td>[2141706349, 2132872148, 2170062325, 193140482...</td>\n      <td>[101643, 104353, 105871, 101334, 101236]</td>\n    </tr>\n  </tbody>\n</table>\n<p>8334 rows × 16 columns</p>\n</div>"
     },
     "execution_count": 10,
     "metadata": {},
     "output_type": "execute_result"
    }
   ],
   "source": [
    "paper_df = pd.merge(paper_df, old_df, how=\"left\", on=\"paper_id\")\n",
    "paper_df"
   ],
   "metadata": {
    "collapsed": false
   }
  },
  {
   "cell_type": "markdown",
   "source": [
    "Finally, we can store the two datasets in two separate files:"
   ],
   "metadata": {
    "collapsed": false
   }
  },
  {
   "cell_type": "code",
   "execution_count": 11,
   "outputs": [],
   "source": [
    "fos_df = fos_df.rename({\"fos_weight\": \"weight\", \"fos_name\": \"name\"}, axis=1)\n",
    "fos_df = fos_df[[\"id\", \"name\", \"weight\"]]\n",
    "fos_df.to_csv(\"fos_spark.csv\", encoding=\"UTF-8\", index=False, escapechar=\"|\")"
   ],
   "metadata": {
    "collapsed": false
   }
  },
  {
   "cell_type": "code",
   "execution_count": 12,
   "outputs": [],
   "source": [
    "paper_df.to_csv(\"paper_spark.csv\", encoding=\"UTF-8\", index=False, escapechar=\"|\")"
   ],
   "metadata": {
    "collapsed": false
   }
  }
 ],
 "metadata": {
  "kernelspec": {
   "display_name": "Python 3",
   "language": "python",
   "name": "python3"
  },
  "language_info": {
   "codemirror_mode": {
    "name": "ipython",
    "version": 2
   },
   "file_extension": ".py",
   "mimetype": "text/x-python",
   "name": "python",
   "nbconvert_exporter": "python",
   "pygments_lexer": "ipython2",
   "version": "2.7.6"
  }
 },
 "nbformat": 4,
 "nbformat_minor": 0
}
