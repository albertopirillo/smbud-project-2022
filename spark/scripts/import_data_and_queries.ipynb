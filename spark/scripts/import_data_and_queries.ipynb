{
 "cells": [
  {
   "cell_type": "code",
   "execution_count": null,
   "metadata": {
    "colab": {
     "base_uri": "https://localhost:8080/"
    },
    "id": "dGPxvhMW-vkX",
    "outputId": "c55f2c9c-eb71-4ba9-fcd9-bacd4d8dfab0"
   },
   "outputs": [
    {
     "output_type": "stream",
     "name": "stdout",
     "text": [
      "Looking in indexes: https://pypi.org/simple, https://us-python.pkg.dev/colab-wheels/public/simple/\n",
      "Collecting pyspark\n",
      "  Downloading pyspark-3.3.1.tar.gz (281.4 MB)\n",
      "\u001B[K     |████████████████████████████████| 281.4 MB 32 kB/s \n",
      "\u001B[?25hCollecting py4j==0.10.9.5\n",
      "  Downloading py4j-0.10.9.5-py2.py3-none-any.whl (199 kB)\n",
      "\u001B[K     |████████████████████████████████| 199 kB 46.9 MB/s \n",
      "\u001B[?25hBuilding wheels for collected packages: pyspark\n",
      "  Building wheel for pyspark (setup.py) ... \u001B[?25l\u001B[?25hdone\n",
      "  Created wheel for pyspark: filename=pyspark-3.3.1-py2.py3-none-any.whl size=281845512 sha256=33426a81aab6defcea8433ab2f3f088c98ccef2528341e66185b15799cc2af74\n",
      "  Stored in directory: /root/.cache/pip/wheels/43/dc/11/ec201cd671da62fa9c5cc77078235e40722170ceba231d7598\n",
      "Successfully built pyspark\n",
      "Installing collected packages: py4j, pyspark\n",
      "Successfully installed py4j-0.10.9.5 pyspark-3.3.1\n"
     ]
    }
   ],
   "source": [
    "!pip install pyspark"
   ],
   "id": "dGPxvhMW-vkX"
  },
  {
   "cell_type": "code",
   "execution_count": null,
   "metadata": {
    "id": "72909aec-742a-452b-a118-6c500790b96a"
   },
   "outputs": [],
   "source": [
    "# Import the basic spark library\n",
    "from pyspark.sql import SparkSession\n",
    "from pyspark.sql.types import StructType, StructField, StringType, FloatType, LongType, IntegerType\n",
    "from pyspark.sql.functions import col, split, regexp_replace\n",
    "\n",
    "# Create an entry point to the PySpark Application\n",
    "spark = SparkSession.builder \\\n",
    "      .master(\"local\") \\\n",
    "      .appName(\"SMBUD-Project\") \\\n",
    "      .getOrCreate()\n",
    "# master contains the URL of your remote spark instance or 'local'"
   ],
   "id": "72909aec-742a-452b-a118-6c500790b96a"
  },
  {
   "cell_type": "code",
   "execution_count": null,
   "metadata": {
    "id": "oF3NTh57IUjK"
   },
   "outputs": [],
   "source": [
    "schema_paper = StructType([\n",
    "    StructField(\"id\", StringType(), False),\n",
    "    StructField(\"title\", StringType(), False),\n",
    "    StructField(\"year\", IntegerType(), True),\n",
    "    StructField(\"n_citation\", IntegerType(), True),\n",
    "    StructField(\"page_start\", IntegerType(), True),\n",
    "    StructField(\"page_end\", IntegerType(), True),\n",
    "    StructField(\"doc_type\", StringType(), True),\n",
    "    StructField(\"publisher\", StringType(), True),\n",
    "    StructField(\"volume\", IntegerType(), True),\n",
    "    StructField(\"issue\", IntegerType(), True),\n",
    "    StructField(\"doi\", StringType(), True),\n",
    "    StructField(\"references\", StringType(), True),\n",
    "    StructField(\"abstract\", StringType(), True),\n",
    "    StructField(\"venue_id\", LongType(), True), \n",
    "    StructField(\"authors_id\", StringType(), True),\n",
    "    StructField(\"fos_id\", StringType(), True)\n",
    "])"
   ],
   "id": "oF3NTh57IUjK"
  },
  {
   "cell_type": "code",
   "execution_count": null,
   "metadata": {
    "id": "CVdzAZm2KTF7"
   },
   "outputs": [],
   "source": [
    "schema_author = StructType([\n",
    "    StructField(\"id\", StringType(), False),\n",
    "    StructField(\"name\", StringType(), False),\n",
    "    StructField(\"org\", StringType(), True)\n",
    "])"
   ],
   "id": "CVdzAZm2KTF7"
  },
  {
   "cell_type": "code",
   "execution_count": null,
   "metadata": {
    "id": "Dly4xtlRKTNF"
   },
   "outputs": [],
   "source": [
    "schema_venue = StructType([\n",
    "    StructField(\"id\", LongType(), False),\n",
    "    StructField(\"name\", StringType(), False),\n",
    "])"
   ],
   "id": "Dly4xtlRKTNF"
  },
  {
   "cell_type": "code",
   "execution_count": null,
   "metadata": {
    "id": "i5meoykUKTYU"
   },
   "outputs": [],
   "source": [
    "schema_fos = StructType([\n",
    "    StructField(\"id\", StringType(), False),\n",
    "    StructField(\"name\", StringType(), False),\n",
    "    StructField(\"weight\", FloatType(), True)\n",
    "])"
   ],
   "id": "i5meoykUKTYU"
  },
  {
   "cell_type": "code",
   "execution_count": null,
   "metadata": {
    "colab": {
     "base_uri": "https://localhost:8080/"
    },
    "id": "ESkGarlJP_AZ",
    "outputId": "44347f8a-07b0-47c3-ffdc-50149eed8bd9"
   },
   "outputs": [
    {
     "output_type": "stream",
     "name": "stdout",
     "text": [
      "+----------+--------------------+----+----------+----------+--------+--------+--------------------+------+-----+--------------------+--------------------+--------------------+---------+--------------------+--------------------+\n",
      "|        id|               title|year|n_citation|page_start|page_end|doc_type|           publisher|volume|issue|                 doi|          references|            abstract| venue_id|          authors_id|              fos_id|\n",
      "+----------+--------------------+----+----------+----------+--------+--------+--------------------+------+-----+--------------------+--------------------+--------------------+---------+--------------------+--------------------+\n",
      "| 101421652|The influence of ...|2003|       139|       397|     423| Journal|Society for Infor...|    27|    3|    10.2307/30036539|[1516261653, 1978...|Managers in moder...| 57293258|[1973614237, 2113...|[101369, 102929, ...|\n",
      "|1015675232|Research-paper re...|2016|       106|       305|     338| Journal|Springer Berlin H...|    17|    4|10.1007/s00799-01...|[1971040550, 2012...|In the last 16 ye...|110615584|[2032888927, 7261...|[100963, 102661, ...|\n",
      "|  10311529|Technical Section...|2009|       236|        85|     103| Journal|Pergamon Press, Inc.|    33|    1|10.1016/j.cag.200...|[2075597533, 2118...|User interfaces i...| 94821547|[2142664686, 1821...|[100970, 100270, ...|\n",
      "| 104754383|Shackled to the s...|2012|       215|        21|      42| Journal|Society for Infor...|    36|    1|    10.2307/41410404|[1758167268, 1918...|Given that adopti...| 57293258|[2305721212, 2702...|[103181, 105367, ...|\n",
      "| 108157922|The State of the ...|1997|       114|       141|     178| Journal|Kluwer Academic P...|     7|    3|10.1023/A:1008287...|                  []|This paper develo...|160628929|           [7916806]|[100963, 102669, ...|\n",
      "| 112035675|Understanding fit...|2001|       414|       167|     193| Journal|Society for Infor...|    25|    2|     10.2307/3250928|        [1595507819]|Many previous pap...| 57293258|[2166812292, 2345...|[102929, 103181, ...|\n",
      "| 115183765|Technostress: tec...|2011|       287|       831|     858| Journal|Society for Infor...|    35|    4|    10.2307/41409963|[1510394286, 1721...|With the prolifer...| 57293258|[2810578957, 2139...|[102929, 101642, ...|\n",
      "| 117893956|Survey paper: A s...|2005|       273|       510|     522| Journal|Elsevier Science ...|    56|    6|10.1016/j.compind...|[2041748119, 2171...|The research lite...| 60779006|[2670665203, 2139...|[102590, 101773, ...|\n",
      "|1219527654|Business intellig...|2012|       154|      1189|    1216| Journal|Society for Infor...|    36|    4|    10.2307/41703504|[1565251461, 2033...|The increasing po...| 57293258|[2129815074, 2161...|[102929, 100963, ...|\n",
      "|  12532419|Variational Optic...|2001|       215|       245|     255| Journal|Kluwer Academic P...|    14|    3|10.1023/A:1011286...|[1538585633, 1572...|Nonquadratic vari...| 66221708|[2138654397, 2155...|[103244, 103247, ...|\n",
      "|1276866904|Positioning and p...|2013|       665|       337|     356| Journal|M I S Research Ce...|    37|    2|10.25300/MISQ/201...|[1532730203, 1565...|Design science re...| 57293258|[2105053171, 1441...|[102929, 102680, ...|\n",
      "| 127809959|Coherence-Enhanci...|1999|       594|       111|     127| Journal|Kluwer Academic P...|    31|    2|10.1023/A:1008009...|        [1970269179]|The completion of...| 25538012|        [2138654397]|[100963, 100970, ...|\n",
      "| 134908229|The adoption and ...|2003|       154|       289|     323| Journal|Society for Infor...|    27|    2|    10.2307/30036532|[112035675, 15955...|This paper report...| 57293258|[2166812292, 2083...|[102929, 103952, ...|\n",
      "| 136147141|Ontology alignmen...|2011|       162|       158|     192| Journal|Springer, Berlin,...|    15| 6720|10.1007/978-3-642...|[2015191210, 2047...|In the area of se...|169174478|[1501542852, 2027...|[101294, 104238, ...|\n",
      "| 139533467|Password Authenti...|2006|       112|       101|     115| Journal|    捷頂科技有限公司|     3|    2|10.6633/IJNS.2006...|                  []|Password authenti...|189576285|[2155053486, 2132...|[104719, 106062, ...|\n",
      "| 141544107|Interactive decis...|2009|       115|       293|     320| Journal|Society for Infor...|    33|    2|    10.2307/20650293|[1511558225, 1576...|This paper extend...| 57293258|[2097653800, 3716...|[102929, 101357, ...|\n",
      "|1422679120|Interval-valued i...|2016|       101|       183|     191| Journal|            Elsevier|   248|    1|10.1016/j.ejor.20...|[2002574279, 2009...|Inter-dependency ...|103321696|[2533355144, 2150...|[103244, 102173, ...|\n",
      "|1424318399|A review of defin...|2016|       125|        47|      61| Journal|            Elsevier|   145|  145|10.1016/j.ress.20...|        [1980156780]|Modeling and eval...|202403813|[2493856869, 2163...|[101773, 104584, ...|\n",
      "| 145670326|Survey paper: A s...|2012|       161|       940|     965| Journal|Elsevier North-Ho...|    56|    2|10.1016/j.comnet....|[2149863032, 2150...|Wireless networki...| 63392143|[2025045516, 2125...|[100960, 101552, ...|\n",
      "|1480498941|Automatic Detecti...|1999|       154|        63|      77| Journal|Kluwer Academic P...|    32|    1|10.1023/A:1008145...|        [2134864374]|This paper demons...| 25538012|[2003447161, 2131...|[100970, 100270, ...|\n",
      "+----------+--------------------+----+----------+----------+--------+--------+--------------------+------+-----+--------------------+--------------------+--------------------+---------+--------------------+--------------------+\n",
      "only showing top 20 rows\n",
      "\n"
     ]
    }
   ],
   "source": [
    "paper_df = spark.read.option(\"header\", True).option(\"delimiter\", \",\").option(\"quote\", '\"').option(\"escape\", '\"').schema(schema_paper).csv(\"paper_spark.csv\")\n",
    "author_df = spark.read.option(\"header\", True).option(\"delimiter\", \",\").schema(schema_author).csv(\"author_spark.csv\")\n",
    "venue_df = spark.read.option(\"header\", True).option(\"delimiter\", \",\").schema(schema_venue).csv(\"venue_spark.csv\")\n",
    "fos_df = spark.read.option(\"header\", True).option(\"delimiter\", \",\").schema(schema_fos).csv(\"fos_spark.csv\")\n",
    "paper_df.show()\n"
   ],
   "id": "ESkGarlJP_AZ"
  },
  {
   "cell_type": "code",
   "execution_count": null,
   "metadata": {
    "colab": {
     "base_uri": "https://localhost:8080/"
    },
    "id": "WN0ljxznZNeW",
    "outputId": "dc4a7d3b-3456-48c5-8adc-24e7cb0d2602"
   },
   "outputs": [
    {
     "output_type": "stream",
     "name": "stdout",
     "text": [
      "+----------+--------------------+----+----------+----------+--------+--------+--------------------+------+-----+--------------------+--------------------+--------------------+---------+--------------------+--------------------+\n",
      "|        id|               title|year|n_citation|page_start|page_end|doc_type|           publisher|volume|issue|                 doi|          references|            abstract| venue_id|          authors_id|              fos_id|\n",
      "+----------+--------------------+----+----------+----------+--------+--------+--------------------+------+-----+--------------------+--------------------+--------------------+---------+--------------------+--------------------+\n",
      "| 101421652|The influence of ...|2003|       139|       397|     423| Journal|Society for Infor...|    27|    3|    10.2307/30036539|[1516261653,  197...|Managers in moder...| 57293258|[1973614237,  211...|[101369,  102929,...|\n",
      "|1015675232|Research-paper re...|2016|       106|       305|     338| Journal|Springer Berlin H...|    17|    4|10.1007/s00799-01...|[1971040550,  201...|In the last 16 ye...|110615584|[2032888927,  726...|[100963,  102661,...|\n",
      "|  10311529|Technical Section...|2009|       236|        85|     103| Journal|Pergamon Press, Inc.|    33|    1|10.1016/j.cag.200...|[2075597533,  211...|User interfaces i...| 94821547|[2142664686,  182...|[100970,  100270,...|\n",
      "| 104754383|Shackled to the s...|2012|       215|        21|      42| Journal|Society for Infor...|    36|    1|    10.2307/41410404|[1758167268,  191...|Given that adopti...| 57293258|[2305721212,  270...|[103181,  105367,...|\n",
      "| 108157922|The State of the ...|1997|       114|       141|     178| Journal|Kluwer Academic P...|     7|    3|10.1023/A:1008287...|                  []|This paper develo...|160628929|           [7916806]|[100963,  102669,...|\n",
      "| 112035675|Understanding fit...|2001|       414|       167|     193| Journal|Society for Infor...|    25|    2|     10.2307/3250928|        [1595507819]|Many previous pap...| 57293258|[2166812292,  234...|[102929,  103181,...|\n",
      "| 115183765|Technostress: tec...|2011|       287|       831|     858| Journal|Society for Infor...|    35|    4|    10.2307/41409963|[1510394286,  172...|With the prolifer...| 57293258|[2810578957,  213...|[102929,  101642,...|\n",
      "| 117893956|Survey paper: A s...|2005|       273|       510|     522| Journal|Elsevier Science ...|    56|    6|10.1016/j.compind...|[2041748119,  217...|The research lite...| 60779006|[2670665203,  213...|[102590,  101773,...|\n",
      "|1219527654|Business intellig...|2012|       154|      1189|    1216| Journal|Society for Infor...|    36|    4|    10.2307/41703504|[1565251461,  203...|The increasing po...| 57293258|[2129815074,  216...|[102929,  100963,...|\n",
      "|  12532419|Variational Optic...|2001|       215|       245|     255| Journal|Kluwer Academic P...|    14|    3|10.1023/A:1011286...|[1538585633,  157...|Nonquadratic vari...| 66221708|[2138654397,  215...|[103244,  103247,...|\n",
      "|1276866904|Positioning and p...|2013|       665|       337|     356| Journal|M I S Research Ce...|    37|    2|10.25300/MISQ/201...|[1532730203,  156...|Design science re...| 57293258|[2105053171,  144...|[102929,  102680,...|\n",
      "| 127809959|Coherence-Enhanci...|1999|       594|       111|     127| Journal|Kluwer Academic P...|    31|    2|10.1023/A:1008009...|        [1970269179]|The completion of...| 25538012|        [2138654397]|[100963,  100970,...|\n",
      "| 134908229|The adoption and ...|2003|       154|       289|     323| Journal|Society for Infor...|    27|    2|    10.2307/30036532|[112035675,  1595...|This paper report...| 57293258|[2166812292,  208...|[102929,  103952,...|\n",
      "| 136147141|Ontology alignmen...|2011|       162|       158|     192| Journal|Springer, Berlin,...|    15| 6720|10.1007/978-3-642...|[2015191210,  204...|In the area of se...|169174478|[1501542852,  202...|[101294,  104238,...|\n",
      "| 139533467|Password Authenti...|2006|       112|       101|     115| Journal|    捷頂科技有限公司|     3|    2|10.6633/IJNS.2006...|                  []|Password authenti...|189576285|[2155053486,  213...|[104719,  106062,...|\n",
      "| 141544107|Interactive decis...|2009|       115|       293|     320| Journal|Society for Infor...|    33|    2|    10.2307/20650293|[1511558225,  157...|This paper extend...| 57293258|[2097653800,  371...|[102929,  101357,...|\n",
      "|1422679120|Interval-valued i...|2016|       101|       183|     191| Journal|            Elsevier|   248|    1|10.1016/j.ejor.20...|[2002574279,  200...|Inter-dependency ...|103321696|[2533355144,  215...|[103244,  102173,...|\n",
      "|1424318399|A review of defin...|2016|       125|        47|      61| Journal|            Elsevier|   145|  145|10.1016/j.ress.20...|        [1980156780]|Modeling and eval...|202403813|[2493856869,  216...|[101773,  104584,...|\n",
      "| 145670326|Survey paper: A s...|2012|       161|       940|     965| Journal|Elsevier North-Ho...|    56|    2|10.1016/j.comnet....|[2149863032,  215...|Wireless networki...| 63392143|[2025045516,  212...|[100960,  101552,...|\n",
      "|1480498941|Automatic Detecti...|1999|       154|        63|      77| Journal|Kluwer Academic P...|    32|    1|10.1023/A:1008145...|        [2134864374]|This paper demons...| 25538012|[2003447161,  213...|[100970,  100270,...|\n",
      "+----------+--------------------+----+----------+----------+--------+--------+--------------------+------+-----+--------------------+--------------------+--------------------+---------+--------------------+--------------------+\n",
      "only showing top 20 rows\n",
      "\n",
      "root\n",
      " |-- id: string (nullable = true)\n",
      " |-- title: string (nullable = true)\n",
      " |-- year: integer (nullable = true)\n",
      " |-- n_citation: integer (nullable = true)\n",
      " |-- page_start: integer (nullable = true)\n",
      " |-- page_end: integer (nullable = true)\n",
      " |-- doc_type: string (nullable = true)\n",
      " |-- publisher: string (nullable = true)\n",
      " |-- volume: integer (nullable = true)\n",
      " |-- issue: integer (nullable = true)\n",
      " |-- doi: string (nullable = true)\n",
      " |-- references: array (nullable = true)\n",
      " |    |-- element: string (containsNull = false)\n",
      " |-- abstract: string (nullable = true)\n",
      " |-- venue_id: long (nullable = true)\n",
      " |-- authors_id: array (nullable = true)\n",
      " |    |-- element: string (containsNull = false)\n",
      " |-- fos_id: array (nullable = true)\n",
      " |    |-- element: string (containsNull = false)\n",
      "\n"
     ]
    }
   ],
   "source": [
    "paper_df = paper_df.withColumn(\"references\", split(regexp_replace(col(\"references\"), \"[\\\\[\\\\]]\", \"\"), \",\"))\n",
    "\n",
    "paper_df = paper_df.withColumn(\"authors_id\", split(regexp_replace(col(\"authors_id\"), '[\\\\[\\\\]]', \"\"), \",\"))\n",
    "\n",
    "paper_df = paper_df.withColumn(\"fos_id\", split(regexp_replace(col(\"fos_id\"), '[\\\\[\\\\]]', \"\"), \",\"))\n",
    "\n",
    "\n",
    "paper_df.show() \n",
    "paper_df.printSchema()"
   ],
   "id": "WN0ljxznZNeW"
  },
  {
   "cell_type": "code",
   "execution_count": null,
   "metadata": {
    "colab": {
     "base_uri": "https://localhost:8080/"
    },
    "id": "2szyMn_cYzfJ",
    "outputId": "fd5c77a0-b367-4066-94fd-d477547165cb"
   },
   "outputs": [
    {
     "output_type": "stream",
     "name": "stdout",
     "text": [
      "+-------+--------------------+--------------------+\n",
      "|     id|                name|                 org|\n",
      "+-------+--------------------+--------------------+\n",
      "|  92905|Khan M. Iftekharu...|                null|\n",
      "| 334463|     Manuel Calimlim|                null|\n",
      "| 475755|     Brian B. Avants|University of Pen...|\n",
      "|1167003|  Michele Angelaccio|Dipartimento di I...|\n",
      "|1336878|Francisco Casacub...| Departament d'En...|\n",
      "|1532108|        Petr Musilek|Department of Ele...|\n",
      "|1541821|     Jean Tourrilhes|Hewlett Packard L...|\n",
      "|1923294|      Rachel Karchin|Johns Hopkins Uni...|\n",
      "|1998877|      Max Wintermark|                null|\n",
      "|2049838|        Doina Precup|Univ. of Massachu...|\n",
      "|2272828|     Daniel B. Szyld|Department of Mat...|\n",
      "|2352948|    Andrzej Tarlecki|Institute of Info...|\n",
      "|2452435|    Peter Langfelder|Human Genetics, D...|\n",
      "|2730879| Alexander G. Parlos|                null|\n",
      "|2791808|   Gregory R. Ganger|Carnegie Mellon U...|\n",
      "|2808181|        Øystein Sæbø|Department of Inf...|\n",
      "|2893888|Michael J. Cafarella|University of Was...|\n",
      "|3356812|     Roberto Navigli|Dipt. di Inf., Un...|\n",
      "|3501950|  Songsak Tongchusak|Cancer Vaccine Ce...|\n",
      "|3709560|Alexey G. Malishe...|Computer Science ...|\n",
      "+-------+--------------------+--------------------+\n",
      "only showing top 20 rows\n",
      "\n"
     ]
    }
   ],
   "source": [
    "author_df.show()"
   ],
   "id": "2szyMn_cYzfJ"
  },
  {
   "cell_type": "code",
   "execution_count": null,
   "metadata": {
    "colab": {
     "base_uri": "https://localhost:8080/"
    },
    "id": "cKvho7LzZddk",
    "outputId": "5554b644-94dd-472f-bf53-9b514ad8ee83"
   },
   "outputs": [
    {
     "output_type": "stream",
     "name": "stdout",
     "text": [
      "+-------+--------------------+\n",
      "|     id|                name|\n",
      "+-------+--------------------+\n",
      "| 235346|Wireless Communic...|\n",
      "| 267729|International Tra...|\n",
      "| 414566| Pattern Recognition|\n",
      "|1137746|The Artist and Jo...|\n",
      "|1250476|Journal of Intern...|\n",
      "|2181302|     Artificial Life|\n",
      "|2508752|Business Process ...|\n",
      "|2642811|ACM Transactions ...|\n",
      "|2793317|IEEE Personal Com...|\n",
      "|3084184|Computer Networks...|\n",
      "|3444786|    Neuroinformatics|\n",
      "|4357572|Multiscale Modeli...|\n",
      "|4502562|IEEE Transactions...|\n",
      "|4650632|International Jou...|\n",
      "|4921394|Synthesis Lecture...|\n",
      "|5240358|IEEE Transactions...|\n",
      "|5405189|Autonomous Agents...|\n",
      "|5437875|Statistics and Co...|\n",
      "|5743915|Journal of Comput...|\n",
      "|6068926|Journal of Roboti...|\n",
      "+-------+--------------------+\n",
      "only showing top 20 rows\n",
      "\n"
     ]
    }
   ],
   "source": [
    "venue_df.show()"
   ],
   "id": "cKvho7LzZddk"
  },
  {
   "cell_type": "code",
   "execution_count": null,
   "metadata": {
    "colab": {
     "base_uri": "https://localhost:8080/"
    },
    "id": "ECL89vzGZfYw",
    "outputId": "00e4681e-0fa6-4072-86b7-a9e266c21bdd"
   },
   "outputs": [
    {
     "output_type": "stream",
     "name": "stdout",
     "text": [
      "+------+--------------------+----------+\n",
      "|    id|                name|    weight|\n",
      "+------+--------------------+----------+\n",
      "|100000|      1-planar graph|  0.705774|\n",
      "|100001|               2-opt| 0.6810858|\n",
      "|100002|              32-bit| 0.4352937|\n",
      "|100003|3D computer graphics| 0.6133576|\n",
      "|100004|         3D modeling|0.50386775|\n",
      "|100005|  3D pose estimation|  0.655267|\n",
      "|100006|       3D projection|0.44360808|\n",
      "|100007|   3D reconstruction| 0.5311444|\n",
      "|100008|        3D rendering|  0.561983|\n",
      "|100009|3D single-object ...| 0.6807582|\n",
      "|100010|             3G MIMO|0.71666193|\n",
      "|100011|                3SUM|  0.539558|\n",
      "|100012|   56-bit encryption|0.64342797|\n",
      "|100013|            AC power| 0.4781577|\n",
      "|100014|              AISoy1|0.65707874|\n",
      "|100015|                AIXI|0.64854145|\n",
      "|100016|                 AKA|       0.0|\n",
      "|100017|               ALARM|0.47861043|\n",
      "|100018|            ALGOL 68|0.54209197|\n",
      "|100019|            AND gate|0.41407737|\n",
      "+------+--------------------+----------+\n",
      "only showing top 20 rows\n",
      "\n"
     ]
    }
   ],
   "source": [
    "fos_df.show()"
   ],
   "id": "ECL89vzGZfYw"
  },
  {
   "cell_type": "markdown",
   "metadata": {
    "id": "eciB7GYhdj3-"
   },
   "source": [
    "# Data Creation/Update Operations"
   ],
   "id": "eciB7GYhdj3-"
  },
  {
   "cell_type": "markdown",
   "metadata": {
    "id": "ng8-EIp3qUlK"
   },
   "source": [
    "Drop the column 'year' from paper_df"
   ],
   "id": "ng8-EIp3qUlK"
  },
  {
   "cell_type": "code",
   "execution_count": null,
   "metadata": {
    "colab": {
     "base_uri": "https://localhost:8080/"
    },
    "id": "g86Hzf3edc-G",
    "outputId": "fe2f0f07-fd31-4819-eade-9ef983018e18"
   },
   "outputs": [
    {
     "output_type": "stream",
     "name": "stdout",
     "text": [
      "+----------+--------------------+----------+----------+--------+--------+--------------------+------+-----+--------------------+--------------------+--------------------+---------+--------------------+--------------------+\n",
      "|        id|               title|n_citation|page_start|page_end|doc_type|           publisher|volume|issue|                 doi|          references|            abstract| venue_id|          authors_id|              fos_id|\n",
      "+----------+--------------------+----------+----------+--------+--------+--------------------+------+-----+--------------------+--------------------+--------------------+---------+--------------------+--------------------+\n",
      "| 101421652|The influence of ...|       139|       397|     423| Journal|Society for Infor...|    27|    3|    10.2307/30036539|[1516261653,  197...|Managers in moder...| 57293258|[1973614237,  211...|[101369,  102929,...|\n",
      "|1015675232|Research-paper re...|       106|       305|     338| Journal|Springer Berlin H...|    17|    4|10.1007/s00799-01...|[1971040550,  201...|In the last 16 ye...|110615584|[2032888927,  726...|[100963,  102661,...|\n",
      "|  10311529|Technical Section...|       236|        85|     103| Journal|Pergamon Press, Inc.|    33|    1|10.1016/j.cag.200...|[2075597533,  211...|User interfaces i...| 94821547|[2142664686,  182...|[100970,  100270,...|\n",
      "| 104754383|Shackled to the s...|       215|        21|      42| Journal|Society for Infor...|    36|    1|    10.2307/41410404|[1758167268,  191...|Given that adopti...| 57293258|[2305721212,  270...|[103181,  105367,...|\n",
      "| 108157922|The State of the ...|       114|       141|     178| Journal|Kluwer Academic P...|     7|    3|10.1023/A:1008287...|                  []|This paper develo...|160628929|           [7916806]|[100963,  102669,...|\n",
      "| 112035675|Understanding fit...|       414|       167|     193| Journal|Society for Infor...|    25|    2|     10.2307/3250928|        [1595507819]|Many previous pap...| 57293258|[2166812292,  234...|[102929,  103181,...|\n",
      "| 115183765|Technostress: tec...|       287|       831|     858| Journal|Society for Infor...|    35|    4|    10.2307/41409963|[1510394286,  172...|With the prolifer...| 57293258|[2810578957,  213...|[102929,  101642,...|\n",
      "| 117893956|Survey paper: A s...|       273|       510|     522| Journal|Elsevier Science ...|    56|    6|10.1016/j.compind...|[2041748119,  217...|The research lite...| 60779006|[2670665203,  213...|[102590,  101773,...|\n",
      "|1219527654|Business intellig...|       154|      1189|    1216| Journal|Society for Infor...|    36|    4|    10.2307/41703504|[1565251461,  203...|The increasing po...| 57293258|[2129815074,  216...|[102929,  100963,...|\n",
      "|  12532419|Variational Optic...|       215|       245|     255| Journal|Kluwer Academic P...|    14|    3|10.1023/A:1011286...|[1538585633,  157...|Nonquadratic vari...| 66221708|[2138654397,  215...|[103244,  103247,...|\n",
      "|1276866904|Positioning and p...|       665|       337|     356| Journal|M I S Research Ce...|    37|    2|10.25300/MISQ/201...|[1532730203,  156...|Design science re...| 57293258|[2105053171,  144...|[102929,  102680,...|\n",
      "| 127809959|Coherence-Enhanci...|       594|       111|     127| Journal|Kluwer Academic P...|    31|    2|10.1023/A:1008009...|        [1970269179]|The completion of...| 25538012|        [2138654397]|[100963,  100970,...|\n",
      "| 134908229|The adoption and ...|       154|       289|     323| Journal|Society for Infor...|    27|    2|    10.2307/30036532|[112035675,  1595...|This paper report...| 57293258|[2166812292,  208...|[102929,  103952,...|\n",
      "| 136147141|Ontology alignmen...|       162|       158|     192| Journal|Springer, Berlin,...|    15| 6720|10.1007/978-3-642...|[2015191210,  204...|In the area of se...|169174478|[1501542852,  202...|[101294,  104238,...|\n",
      "| 139533467|Password Authenti...|       112|       101|     115| Journal|    捷頂科技有限公司|     3|    2|10.6633/IJNS.2006...|                  []|Password authenti...|189576285|[2155053486,  213...|[104719,  106062,...|\n",
      "| 141544107|Interactive decis...|       115|       293|     320| Journal|Society for Infor...|    33|    2|    10.2307/20650293|[1511558225,  157...|This paper extend...| 57293258|[2097653800,  371...|[102929,  101357,...|\n",
      "|1422679120|Interval-valued i...|       101|       183|     191| Journal|            Elsevier|   248|    1|10.1016/j.ejor.20...|[2002574279,  200...|Inter-dependency ...|103321696|[2533355144,  215...|[103244,  102173,...|\n",
      "|1424318399|A review of defin...|       125|        47|      61| Journal|            Elsevier|   145|  145|10.1016/j.ress.20...|        [1980156780]|Modeling and eval...|202403813|[2493856869,  216...|[101773,  104584,...|\n",
      "| 145670326|Survey paper: A s...|       161|       940|     965| Journal|Elsevier North-Ho...|    56|    2|10.1016/j.comnet....|[2149863032,  215...|Wireless networki...| 63392143|[2025045516,  212...|[100960,  101552,...|\n",
      "|1480498941|Automatic Detecti...|       154|        63|      77| Journal|Kluwer Academic P...|    32|    1|10.1023/A:1008145...|        [2134864374]|This paper demons...| 25538012|[2003447161,  213...|[100970,  100270,...|\n",
      "+----------+--------------------+----------+----------+--------+--------+--------------------+------+-----+--------------------+--------------------+--------------------+---------+--------------------+--------------------+\n",
      "only showing top 20 rows\n",
      "\n"
     ]
    }
   ],
   "source": [
    "paper_df.drop(paper_df.year) \\\n",
    "  .show()"
   ],
   "id": "g86Hzf3edc-G"
  },
  {
   "cell_type": "markdown",
   "metadata": {
    "id": "jXJeS-wDqcee"
   },
   "source": [
    "Drop the columns 'page_start' and 'page_end' from paper_df"
   ],
   "id": "jXJeS-wDqcee"
  },
  {
   "cell_type": "code",
   "execution_count": null,
   "metadata": {
    "colab": {
     "base_uri": "https://localhost:8080/"
    },
    "id": "aPcXARNig8Fw",
    "outputId": "af6ea284-09b4-4f0e-98fe-659863e86b81"
   },
   "outputs": [
    {
     "output_type": "stream",
     "name": "stdout",
     "text": [
      "+----------+--------------------+----+----------+--------+--------------------+------+-----+--------------------+--------------------+--------------------+---------+--------------------+--------------------+\n",
      "|        id|               title|year|n_citation|doc_type|           publisher|volume|issue|                 doi|          references|            abstract| venue_id|          authors_id|              fos_id|\n",
      "+----------+--------------------+----+----------+--------+--------------------+------+-----+--------------------+--------------------+--------------------+---------+--------------------+--------------------+\n",
      "| 101421652|The influence of ...|2003|       139| Journal|Society for Infor...|    27|    3|    10.2307/30036539|[1516261653,  197...|Managers in moder...| 57293258|[1973614237,  211...|[101369,  102929,...|\n",
      "|1015675232|Research-paper re...|2016|       106| Journal|Springer Berlin H...|    17|    4|10.1007/s00799-01...|[1971040550,  201...|In the last 16 ye...|110615584|[2032888927,  726...|[100963,  102661,...|\n",
      "|  10311529|Technical Section...|2009|       236| Journal|Pergamon Press, Inc.|    33|    1|10.1016/j.cag.200...|[2075597533,  211...|User interfaces i...| 94821547|[2142664686,  182...|[100970,  100270,...|\n",
      "| 104754383|Shackled to the s...|2012|       215| Journal|Society for Infor...|    36|    1|    10.2307/41410404|[1758167268,  191...|Given that adopti...| 57293258|[2305721212,  270...|[103181,  105367,...|\n",
      "| 108157922|The State of the ...|1997|       114| Journal|Kluwer Academic P...|     7|    3|10.1023/A:1008287...|                  []|This paper develo...|160628929|           [7916806]|[100963,  102669,...|\n",
      "| 112035675|Understanding fit...|2001|       414| Journal|Society for Infor...|    25|    2|     10.2307/3250928|        [1595507819]|Many previous pap...| 57293258|[2166812292,  234...|[102929,  103181,...|\n",
      "| 115183765|Technostress: tec...|2011|       287| Journal|Society for Infor...|    35|    4|    10.2307/41409963|[1510394286,  172...|With the prolifer...| 57293258|[2810578957,  213...|[102929,  101642,...|\n",
      "| 117893956|Survey paper: A s...|2005|       273| Journal|Elsevier Science ...|    56|    6|10.1016/j.compind...|[2041748119,  217...|The research lite...| 60779006|[2670665203,  213...|[102590,  101773,...|\n",
      "|1219527654|Business intellig...|2012|       154| Journal|Society for Infor...|    36|    4|    10.2307/41703504|[1565251461,  203...|The increasing po...| 57293258|[2129815074,  216...|[102929,  100963,...|\n",
      "|  12532419|Variational Optic...|2001|       215| Journal|Kluwer Academic P...|    14|    3|10.1023/A:1011286...|[1538585633,  157...|Nonquadratic vari...| 66221708|[2138654397,  215...|[103244,  103247,...|\n",
      "|1276866904|Positioning and p...|2013|       665| Journal|M I S Research Ce...|    37|    2|10.25300/MISQ/201...|[1532730203,  156...|Design science re...| 57293258|[2105053171,  144...|[102929,  102680,...|\n",
      "| 127809959|Coherence-Enhanci...|1999|       594| Journal|Kluwer Academic P...|    31|    2|10.1023/A:1008009...|        [1970269179]|The completion of...| 25538012|        [2138654397]|[100963,  100970,...|\n",
      "| 134908229|The adoption and ...|2003|       154| Journal|Society for Infor...|    27|    2|    10.2307/30036532|[112035675,  1595...|This paper report...| 57293258|[2166812292,  208...|[102929,  103952,...|\n",
      "| 136147141|Ontology alignmen...|2011|       162| Journal|Springer, Berlin,...|    15| 6720|10.1007/978-3-642...|[2015191210,  204...|In the area of se...|169174478|[1501542852,  202...|[101294,  104238,...|\n",
      "| 139533467|Password Authenti...|2006|       112| Journal|    捷頂科技有限公司|     3|    2|10.6633/IJNS.2006...|                  []|Password authenti...|189576285|[2155053486,  213...|[104719,  106062,...|\n",
      "| 141544107|Interactive decis...|2009|       115| Journal|Society for Infor...|    33|    2|    10.2307/20650293|[1511558225,  157...|This paper extend...| 57293258|[2097653800,  371...|[102929,  101357,...|\n",
      "|1422679120|Interval-valued i...|2016|       101| Journal|            Elsevier|   248|    1|10.1016/j.ejor.20...|[2002574279,  200...|Inter-dependency ...|103321696|[2533355144,  215...|[103244,  102173,...|\n",
      "|1424318399|A review of defin...|2016|       125| Journal|            Elsevier|   145|  145|10.1016/j.ress.20...|        [1980156780]|Modeling and eval...|202403813|[2493856869,  216...|[101773,  104584,...|\n",
      "| 145670326|Survey paper: A s...|2012|       161| Journal|Elsevier North-Ho...|    56|    2|10.1016/j.comnet....|[2149863032,  215...|Wireless networki...| 63392143|[2025045516,  212...|[100960,  101552,...|\n",
      "|1480498941|Automatic Detecti...|1999|       154| Journal|Kluwer Academic P...|    32|    1|10.1023/A:1008145...|        [2134864374]|This paper demons...| 25538012|[2003447161,  213...|[100970,  100270,...|\n",
      "+----------+--------------------+----+----------+--------+--------------------+------+-----+--------------------+--------------------+--------------------+---------+--------------------+--------------------+\n",
      "only showing top 20 rows\n",
      "\n"
     ]
    }
   ],
   "source": [
    "paper_df.drop(\"page_start\",\"page_end\") \\\n",
    "  .show()"
   ],
   "id": "aPcXARNig8Fw"
  },
  {
   "cell_type": "markdown",
   "metadata": {
    "id": "mUv2nVFuqh_Y"
   },
   "source": [
    "Insert an author in paper_df"
   ],
   "id": "mUv2nVFuqh_Y"
  },
  {
   "cell_type": "code",
   "execution_count": null,
   "metadata": {
    "colab": {
     "base_uri": "https://localhost:8080/"
    },
    "id": "Q0HA9MFuhnrA",
    "outputId": "1e428e55-09dc-4da9-f873-94062211e7b9"
   },
   "outputs": [
    {
     "output_type": "stream",
     "name": "stdout",
     "text": [
      "+-------+---------+-----+\n",
      "|id     |name     |org  |\n",
      "+-------+---------+-----+\n",
      "|1882405|Elon Musk|Tesla|\n",
      "+-------+---------+-----+\n",
      "\n"
     ]
    }
   ],
   "source": [
    "newRow = spark.createDataFrame([(1882405, \"Elon Musk\", \"Tesla\")], [\"id\",\"name\",\"org\"])\n",
    "\n",
    "new_df = author_df.union(newRow)\n",
    "new_df.filter(new_df.name == \"Elon Musk\").show(truncate = False)"
   ],
   "id": "Q0HA9MFuhnrA"
  },
  {
   "cell_type": "markdown",
   "metadata": {
    "id": "pahQxpc2qkLY"
   },
   "source": [
    "Update the title of a paper with a particular id "
   ],
   "id": "pahQxpc2qkLY"
  },
  {
   "cell_type": "code",
   "execution_count": null,
   "metadata": {
    "colab": {
     "base_uri": "https://localhost:8080/"
    },
    "id": "UJ5bWJWDig_o",
    "outputId": "cd19cce5-0187-4d17-cb52-e57cc3ef317a"
   },
   "outputs": [
    {
     "output_type": "stream",
     "name": "stdout",
     "text": [
      "+---------+---------+----+----------+----------+--------+--------+--------------------+------+-----+----------------+--------------------+--------------------+--------+--------------------+--------------------+\n",
      "|       id|    title|year|n_citation|page_start|page_end|doc_type|           publisher|volume|issue|             doi|          references|            abstract|venue_id|          authors_id|              fos_id|\n",
      "+---------+---------+----+----------+----------+--------+--------+--------------------+------+-----+----------------+--------------------+--------------------+--------+--------------------+--------------------+\n",
      "|101421652|New_Title|2003|       139|       397|     423| Journal|Society for Infor...|    27|    3|10.2307/30036539|[1516261653,  197...|Managers in moder...|57293258|[1973614237,  211...|[101369,  102929,...|\n",
      "+---------+---------+----+----------+----------+--------+--------+--------------------+------+-----+----------------+--------------------+--------------------+--------+--------------------+--------------------+\n",
      "\n"
     ]
    }
   ],
   "source": [
    "from pyspark.sql.functions import col, when\n",
    "\n",
    "new_value = \"New_Title\"\n",
    "new_paper_df = paper_df.withColumn(\n",
    "    \"title\",\n",
    "    when(\n",
    "        col(\"id\") == 101421652,\n",
    "        new_value\n",
    "    )\n",
    ")\n",
    "\n",
    "new_paper_df.filter(new_paper_df.id == 101421652).show()"
   ],
   "id": "UJ5bWJWDig_o"
  },
  {
   "cell_type": "markdown",
   "metadata": {
    "id": "oCMrisTLqo_E"
   },
   "source": [
    "Update the title of all the papers with more than 100 pages"
   ],
   "id": "oCMrisTLqo_E"
  },
  {
   "cell_type": "code",
   "execution_count": null,
   "metadata": {
    "colab": {
     "base_uri": "https://localhost:8080/"
    },
    "id": "USbi22pGiyI4",
    "outputId": "06cb49b9-206a-4480-87c0-52cd06e89955"
   },
   "outputs": [
    {
     "output_type": "stream",
     "name": "stdout",
     "text": [
      "+----------+---------+----+----------+----------+--------+--------+--------------------+------+-----+--------------------+--------------------+--------------------+----------+--------------------+--------------------+\n",
      "|        id|    title|year|n_citation|page_start|page_end|doc_type|           publisher|volume|issue|                 doi|          references|            abstract|  venue_id|          authors_id|              fos_id|\n",
      "+----------+---------+----+----------+----------+--------+--------+--------------------+------+-----+--------------------+--------------------+--------------------+----------+--------------------+--------------------+\n",
      "|1595507819|New_Title|1998|       599|         7|     149| Journal|           Routledge|    15|    3|10.1080/07421222....|        [1972098965]|By mid-1998, appr...|   9954729|[2077262051,  166...|[100963,  103181,...|\n",
      "|1938444229|New_Title|2015|       135|         1|     230| Journal|      now Publishers|     8|    1|  10.1561/2200000048|[1999352252,  209...|Random matrices n...|2595948752|         [320299343]|[103250,  100844,...|\n",
      "|1985039455|New_Title|2001|       138|       472|     602| Journal|                 ACM|    23|    4|10.1145/504083.50...|[2053384008,  208...|Since the early d...|  41449414|[2101413274,  708...|[100963,  105571,...|\n",
      "|1995484833|New_Title|2005|       344|       117|     236| Journal|Now Publishers, Inc.|     1|    2|  10.1561/0400000002|[2045533739,  208...|In the data strea...| 110848248|        [2190118346]|[105571,  104728,...|\n",
      "|1997988602|New_Title|2005|       301|         1|     154| Journal| Now Publishers Inc.|     2|    1|  10.1516/0100000005|        [2154518298]|Geometric Program...|  70831867|        [2143724125]|[100963,  101552,...|\n",
      "|1999352252|New_Title|2011|       325|       123|     224| Journal| Now Publishers Inc.|     3|    2|  10.1561/2200000035|[1971402995,  199...|Randomized algori...|2595449451|        [2104888899]|[103250,  100844,...|\n",
      "|2001427579|New_Title|2015|       130|        73|     272| Journal|Now Publishers, Inc.|     8|    2|  10.1561/1100000049|[1971616954,  199...|This survey summa...| 189699570|[2069749540,  216...|[100963,  102502,...|\n",
      "|2007098021|New_Title|1982|       141|        95|     207| Journal|            Elsevier|    20|    2|10.1016/0304-3975...|                  []|Abstract An analy...|  90727058|        [2011015956]|[101525,  100844,...|\n",
      "|2008732654|New_Title|2014|       166|        85|     283| Journal|      now publishers|     8|    2|  10.1561/0600000058|[1966385142,  197...|In recent years, ...|  83210289|[1982785356,  212...|[100970,  100270,...|\n",
      "|2012587148|New_Title|2013|       231|         1|     142| Journal|Now Publishers, Inc.|     2|    1|  10.1561/2300000021|[2012392077,  211...|Policy search is ...|  43319301|[2076352452,  198...|[104979,  104678,...|\n",
      "|2012797687|New_Title|2010|       131|        73|     205| Journal| Now Publishers Inc.|     5|    2|  10.1561/0400000029|[1970630090,  199...|Property testing ...| 110848248|        [2146939727]|[103247,  101525,...|\n",
      "|2022995284|New_Title|2010|       191|       247|     375| Journal|Now Publishers, Inc.|     4|    4|  10.1561/1500000009|[2048987619,  214...|Use of test colle...| 197106261|        [2168614097]|[100963,  102669,...|\n",
      "|2026944800|New_Title|2010|       190|       207|     388| Journal|Now Publishers, Inc.|     5|    3|  10.1561/0400000039|[2019578639,  214...|A large class of ...| 110848248|[143221287,  2300...|[103247,  101525,...|\n",
      "|2030096232|New_Title|1986|       132|       123|     249| Journal|Elsevier Science ...|    42|    2|10.1016/0304-3975...|                  []|Abstract A langua...|  90727058|        [2069719606]|[101525,  100844,...|\n",
      "|2032005951|New_Title|2010|       398|       129|     233| Journal|Now Publishers, Inc.|     2|    2|  10.1561/2200000005|[2138359578,  213...|Networks are ubiq...|2595246211|[2191844773,  200...|[101746,  105264,...|\n",
      "|2035569891|New_Title|2009|       304|         1|     224| Journal| Now Publishers Inc.|     3|    1|  10.1561/1500000012|[1971633256,  200...|This paper provid...| 197106261|        [2180501019]|[100963,  102669,...|\n",
      "|2038725084|New_Title|2007|       158|         1|     137| Journal| Now Publishers Inc.|     1|    1|  10.1561/1100000004|[1995006095,  200...|The purpose of th...| 189699570|[66513690,  21411...|[100963,  102502,...|\n",
      "|2042316011|New_Title|2008|      1029|       177|     280| Journal|Now Publishers, Inc.|     3|    3|  10.1561/0600000017|[1495971627,  150...|In this survey, w...|  83210289|[1965883356,  205...|[100970,  100270,...|\n",
      "|2048673468|New_Title|2007|       165|         1|     194| Journal|Now Publishers, Inc.|     1|    1|  10.1561/2000000001|                  []|Since even before...| 123473935|[2020830328,  230...|[100963,  100970,...|\n",
      "|2049285480|New_Title|2006|       185|       331|     551| Journal|Now Publishers, Inc.|     3|    4|  10.1561/0100000018|[1997988602,  203...|Multiple-input mu...|  70831867|[2188765848,  277...|[103244,  105571,...|\n",
      "+----------+---------+----+----------+----------+--------+--------+--------------------+------+-----+--------------------+--------------------+--------------------+----------+--------------------+--------------------+\n",
      "only showing top 20 rows\n",
      "\n"
     ]
    }
   ],
   "source": [
    "new_value = \"New_Title\"\n",
    "new_paper_df = paper_df.withColumn(\n",
    "    \"title\",\n",
    "    when(\n",
    "        col(\"page_end\") - col(\"page_start\") > 100,\n",
    "        new_value\n",
    "    )\n",
    ")\n",
    "\n",
    "new_paper_df.filter(new_paper_df.title == new_value).show()"
   ],
   "id": "USbi22pGiyI4"
  },
  {
   "cell_type": "markdown",
   "metadata": {
    "id": "cwZZwDPpbMN9"
   },
   "source": [
    "# Queries"
   ],
   "id": "cwZZwDPpbMN9"
  },
  {
   "cell_type": "code",
   "execution_count": null,
   "metadata": {
    "id": "TOAEvb3ZqxZD"
   },
   "outputs": [],
   "source": [
    "from pyspark.sql.functions import col, explode, desc, asc, count, collect_list"
   ],
   "id": "TOAEvb3ZqxZD"
  },
  {
   "cell_type": "markdown",
   "metadata": {
    "id": "JLvkHRKidFTL"
   },
   "source": [
    "1 - WHERE, JOIN\n",
    "\n",
    "> Retrieve the papers which have at least Computer Science among their fos."
   ],
   "id": "JLvkHRKidFTL"
  },
  {
   "cell_type": "code",
   "execution_count": null,
   "metadata": {
    "colab": {
     "base_uri": "https://localhost:8080/"
    },
    "id": "IpDbMrDOmnL3",
    "outputId": "f354d509-3d42-40ac-957a-8553b04ab456"
   },
   "outputs": [
    {
     "output_type": "stream",
     "name": "stdout",
     "text": [
      "+----------+--------------------+----+----------+--------------------+--------------------+----------+--------------------+------+\n",
      "|  paper_id|               title|year|n_citation|           publisher|          references|  venue_id|          authors_id|fos_id|\n",
      "+----------+--------------------+----+----------+--------------------+--------------------+----------+--------------------+------+\n",
      "|  86453134|IDDQ testing: A r...|1992|       169|         Springer US|                  []| 200807567|[2112919840,  214...|100963|\n",
      "| 767067438|A review of the l...|2016|       142|            Elsevier|[1982564000,  198...| 205292342|        [2140778852]|100963|\n",
      "|  69854901|Survey A survey o...|2012|       160|Elsevier North-Ho...|[2003992171,  200...|  63392143|[2119852781,  318...|100963|\n",
      "| 639708223|Faster R-CNN: Tow...|2017|      2586|                IEEE|[1958328135,  203...| 199944782|[2119543935,  216...|100963|\n",
      "| 433644524|Review: Intrusion...|2013|       271| Academic Press Ltd.|[2007087405,  206...|  30128005|[2132462014,  265...|100963|\n",
      "|  40650588|Search and pursui...|2011|       197|         Springer US|[2106518318,  211...| 144091109|[2121390041,  219...|100963|\n",
      "|2776316078|SMT-Based Bounded...|2012|       128|                IEEE|[1993836075,  205...|   8351582|[2117275544,  261...|100963|\n",
      "|2766000922|Adaptive Query Pr...|2007|       232| Now Publishers Inc.|[2060883486,  209...| 139685423|[2002742946,  535...|100963|\n",
      "|2761239369|Achieving the Sec...|2011|       242|                IEEE|                  []|   4502562|[1978228342,  211...|100963|\n",
      "|2668860018|Concept abduction...|2005|       101|            Elsevier|[1515520450,  159...| 187709482|[2107847746,  477...|100963|\n",
      "|2616840662|Effects of Relati...|2005|       132|  M. E. Sharpe, Inc.|[1516261653,  209...|   9954729|[2633097997,  216...|100963|\n",
      "|2616747538|The Datacenter as...|2013|       140|Morgan & Claypool...|[2064359039,  212...| 962203723|[2023575095,  270...|100963|\n",
      "|2613214602|Parameter free bu...|1992|       475|      VLDB Endowment|[2044555065,  207...|1133523790|[1985207418,  237...|100963|\n",
      "|2601109700|A Temporal Logic ...|2017|       120|                 ACM|[2029408547,  214...| 118992489|        [2130070262]|100963|\n",
      "|2469486851|A Privacy-Preserv...|2016|       270|                IEEE|[1979493600,  205...|  61310614|[2146706295,  250...|100963|\n",
      "|2442495973|Summarizing scien...|2002|       382|           MIT press|[1497212108,  204...| 155526855|[1806051850,  212...|100963|\n",
      "|2438667436|Partially observa...|2007|       510| Academic Press Ltd.|[2158907787,  216...|  91252481|[2143360327,  212...|100963|\n",
      "|2430154064|Secure data aggre...|2009|       263|            Elsevier|[2125572812,  213...|  63392143|[2123023843,  211...|100963|\n",
      "|2428120229|Data gathering op...|2016|       137|                IEEE|                  []|  62238642|[2664807554,  211...|100963|\n",
      "|2426038346|VoIP: A comprehen...|2009|       111|            Elsevier|        [2148810932]|  63392143|[2046179957,  200...|100963|\n",
      "+----------+--------------------+----+----------+--------------------+--------------------+----------+--------------------+------+\n",
      "only showing top 20 rows\n",
      "\n"
     ]
    }
   ],
   "source": [
    "paper_df.select(col(\"id\"), col(\"title\"), col(\"year\"), col(\"n_citation\"), col(\"publisher\"), col(\"references\"), col(\"abstract\"), col(\"venue_id\"), col(\"authors_id\"), explode(col(\"fos_id\"))) \\\n",
    ".withColumnRenamed(\"col\", \"fos_id\") \\\n",
    ".withColumnRenamed(\"id\", \"paper_id\") \\\n",
    ".join(fos_df, fos_df.id == col(\"fos_id\"), \"fullouter\").filter(col(\"name\") == \"Computer science\") \\\n",
    ".select(col(\"paper_id\"), col(\"title\"), col(\"year\"), col(\"n_citation\"), col(\"publisher\"), col(\"references\"), col(\"venue_id\"), col(\"authors_id\"), col(\"fos_id\")) \\\n",
    ".show()"
   ],
   "id": "IpDbMrDOmnL3"
  },
  {
   "cell_type": "markdown",
   "metadata": {
    "id": "mYu8hmcKdGoo"
   },
   "source": [
    "2 - WHERE, LIMIT, LIKE\n",
    "\n",
    "> Retrieve papers that have more than 400 citations and of any IEEE publisher (i.e. the publisher must be \"IEEE\", or \"IEEE\" concatenated with other strings, for example \"IEEE TRANSACTIONS ON INDUSTRIAL INFORMATICS\"). Then take only the first 15 results.\n",
    "\n"
   ],
   "id": "mYu8hmcKdGoo"
  },
  {
   "cell_type": "code",
   "execution_count": null,
   "metadata": {
    "colab": {
     "base_uri": "https://localhost:8080/"
    },
    "id": "qSl_r2_5gmsq",
    "outputId": "a841d72e-33a4-4913-84a4-72ab32791cef"
   },
   "outputs": [
    {
     "output_type": "stream",
     "name": "stdout",
     "text": [
      "+----------+--------------------+----------+--------------------+--------------------+\n",
      "|        id|               title|n_citation|           publisher|            abstract|\n",
      "+----------+--------------------+----------+--------------------+--------------------+\n",
      "|1510186039|Graspit! A versat...|       521|                IEEE|A robotic graspin...|\n",
      "|1612997784|ORB-SLAM: A Versa...|       619|                IEEE|This paper presen...|\n",
      "|1641498739|The Multimodal Br...|       417|                IEEE|In this paper we ...|\n",
      "|1885185971|Image Super-Resol...|       641|                IEEE|We propose a deep...|\n",
      "|1910657905|SegNet: A Deep Co...|       551|                IEEE|We present a nove...|\n",
      "|1963932623|Label Consistent ...|       469|                IEEE|A label consisten...|\n",
      "|1964402820|Regular and irreg...|       992|                IEEE|We propose a gene...|\n",
      "|1964793896|OFDM Versus Filte...|       598|                IEEE|As of today, orth...|\n",
      "|1965497192|Network-Induced C...|       500|IEEE TRANSACTIONS...|Networked control...|\n",
      "|1965665622|Ranging With Ultr...|       536|                IEEE|Over the coming d...|\n",
      "|1966000877|Wireless Networks...|       627|                IEEE|Radio frequency (...|\n",
      "|1970334960|Principles of Phy...|       423|                IEEE|This paper provid...|\n",
      "|1971616954|Fast Keypoint Rec...|       463|IEEE Computer Soc...|While feature poi...|\n",
      "|1971875039|Intuitionistic Fu...|       965|                IEEE|An intuitionistic...|\n",
      "|1974042113|RASL: Robust Alig...|       503|                IEEE|This paper studie...|\n",
      "+----------+--------------------+----------+--------------------+--------------------+\n",
      "\n"
     ]
    }
   ],
   "source": [
    "paper_df.filter((col(\"n_citation\") >= 400) & (col(\"publisher\").like(\"IEEE%\"))) \\\n",
    ".limit(15) \\\n",
    ".select(col(\"id\"), col(\"title\"), col(\"n_citation\"), col(\"publisher\"), col(\"abstract\")) \\\n",
    ".show()"
   ],
   "id": "qSl_r2_5gmsq"
  },
  {
   "cell_type": "markdown",
   "metadata": {
    "id": "aupGqtlNdQcQ"
   },
   "source": [
    "3 - WHERE, IN, Nested Query\n",
    "\n",
    "> Retrieve the papers of conferences since 2003.\n",
    "\n"
   ],
   "id": "aupGqtlNdQcQ"
  },
  {
   "cell_type": "code",
   "execution_count": null,
   "metadata": {
    "colab": {
     "base_uri": "https://localhost:8080/"
    },
    "id": "TQDy52OLXdzB",
    "outputId": "685a6bf6-776f-4905-d492-0d61394326aa"
   },
   "outputs": [
    {
     "output_type": "stream",
     "name": "stdout",
     "text": [
      "+----------+--------------------+----+----------+--------------------+----------+--------------------+--------------------+\n",
      "|        id|               title|year|  doc_type|            abstract|  venue_id|          authors_id|              fos_id|\n",
      "+----------+--------------------+----+----------+--------------------+----------+--------------------+--------------------+\n",
      "|1485941238|Succinct suffix a...|2005|Conference|A succinet full-t...|1192804102|[2026327678,  213...|[103247,  101525,...|\n",
      "|1515520450|Data integration ...|2004|Conference|Data integration ...|1134069326|[2781243587,  198...|[101294,  102665,...|\n",
      "|1516360493|Global Progress i...|2008|Conference|A multiparty sess...|1145706541|[2035671728,  214...|[100963,  101552,...|\n",
      "|1537747159|Data Clustering: ...|2008|Conference|The practice of c...|2755314191|        [2162010601]|[100763,  105371,...|\n",
      "|1580065766|Symmetry in 3D Ge...|2013|Conference|The concept of sy...|2754362256|[2136233650,  212...|[100970,  100270,...|\n",
      "|1594489547|BnB-ADOPT: an asy...|2008|Conference|Distributed const...|1168671587|[2144475260,  193...|[100270,  103154,...|\n",
      "|1597082186|PARIS: probabilis...|2011|Conference|One of the main c...|1133523790|[69603646,  17240...|[100963,  101294,...|\n",
      "|1699577049|Declassification:...|2009|Conference|Computing systems...|2615919549|[313407794,  2227...|[104676,  102650,...|\n",
      "|1742181809|Image-based mater...|2005|Conference|Photo editing sof...|1164321581|[2108391018,  247...|[100970,  100270,...|\n",
      "|1760407951|TILT: transform i...|2010|Conference|In this paper, we...|1174644639|[2660899906,  270...|[100970,  100270,...|\n",
      "+----------+--------------------+----+----------+--------------------+----------+--------------------+--------------------+\n",
      "only showing top 10 rows\n",
      "\n"
     ]
    }
   ],
   "source": [
    "paper_df.filter((col(\"id\") \\\n",
    "  .isin(paper_df.filter(col(\"doc_type\") == \"Conference\") \\\n",
    "  .select(collect_list(\"id\")).collect()[0][0])) & (col(\"year\") > 2003)) \\\n",
    ".select(col(\"id\"), col(\"title\"), col(\"year\"), col(\"doc_type\"), col(\"abstract\"), col(\"venue_id\"), col(\"authors_id\"), col(\"fos_id\")) \\\n",
    ".show(10)"
   ],
   "id": "TQDy52OLXdzB"
  },
  {
   "cell_type": "markdown",
   "metadata": {
    "id": "gRdYiu_UdSlz"
   },
   "source": [
    "4 - GROUP BY, 1 JOIN, AS\n",
    "\n",
    "> Compute how many papers were published, for each year, on each venue, showing also the venue name. Display results ordered by year in descendent order."
   ],
   "id": "gRdYiu_UdSlz"
  },
  {
   "cell_type": "code",
   "execution_count": null,
   "metadata": {
    "colab": {
     "base_uri": "https://localhost:8080/"
    },
    "id": "OxNHVOEtigY-",
    "outputId": "4ea4c551-8a2f-4776-9632-3be4da252f34"
   },
   "outputs": [
    {
     "output_type": "stream",
     "name": "stdout",
     "text": [
      "+----+----------+--------------------------------------------------------------+--------------+\n",
      "|year|venue_id  |name                                                          |n_publications|\n",
      "+----+----------+--------------------------------------------------------------+--------------+\n",
      "|2018|199944782 |IEEE Transactions on Pattern Analysis and Machine Intelligence|1             |\n",
      "|2018|160107561 |Siam Review                                                   |1             |\n",
      "|2017|61310614  |IEEE Transactions on Information Forensics and Security       |1             |\n",
      "|2017|134177497 |IEEE Transactions on Fuzzy Systems                            |1             |\n",
      "|2017|76152103  |IEEE Transactions on Systems, Man, and Cybernetics            |2             |\n",
      "|2017|25538012  |International Journal of Computer Vision                      |1             |\n",
      "|2017|7560371   |Information Fusion                                            |1             |\n",
      "|2017|193920097 |Mathematical Programming                                      |1             |\n",
      "|2017|199944782 |IEEE Transactions on Pattern Analysis and Machine Intelligence|6             |\n",
      "|2017|110206669 |Multimedia Tools and Applications                             |1             |\n",
      "|2017|115304631 |IEEE Transactions on Image Processing                         |1             |\n",
      "|2017|51360982  |Automatica                                                    |1             |\n",
      "|2017|118992489 |Journal of the ACM                                            |1             |\n",
      "|2017|161464388 |Journal of Intelligent Manufacturing                          |1             |\n",
      "|2017|95999327  |IEEE Systems Journal                                          |1             |\n",
      "|2017|1131341566|international symposium on computer architecture              |1             |\n",
      "|2017|62401924  |Journal of the American Statistical Association               |1             |\n",
      "|2017|42080949  |IEEE Transactions on Neural Networks                          |2             |\n",
      "|2017|45693802  |Neurocomputing                                                |1             |\n",
      "|2016|1160032607|symposium on principles of programming languages              |1             |\n",
      "+----+----------+--------------------------------------------------------------+--------------+\n",
      "only showing top 20 rows\n",
      "\n"
     ]
    }
   ],
   "source": [
    "paper_df.join(venue_df, venue_df.id == paper_df.venue_id) \\\n",
    ".groupBy(\"year\", \"venue_id\", \"name\") \\\n",
    ".agg(count(\"name\").alias(\"n_publications\")) \\\n",
    ".orderBy(desc(\"year\")) \\\n",
    ".show(20, truncate = False)"
   ],
   "id": "OxNHVOEtigY-"
  },
  {
   "cell_type": "markdown",
   "metadata": {
    "id": "uY1EcjVqdTtJ"
   },
   "source": [
    "5 - WHERE, GROUP BY\n",
    "\n",
    "> Compute how many papers were published, for each year, by the IEEE and with a number of citations greater than 500."
   ],
   "id": "uY1EcjVqdTtJ"
  },
  {
   "cell_type": "code",
   "execution_count": null,
   "metadata": {
    "colab": {
     "base_uri": "https://localhost:8080/"
    },
    "id": "NR7E77uTdBtj",
    "outputId": "4596e0db-df05-4c38-e1bc-ba690b55531f"
   },
   "outputs": [
    {
     "output_type": "stream",
     "name": "stdout",
     "text": [
      "+----+----------+-------+\n",
      "|year|doc_type  |n_years|\n",
      "+----+----------+-------+\n",
      "|2018|Journal   |1      |\n",
      "|2017|Journal   |2      |\n",
      "|2016|Journal   |2      |\n",
      "|2015|Journal   |5      |\n",
      "|2014|Journal   |14     |\n",
      "|2013|Journal   |12     |\n",
      "|2012|Conference|2      |\n",
      "|2012|Journal   |11     |\n",
      "|2011|Journal   |23     |\n",
      "|2011|Conference|1      |\n",
      "|2010|Journal   |18     |\n",
      "|2010|Conference|1      |\n",
      "|2009|Conference|2      |\n",
      "|2009|Journal   |16     |\n",
      "|2008|Journal   |14     |\n",
      "|2008|Conference|2      |\n",
      "|2007|Journal   |18     |\n",
      "|2007|Conference|3      |\n",
      "|2006|Journal   |14     |\n",
      "|2005|Journal   |14     |\n",
      "+----+----------+-------+\n",
      "only showing top 20 rows\n",
      "\n"
     ]
    }
   ],
   "source": [
    "paper_df.filter((col(\"publisher\") == \"IEEE\") & (col(\"n_citation\") > 500)) \\\n",
    ".groupBy(\"year\", \"doc_type\") \\\n",
    ".agg(count(\"year\").alias(\"n_years\")) \\\n",
    ".orderBy(desc(\"year\")) \\\n",
    ".show(20, truncate = False)"
   ],
   "id": "NR7E77uTdBtj"
  },
  {
   "cell_type": "markdown",
   "metadata": {
    "id": "JjHmPWKedWXV"
   },
   "source": [
    "6 - GROUP BY, HAVING, AS\n",
    "\n",
    "> Retrieve the publishers that have more than 100 papers stored in the database.\n",
    "\n",
    "\n",
    "\n"
   ],
   "id": "JjHmPWKedWXV"
  },
  {
   "cell_type": "code",
   "execution_count": null,
   "metadata": {
    "colab": {
     "base_uri": "https://localhost:8080/"
    },
    "id": "WoeXeuK_6ptV",
    "outputId": "14b175eb-60c1-40f7-9484-ae68f6642a3d"
   },
   "outputs": [
    {
     "output_type": "stream",
     "name": "stdout",
     "text": [
      "+-----------------------------------------------------------------------------------------+--------+\n",
      "|publisher                                                                                |n_papers|\n",
      "+-----------------------------------------------------------------------------------------+--------+\n",
      "|Society for Information Management and The Management Information Systems Research Center|105     |\n",
      "|Elsevier                                                                                 |565     |\n",
      "|Elsevier Science Inc.                                                                    |193     |\n",
      "|Elsevier Science Publishers Ltd.                                                         |108     |\n",
      "|ACM                                                                                      |1104    |\n",
      "|Kluwer Academic Publishers                                                               |277     |\n",
      "|Springer US                                                                              |247     |\n",
      "|IEEE                                                                                     |2092    |\n",
      "|Springer-Verlag                                                                          |163     |\n",
      "|IEEE Press                                                                               |142     |\n",
      "|IEEE Computer Society                                                                    |433     |\n",
      "|Elsevier Science Publishers B. V.                                                        |272     |\n",
      "|Pergamon                                                                                 |131     |\n",
      "+-----------------------------------------------------------------------------------------+--------+\n",
      "\n"
     ]
    }
   ],
   "source": [
    "paper_df.groupBy(\"publisher\") \\\n",
    ".agg(count(\"id\").alias(\"n_papers\")) \\\n",
    ".filter(col(\"n_papers\")>=100) \\\n",
    ".show(truncate = False)"
   ],
   "id": "WoeXeuK_6ptV"
  },
  {
   "cell_type": "markdown",
   "metadata": {
    "id": "NspSvPygdZcj"
   },
   "source": [
    "7 - WHERE, GROUP BY, HAVING, AS\n",
    "\n",
    "> Retrieve the years in which the number of published paper of journals is greater than 150."
   ],
   "id": "NspSvPygdZcj"
  },
  {
   "cell_type": "code",
   "source": [
    "paper_df.filter(col(\"doc_type\") == \"Journal\") \\\n",
    ".groupBy(\"year\") \\\n",
    ".agg(count(\"id\").alias(\"n_papers\")) \\\n",
    ".orderBy(asc(\"year\")) \\\n",
    ".filter(col(\"n_papers\") > 150) \\\n",
    ".show(truncate = False)"
   ],
   "metadata": {
    "colab": {
     "base_uri": "https://localhost:8080/"
    },
    "id": "KDP-9yuethlj",
    "outputId": "aaab12c2-931c-4496-c32d-72e2d9f240b8"
   },
   "id": "KDP-9yuethlj",
   "execution_count": null,
   "outputs": [
    {
     "output_type": "stream",
     "name": "stdout",
     "text": [
      "+----+--------+\n",
      "|year|n_papers|\n",
      "+----+--------+\n",
      "|1998|158     |\n",
      "|2000|187     |\n",
      "|2001|181     |\n",
      "|2002|231     |\n",
      "|2003|309     |\n",
      "|2004|296     |\n",
      "|2005|421     |\n",
      "|2006|422     |\n",
      "|2007|464     |\n",
      "|2008|485     |\n",
      "|2009|505     |\n",
      "|2010|559     |\n",
      "|2011|574     |\n",
      "|2012|478     |\n",
      "|2013|466     |\n",
      "|2014|323     |\n",
      "|2015|188     |\n",
      "+----+--------+\n",
      "\n"
     ]
    }
   ]
  },
  {
   "cell_type": "markdown",
   "metadata": {
    "id": "Rl9hU-frdbgT"
   },
   "source": [
    "8 - WHERE, Nested Query (i.e., 2-step Queries), GROUP BY\n",
    "\n",
    "> Compute the total number of citations, for each publisher, of the papers that have a field of study with weight grater than 0.6\n",
    "\n"
   ],
   "id": "Rl9hU-frdbgT"
  },
  {
   "cell_type": "code",
   "execution_count": null,
   "metadata": {
    "colab": {
     "base_uri": "https://localhost:8080/"
    },
    "id": "fKXblu_ZG4HA",
    "outputId": "49a4aad3-98cc-4f94-a6e8-88fe71b83775"
   },
   "outputs": [
    {
     "output_type": "stream",
     "name": "stdout",
     "text": [
      "+------------------------------------------------------------------------------------+---------------+\n",
      "|publisher                                                                           |total_citations|\n",
      "+------------------------------------------------------------------------------------+---------------+\n",
      "|Cambridge University Press                                                          |374            |\n",
      "|捷頂科技有限公司                                                                    |112            |\n",
      "|Wiley-Blackwell                                                                     |478            |\n",
      "|John Wiley & Sons, Ltd.                                                             |345            |\n",
      "|Elsevier                                                                            |2339           |\n",
      "|Kluwer Academic Publishers-Plenum Publishers                                        |463            |\n",
      "|Decision Support Systems                                                            |136            |\n",
      "|Elsevier Science Inc.                                                               |678            |\n",
      "|MIT Press 238 Main St., Suite 500, Cambridge, MA 02142-1046USA journals-info@mit.edu|412            |\n",
      "|IEEE Computer Society Press                                                         |878            |\n",
      "|John Wiley & Sons, Inc.                                                             |248            |\n",
      "|John Wiley & Sons                                                                   |155            |\n",
      "|Elsevier Science Publishers Ltd.                                                    |137            |\n",
      "|ACM                                                                                 |15492          |\n",
      "|Springer International Publishing                                                   |122            |\n",
      "|Academic Press, Inc.                                                                |642            |\n",
      "|North-Holland                                                                       |943            |\n",
      "|Kluwer Academic Publishers                                                          |5407           |\n",
      "|Springer US                                                                         |199            |\n",
      "|IEEE                                                                                |11892          |\n",
      "+------------------------------------------------------------------------------------+---------------+\n",
      "only showing top 20 rows\n",
      "\n"
     ]
    }
   ],
   "source": [
    "paper_df.select(col(\"id\"), col(\"title\"), col(\"year\"), col(\"n_citation\"), col(\"doi\"), col(\"publisher\"), explode(paper_df.fos_id)) \\\n",
    ".withColumnRenamed(\"col\", \"fos\") \\\n",
    ".filter(col(\"fos\") \\\n",
    "  .isin(fos_df.filter(col(\"weight\") > 0.6) \\\n",
    "  .select(collect_list(\"id\")) \\\n",
    "  .collect()[0][0])) \\\n",
    ".groupBy(col(\"publisher\")) \\\n",
    ".sum(\"n_citation\") \\\n",
    ".withColumnRenamed(\"sum(n_citation)\", \"total_citations\") \\\n",
    ".show(20, truncate = False)\n"
   ],
   "id": "fKXblu_ZG4HA"
  },
  {
   "cell_type": "markdown",
   "metadata": {
    "id": "JG6AQjuHdeac"
   },
   "source": [
    "9 - WHERE, GROUP BY, HAVING, 1 JOIN\n",
    "\n",
    "> Retrieve the authors whose organization is the Stanford University and that wrote a number of papers greater than 1."
   ],
   "id": "JG6AQjuHdeac"
  },
  {
   "cell_type": "code",
   "source": [
    "paper_df.select(col(\"id\"), col(\"title\"), col(\"year\"), col(\"n_citation\"), col(\"page_start\"), col(\"page_end\"), col(\"doc_type\"), col(\"publisher\"), col(\"volume\"), col(\"issue\"), col(\"doi\"), col(\"references\"), col(\"abstract\"), col(\"venue_id\"), explode(col(\"authors_id\")), col(\"fos_id\")) \\\n",
    ".withColumnRenamed(\"col\", \"authors_id\") \\\n",
    ".withColumnRenamed(\"id\", \"paper_id\") \\\n",
    ".join(author_df, author_df.id == col(\"authors_id\"), \"full\") \\\n",
    ".filter(col(\"org\") == \"Stanford University\") \\\n",
    ".groupBy(\"authors_id\") \\\n",
    ".agg(count(\"paper_id\").alias(\"n_papers\")) \\\n",
    ".orderBy(asc(\"n_papers\")) \\\n",
    ".filter(col(\"n_papers\") > 1) \\\n",
    ".show(truncate = False)"
   ],
   "metadata": {
    "colab": {
     "base_uri": "https://localhost:8080/"
    },
    "id": "vC-e9fBLt401",
    "outputId": "71e02849-58dc-406d-aa85-1b1dbcd32ef6"
   },
   "id": "vC-e9fBLt401",
   "execution_count": null,
   "outputs": [
    {
     "output_type": "stream",
     "name": "stdout",
     "text": [
      "+----------+--------+\n",
      "|authors_id|n_papers|\n",
      "+----------+--------+\n",
      "|2149433985|2       |\n",
      "|201828038 |4       |\n",
      "|348630313 |4       |\n",
      "+----------+--------+\n",
      "\n"
     ]
    }
   ]
  },
  {
   "cell_type": "markdown",
   "metadata": {
    "id": "5Ebbfu3TdgMM"
   },
   "source": [
    "10 - WHERE, GROUP BY, HAVING, 2 JOINs\n",
    "\n",
    "> Retrieve the venues on which an organization has published more than 4 papers, that consist of more than 10 pages."
   ],
   "id": "5Ebbfu3TdgMM"
  },
  {
   "cell_type": "code",
   "execution_count": null,
   "metadata": {
    "colab": {
     "base_uri": "https://localhost:8080/"
    },
    "id": "NFhc9BHgVAFq",
    "outputId": "f62c1d72-5111-47ad-d70e-1e71475eda91"
   },
   "outputs": [
    {
     "output_type": "stream",
     "name": "stdout",
     "text": [
      "+----------+--------------------+--------------------+--------+\n",
      "|  venue_id|          venue_name|                 org|n_papers|\n",
      "+----------+--------------------+--------------------+--------+\n",
      "| 134177497|IEEE Transactions...|Space Control & I...|       9|\n",
      "| 134177497|IEEE Transactions...|Department of Mat...|       7|\n",
      "|1127352206|programming langu...|Microsoft Researc...|       5|\n",
      "| 157921468|ACM Computing Sur...|Columbia Univ., N...|       5|\n",
      "|1152462849|acm special inter...|University of Ill...|       5|\n",
      "| 168680287|IEEE Transactions...|Technion - Israel...|       4|\n",
      "|  57293258|Management Inform...|Fox School of Bus...|       4|\n",
      "|  90119964|ACM Transactions ...|Univ. of Maryland...|       4|\n",
      "|  25538012|International Jou...|Stanford Universi...|       4|\n",
      "|  63459445|IEEE Transactions...|Dept. of Electr. ...|       4|\n",
      "| 199944782|IEEE Transactions...|Nat. Lab. of Patt...|       4|\n",
      "|    414566| Pattern Recognition|Department of Com...|       4|\n",
      "|  93787993|IEEE Transactions...|Department of Com...|       4|\n",
      "|   8351582|IEEE Transactions...|Lane Dept. of Com...|       4|\n",
      "|  80113298|Journal of the As...|University of Wol...|       4|\n",
      "|  63392143|   Computer Networks|Broadband and Wir...|       4|\n",
      "+----------+--------------------+--------------------+--------+\n",
      "\n"
     ]
    }
   ],
   "source": [
    "paper_df.filter((col(\"page_end\") - col(\"page_start\") > 10)) \\\n",
    ".select(col(\"id\").alias(\"paper_id\"), col(\"venue_id\"), col(\"volume\"), explode(paper_df.authors_id).alias(\"author_id\")) \\\n",
    ".join(author_df, author_df.id == col(\"author_id\")).drop(\"id\").withColumnRenamed(\"name\", \"author_name\") \\\n",
    ".join(venue_df, venue_df.id == paper_df.venue_id).drop(\"id\").withColumnRenamed(\"name\", \"venue_name\") \\\n",
    ".groupBy(col(\"venue_id\"), col(\"venue_name\"), col(\"org\")) \\\n",
    ".agg(count(\"paper_id\").alias(\"n_papers\")) \\\n",
    ".filter((col(\"n_papers\") >= 4) & (col(\"org\").isNotNull())) \\\n",
    ".sort(desc(\"n_papers\")) \\\n",
    ".show()"
   ],
   "id": "NFhc9BHgVAFq"
  }
 ],
 "metadata": {
  "colab": {
   "provenance": []
  },
  "kernelspec": {
   "display_name": "Python 3 (ipykernel)",
   "language": "python",
   "name": "python3"
  },
  "language_info": {
   "codemirror_mode": {
    "name": "ipython",
    "version": 3
   },
   "file_extension": ".py",
   "mimetype": "text/x-python",
   "name": "python",
   "nbconvert_exporter": "python",
   "pygments_lexer": "ipython3",
   "version": "3.10.5"
  }
 },
 "nbformat": 4,
 "nbformat_minor": 5
}