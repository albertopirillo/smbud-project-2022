{
 "cells": [
  {
   "cell_type": "markdown",
   "source": [
    "This notebook was used to explore the dataset and to decide which operations had to be performed and in order to clean it and reduce its size to a more manageable one."
   ],
   "metadata": {
    "id": "OU5U9kbgZqWM"
   }
  },
  {
   "cell_type": "markdown",
   "source": [
    "In this notebook only a chunk of the dataset is analyzed, and the process is explained in every detail.\n",
    "\n",
    "The complete dataset is then processed in a different script for convenience."
   ],
   "metadata": {
    "id": "WQhOB0r6Z9Le"
   }
  },
  {
   "cell_type": "code",
   "source": [
    "# Uncomment if using Colab and if the dataset is stored on Google Drive\n",
    "# from google.colab import drive\n",
    "# drive.mount('/content/drive')"
   ],
   "metadata": {
    "colab": {
     "base_uri": "https://localhost:8080/"
    },
    "id": "5BlrzTvooIZc",
    "outputId": "97562542-59d4-491e-86a4-ac10820ebe07"
   },
   "execution_count": 1,
   "outputs": []
  },
  {
   "cell_type": "markdown",
   "source": [
    "Specify the file location of dataset below:"
   ],
   "metadata": {
    "id": "fpisrFdtak_5"
   }
  },
  {
   "cell_type": "code",
   "execution_count": 2,
   "metadata": {
    "collapsed": true,
    "id": "Gywxocj6oDFY"
   },
   "outputs": [],
   "source": [
    "import pandas as pd\n",
    "import numpy as np\n",
    "file_path = \"\""
   ]
  },
  {
   "cell_type": "code",
   "execution_count": 3,
   "outputs": [],
   "source": [
    "df = pd.DataFrame()"
   ],
   "metadata": {
    "pycharm": {
     "name": "#%%\n"
    },
    "id": "kShcSV6ioDFa"
   }
  },
  {
   "cell_type": "markdown",
   "source": [
    "We read the first chunk of the dataframe. A chunk is composed of `chunk_size` JSON objects.\n",
    "\n"
   ],
   "metadata": {
    "id": "1vxFskh7wA6z"
   }
  },
  {
   "cell_type": "code",
   "execution_count": 4,
   "outputs": [],
   "source": [
    "chunk_size = 10_000\n",
    "with pd.read_json(file_path, encoding=\"UTF-8\", lines=True, chunksize=chunk_size) as reader:\n",
    "    for chunk in reader:\n",
    "      df = chunk\n",
    "      break"
   ],
   "metadata": {
    "pycharm": {
     "name": "#%%\n"
    },
    "id": "HjyC6zepoDFb"
   }
  },
  {
   "cell_type": "code",
   "execution_count": 5,
   "outputs": [
    {
     "data": {
      "text/plain": "              id                                              title  \\\n0      100001334  Ontologies in HYDRA - Middleware for Ambient I...   \n1     1000018889  Remote Policy Enforcement for Trusted Applicat...   \n2     1000022707  A SIMPLE OBSERVATION REGARDING ITERATIONS OF F...   \n3      100004108  Gait based human identity recognition from mul...   \n4       10000571  The GAME Algorithm Applied to Complex Fraction...   \n...          ...                                                ...   \n9995   105154181  Mathematical Theory Makes Formal Concept Analy...   \n9996   105154304  Improved phoneme recognition by integrating ev...   \n9997    10515480  A Unified Taxonomy of Hybrid Metaheuristics wi...   \n9998   105155086  Multithreaded Execution Architecture and Compi...   \n9999   105155515  eRules: A Modular Adaptive Classification Rule...   \n\n                                                authors  \\\n0     [{'name': 'Peter Kostelnik', 'id': '2702511795...   \n1     [{'name': 'Fabio Martinelli', 'id': '210743870...   \n2          [{'name': 'Jerzy Mycka', 'id': '263067851'}]   \n3     [{'name': 'Emdad Hossain', 'id': '2017661848',...   \n4     [{'name': 'Pavel Kordík', 'id': '419063071', '...   \n...                                                 ...   \n9995  [{'name': 'Bernhard Ganter', 'id': '2584030807'}]   \n9996  [{'name': 'Shang-wen Li', 'id': '2137430318'},...   \n9997  [{'name': 'El-Ghazali Talbi', 'id': '228565846...   \n9998  [{'name': 'Organizers: Dean M. Tullsen', 'id':...   \n9999  [{'name': 'Frederic T. Stahl', 'id': '21128370...   \n\n                                                  venue  year  n_citation  \\\n0                                       {'raw': 'AMIF'}  2009           2   \n1     {'raw': 'international conference on trusted s...  2013           2   \n2     {'raw': 'Reports on Mathematical Logic', 'id':...  2009           0   \n3     {'raw': 'international conference on algorithm...  2012           0   \n4     {'raw': 'international conference on artificia...  2008           5   \n...                                                 ...   ...         ...   \n9995  {'raw': 'Description Logics', 'id': '2764557503'}  2008           0   \n9996  {'raw': 'conference of the international speec...  2010           5   \n9997                   {'raw': 'Hybrid Metaheuristics'}  2013           7   \n9998  {'raw': 'high performance computer architectur...  1999           2   \n9999  {'raw': 'Proceedings of the Thirty-second SGAI...  2012           2   \n\n     page_start page_end    doc_type                     publisher volume  \\\n0            43       46                                                    \n1            70       84  Conference                Springer, Cham          \n2            19       29     Journal                                   44   \n3           319      328  Conference  Springer, Berlin, Heidelberg          \n4           859      868  Conference  Springer, Berlin, Heidelberg          \n...         ...      ...         ...                           ...    ...   \n9995                         Journal                                        \n9996       1177     1180  Conference                                        \n9997          3       76                Springer Berlin Heidelberg          \n9998        321           Conference         IEEE Computer Society          \n9999         65       78                          Springer, London          \n\n     issue                                                fos  \\\n0           [{'name': 'Lernaean Hydra', 'w': 0.4178039}, {...   \n1           [{'name': 'Trusted Computing', 'w': 0.63148589...   \n2           [{'name': 'Discrete mathematics', 'w': 0.47368...   \n3           [{'name': 'Biometrics', 'w': 0.529778063000000...   \n4           [{'name': 'Pattern recognition', 'w': 0.453429...   \n...    ...                                                ...   \n9995        [{'name': 'Applied mathematics', 'w': 0.440267...   \n9996        [{'name': 'Artificial intelligence', 'w': 0.0}...   \n9997        [{'name': 'Metaheuristic', 'w': 0.605617642}, ...   \n9998        [{'name': 'Parallel computing', 'w': 0.4707954...   \n9999        [{'name': 'Rule induction', 'w': 0.5433053}, {...   \n\n                               doi  \\\n0                              NaN   \n1      10.1007/978-3-319-03491-1_5   \n2                              NaN   \n3     10.1007/978-3-642-33065-0_34   \n4     10.1007/978-3-540-87559-8_89   \n...                            ...   \n9995                           NaN   \n9996                           NaN   \n9997   10.1007/978-3-642-30671-6_1   \n9998                           NaN   \n9999   10.1007/978-1-4471-4739-8_5   \n\n                                             references  \\\n0                                                   NaN   \n1     [94181602, 1504669610, 1542792105, 1639158619,...   \n2                              [1972178849, 2069792094]   \n3     [1578000111, 2120433720, 2136461127, 213893135...   \n4     [291899685, 1964166287, 2135293965, 2146842127...   \n...                                                 ...   \n9995                                                NaN   \n9996                                                NaN   \n9997  [51126395, 72011665, 73826515, 91781137, 12577...   \n9998                                                NaN   \n9999  [1569433171, 1591695423, 1971601157, 197851564...   \n\n                                       indexed_abstract  \n0                                                   NaN  \n1     {'IndexLength': 173, 'InvertedIndex': {'Both':...  \n2     {'IndexLength': 49, 'InvertedIndex': {'A': [0]...  \n3     {'IndexLength': 82, 'InvertedIndex': {'In': [0...  \n4     {'IndexLength': 171, 'InvertedIndex': {'Comple...  \n...                                                 ...  \n9995                                                NaN  \n9996                                                NaN  \n9997  {'IndexLength': 101, 'InvertedIndex': {'Over':...  \n9998                                                NaN  \n9999  {'IndexLength': 300, 'InvertedIndex': {'Advanc...  \n\n[10000 rows x 16 columns]",
      "text/html": "<div>\n<style scoped>\n    .dataframe tbody tr th:only-of-type {\n        vertical-align: middle;\n    }\n\n    .dataframe tbody tr th {\n        vertical-align: top;\n    }\n\n    .dataframe thead th {\n        text-align: right;\n    }\n</style>\n<table border=\"1\" class=\"dataframe\">\n  <thead>\n    <tr style=\"text-align: right;\">\n      <th></th>\n      <th>id</th>\n      <th>title</th>\n      <th>authors</th>\n      <th>venue</th>\n      <th>year</th>\n      <th>n_citation</th>\n      <th>page_start</th>\n      <th>page_end</th>\n      <th>doc_type</th>\n      <th>publisher</th>\n      <th>volume</th>\n      <th>issue</th>\n      <th>fos</th>\n      <th>doi</th>\n      <th>references</th>\n      <th>indexed_abstract</th>\n    </tr>\n  </thead>\n  <tbody>\n    <tr>\n      <th>0</th>\n      <td>100001334</td>\n      <td>Ontologies in HYDRA - Middleware for Ambient I...</td>\n      <td>[{'name': 'Peter Kostelnik', 'id': '2702511795...</td>\n      <td>{'raw': 'AMIF'}</td>\n      <td>2009</td>\n      <td>2</td>\n      <td>43</td>\n      <td>46</td>\n      <td></td>\n      <td></td>\n      <td></td>\n      <td></td>\n      <td>[{'name': 'Lernaean Hydra', 'w': 0.4178039}, {...</td>\n      <td>NaN</td>\n      <td>NaN</td>\n      <td>NaN</td>\n    </tr>\n    <tr>\n      <th>1</th>\n      <td>1000018889</td>\n      <td>Remote Policy Enforcement for Trusted Applicat...</td>\n      <td>[{'name': 'Fabio Martinelli', 'id': '210743870...</td>\n      <td>{'raw': 'international conference on trusted s...</td>\n      <td>2013</td>\n      <td>2</td>\n      <td>70</td>\n      <td>84</td>\n      <td>Conference</td>\n      <td>Springer, Cham</td>\n      <td></td>\n      <td></td>\n      <td>[{'name': 'Trusted Computing', 'w': 0.63148589...</td>\n      <td>10.1007/978-3-319-03491-1_5</td>\n      <td>[94181602, 1504669610, 1542792105, 1639158619,...</td>\n      <td>{'IndexLength': 173, 'InvertedIndex': {'Both':...</td>\n    </tr>\n    <tr>\n      <th>2</th>\n      <td>1000022707</td>\n      <td>A SIMPLE OBSERVATION REGARDING ITERATIONS OF F...</td>\n      <td>[{'name': 'Jerzy Mycka', 'id': '263067851'}]</td>\n      <td>{'raw': 'Reports on Mathematical Logic', 'id':...</td>\n      <td>2009</td>\n      <td>0</td>\n      <td>19</td>\n      <td>29</td>\n      <td>Journal</td>\n      <td></td>\n      <td>44</td>\n      <td></td>\n      <td>[{'name': 'Discrete mathematics', 'w': 0.47368...</td>\n      <td>NaN</td>\n      <td>[1972178849, 2069792094]</td>\n      <td>{'IndexLength': 49, 'InvertedIndex': {'A': [0]...</td>\n    </tr>\n    <tr>\n      <th>3</th>\n      <td>100004108</td>\n      <td>Gait based human identity recognition from mul...</td>\n      <td>[{'name': 'Emdad Hossain', 'id': '2017661848',...</td>\n      <td>{'raw': 'international conference on algorithm...</td>\n      <td>2012</td>\n      <td>0</td>\n      <td>319</td>\n      <td>328</td>\n      <td>Conference</td>\n      <td>Springer, Berlin, Heidelberg</td>\n      <td></td>\n      <td></td>\n      <td>[{'name': 'Biometrics', 'w': 0.529778063000000...</td>\n      <td>10.1007/978-3-642-33065-0_34</td>\n      <td>[1578000111, 2120433720, 2136461127, 213893135...</td>\n      <td>{'IndexLength': 82, 'InvertedIndex': {'In': [0...</td>\n    </tr>\n    <tr>\n      <th>4</th>\n      <td>10000571</td>\n      <td>The GAME Algorithm Applied to Complex Fraction...</td>\n      <td>[{'name': 'Pavel Kordík', 'id': '419063071', '...</td>\n      <td>{'raw': 'international conference on artificia...</td>\n      <td>2008</td>\n      <td>5</td>\n      <td>859</td>\n      <td>868</td>\n      <td>Conference</td>\n      <td>Springer, Berlin, Heidelberg</td>\n      <td></td>\n      <td></td>\n      <td>[{'name': 'Pattern recognition', 'w': 0.453429...</td>\n      <td>10.1007/978-3-540-87559-8_89</td>\n      <td>[291899685, 1964166287, 2135293965, 2146842127...</td>\n      <td>{'IndexLength': 171, 'InvertedIndex': {'Comple...</td>\n    </tr>\n    <tr>\n      <th>...</th>\n      <td>...</td>\n      <td>...</td>\n      <td>...</td>\n      <td>...</td>\n      <td>...</td>\n      <td>...</td>\n      <td>...</td>\n      <td>...</td>\n      <td>...</td>\n      <td>...</td>\n      <td>...</td>\n      <td>...</td>\n      <td>...</td>\n      <td>...</td>\n      <td>...</td>\n      <td>...</td>\n    </tr>\n    <tr>\n      <th>9995</th>\n      <td>105154181</td>\n      <td>Mathematical Theory Makes Formal Concept Analy...</td>\n      <td>[{'name': 'Bernhard Ganter', 'id': '2584030807'}]</td>\n      <td>{'raw': 'Description Logics', 'id': '2764557503'}</td>\n      <td>2008</td>\n      <td>0</td>\n      <td></td>\n      <td></td>\n      <td>Journal</td>\n      <td></td>\n      <td></td>\n      <td></td>\n      <td>[{'name': 'Applied mathematics', 'w': 0.440267...</td>\n      <td>NaN</td>\n      <td>NaN</td>\n      <td>NaN</td>\n    </tr>\n    <tr>\n      <th>9996</th>\n      <td>105154304</td>\n      <td>Improved phoneme recognition by integrating ev...</td>\n      <td>[{'name': 'Shang-wen Li', 'id': '2137430318'},...</td>\n      <td>{'raw': 'conference of the international speec...</td>\n      <td>2010</td>\n      <td>5</td>\n      <td>1177</td>\n      <td>1180</td>\n      <td>Conference</td>\n      <td></td>\n      <td></td>\n      <td></td>\n      <td>[{'name': 'Artificial intelligence', 'w': 0.0}...</td>\n      <td>NaN</td>\n      <td>NaN</td>\n      <td>NaN</td>\n    </tr>\n    <tr>\n      <th>9997</th>\n      <td>10515480</td>\n      <td>A Unified Taxonomy of Hybrid Metaheuristics wi...</td>\n      <td>[{'name': 'El-Ghazali Talbi', 'id': '228565846...</td>\n      <td>{'raw': 'Hybrid Metaheuristics'}</td>\n      <td>2013</td>\n      <td>7</td>\n      <td>3</td>\n      <td>76</td>\n      <td></td>\n      <td>Springer Berlin Heidelberg</td>\n      <td></td>\n      <td></td>\n      <td>[{'name': 'Metaheuristic', 'w': 0.605617642}, ...</td>\n      <td>10.1007/978-3-642-30671-6_1</td>\n      <td>[51126395, 72011665, 73826515, 91781137, 12577...</td>\n      <td>{'IndexLength': 101, 'InvertedIndex': {'Over':...</td>\n    </tr>\n    <tr>\n      <th>9998</th>\n      <td>105155086</td>\n      <td>Multithreaded Execution Architecture and Compi...</td>\n      <td>[{'name': 'Organizers: Dean M. Tullsen', 'id':...</td>\n      <td>{'raw': 'high performance computer architectur...</td>\n      <td>1999</td>\n      <td>2</td>\n      <td>321</td>\n      <td></td>\n      <td>Conference</td>\n      <td>IEEE Computer Society</td>\n      <td></td>\n      <td></td>\n      <td>[{'name': 'Parallel computing', 'w': 0.4707954...</td>\n      <td>NaN</td>\n      <td>NaN</td>\n      <td>NaN</td>\n    </tr>\n    <tr>\n      <th>9999</th>\n      <td>105155515</td>\n      <td>eRules: A Modular Adaptive Classification Rule...</td>\n      <td>[{'name': 'Frederic T. Stahl', 'id': '21128370...</td>\n      <td>{'raw': 'Proceedings of the Thirty-second SGAI...</td>\n      <td>2012</td>\n      <td>2</td>\n      <td>65</td>\n      <td>78</td>\n      <td></td>\n      <td>Springer, London</td>\n      <td></td>\n      <td></td>\n      <td>[{'name': 'Rule induction', 'w': 0.5433053}, {...</td>\n      <td>10.1007/978-1-4471-4739-8_5</td>\n      <td>[1569433171, 1591695423, 1971601157, 197851564...</td>\n      <td>{'IndexLength': 300, 'InvertedIndex': {'Advanc...</td>\n    </tr>\n  </tbody>\n</table>\n<p>10000 rows × 16 columns</p>\n</div>"
     },
     "execution_count": 5,
     "metadata": {},
     "output_type": "execute_result"
    }
   ],
   "source": [
    "df"
   ],
   "metadata": {
    "pycharm": {
     "name": "#%%\n"
    },
    "id": "_pX6H2jjoDFb",
    "colab": {
     "base_uri": "https://localhost:8080/",
     "height": 1000
    },
    "outputId": "87f01fb4-bbd2-479a-dd49-92ccea87fc08"
   }
  },
  {
   "cell_type": "code",
   "source": [
    "df.shape"
   ],
   "metadata": {
    "colab": {
     "base_uri": "https://localhost:8080/"
    },
    "id": "lwP8Cm9YBBVz",
    "outputId": "3d45c85f-4dc8-409c-ac3b-51a0b64f188b"
   },
   "execution_count": 6,
   "outputs": [
    {
     "data": {
      "text/plain": "(10000, 16)"
     },
     "execution_count": 6,
     "metadata": {},
     "output_type": "execute_result"
    }
   ]
  },
  {
   "cell_type": "markdown",
   "source": [
    "We analyze all the columns one by one to check for null and `NaN` values.\n",
    "Given that we dispose of a very large dataset, we will drop the samples that present such data."
   ],
   "metadata": {
    "id": "PgDVXWu9NYzo"
   }
  },
  {
   "cell_type": "code",
   "source": [
    "for column in df:\n",
    "  print(f\"Column: {column}\")\n",
    "  print(f\"NUll values: {df[column].isnull().values.any()}\") \n",
    "  print(f\"NaN values : {df[column].isna().values.any()}\\n\")"
   ],
   "metadata": {
    "colab": {
     "base_uri": "https://localhost:8080/"
    },
    "id": "Bi9PkSCgOG71",
    "outputId": "72a33cfd-6f64-4558-869d-ee0f4fed6551"
   },
   "execution_count": 7,
   "outputs": [
    {
     "name": "stdout",
     "output_type": "stream",
     "text": [
      "Column: id\n",
      "NUll values: False\n",
      "NaN values : False\n",
      "\n",
      "Column: title\n",
      "NUll values: False\n",
      "NaN values : False\n",
      "\n",
      "Column: authors\n",
      "NUll values: False\n",
      "NaN values : False\n",
      "\n",
      "Column: venue\n",
      "NUll values: True\n",
      "NaN values : True\n",
      "\n",
      "Column: year\n",
      "NUll values: False\n",
      "NaN values : False\n",
      "\n",
      "Column: n_citation\n",
      "NUll values: False\n",
      "NaN values : False\n",
      "\n",
      "Column: page_start\n",
      "NUll values: False\n",
      "NaN values : False\n",
      "\n",
      "Column: page_end\n",
      "NUll values: False\n",
      "NaN values : False\n",
      "\n",
      "Column: doc_type\n",
      "NUll values: False\n",
      "NaN values : False\n",
      "\n",
      "Column: publisher\n",
      "NUll values: False\n",
      "NaN values : False\n",
      "\n",
      "Column: volume\n",
      "NUll values: False\n",
      "NaN values : False\n",
      "\n",
      "Column: issue\n",
      "NUll values: False\n",
      "NaN values : False\n",
      "\n",
      "Column: fos\n",
      "NUll values: True\n",
      "NaN values : True\n",
      "\n",
      "Column: doi\n",
      "NUll values: True\n",
      "NaN values : True\n",
      "\n",
      "Column: references\n",
      "NUll values: True\n",
      "NaN values : True\n",
      "\n",
      "Column: indexed_abstract\n",
      "NUll values: True\n",
      "NaN values : True\n",
      "\n"
     ]
    }
   ]
  },
  {
   "cell_type": "code",
   "source": [
    "df = df.dropna(axis=0, how=\"any\")\n",
    "df"
   ],
   "metadata": {
    "colab": {
     "base_uri": "https://localhost:8080/",
     "height": 1000
    },
    "id": "3-EbQmyjQFPC",
    "outputId": "95a6d267-487f-45c3-856e-4606f9f36278"
   },
   "execution_count": 8,
   "outputs": [
    {
     "data": {
      "text/plain": "              id                                              title  \\\n1     1000018889  Remote Policy Enforcement for Trusted Applicat...   \n3      100004108  Gait based human identity recognition from mul...   \n4       10000571  The GAME Algorithm Applied to Complex Fraction...   \n11    1000096266  Pilots Aided Channel Estimation for Doubly Sel...   \n13    1000117647  Mould-taper asymptotics and air gap formation ...   \n...          ...                                                ...   \n9991   105153476  Earley’s Parsing Algorithm and k-Petri Net Con...   \n9993  1051540501  Towards Forward Security Properties for PEKS a...   \n9994  1051540762  Constructions of CCA-Secure Revocable Identity...   \n9997    10515480  A Unified Taxonomy of Hybrid Metaheuristics wi...   \n9999   105155515  eRules: A Modular Adaptive Classification Rule...   \n\n                                                authors  \\\n1     [{'name': 'Fabio Martinelli', 'id': '210743870...   \n3     [{'name': 'Emdad Hossain', 'id': '2017661848',...   \n4     [{'name': 'Pavel Kordík', 'id': '419063071', '...   \n11    [{'name': 'Sunzeng Cai', 'id': '2703866035', '...   \n13    [{'name': 'Brendan J. Florio', 'id': '19948004...   \n...                                                 ...   \n9991  [{'name': 'Taishin Y. Nishida', 'id': '2040037...   \n9993  [{'name': 'Qiang Tang', 'id': '2132485330', 'o...   \n9994  [{'name': 'Yuu Ishida', 'id': '2512789699', 'o...   \n9997  [{'name': 'El-Ghazali Talbi', 'id': '228565846...   \n9999  [{'name': 'Frederic T. Stahl', 'id': '21128370...   \n\n                                                  venue  year  n_citation  \\\n1     {'raw': 'international conference on trusted s...  2013           2   \n3     {'raw': 'international conference on algorithm...  2012           0   \n4     {'raw': 'international conference on artificia...  2008           5   \n11    {'raw': 'international wireless internet confe...  2013           0   \n13    {'raw': 'Applied Mathematics and Computation',...  2015           7   \n...                                                 ...   ...         ...   \n9991                         {'raw': 'Languages Alive'}  2012           1   \n9993  {'raw': 'australasian conference on informatio...  2015           2   \n9994  {'raw': 'australasian conference on informatio...  2015           3   \n9997                   {'raw': 'Hybrid Metaheuristics'}  2013           7   \n9999  {'raw': 'Proceedings of the Thirty-second SGAI...  2012           2   \n\n     page_start page_end    doc_type                     publisher volume  \\\n1            70       84  Conference                Springer, Cham          \n3           319      328  Conference  Springer, Berlin, Heidelberg          \n4           859      868  Conference  Springer, Berlin, Heidelberg          \n11            1       13  Conference  Springer, Berlin, Heidelberg          \n13         1122     1139     Journal                      Elsevier    268   \n...         ...      ...         ...                           ...    ...   \n9991        174      185              Springer, Berlin, Heidelberg          \n9993        127      144  Conference                Springer, Cham          \n9994        174      191  Conference                Springer, Cham          \n9997          3       76                Springer Berlin Heidelberg          \n9999         65       78                          Springer, London          \n\n     issue                                                fos  \\\n1           [{'name': 'Trusted Computing', 'w': 0.63148589...   \n3           [{'name': 'Biometrics', 'w': 0.529778063000000...   \n4           [{'name': 'Pattern recognition', 'w': 0.453429...   \n11          [{'name': 'Computer science', 'w': 0.361955434...   \n13          [{'name': 'Mathematical optimization', 'w': 0....   \n...    ...                                                ...   \n9991        [{'name': 'Parsing', 'w': 0.651717365}, {'name...   \n9993        [{'name': 'Computer science', 'w': 0.3969278},...   \n9994        [{'name': 'Ciphertext', 'w': 0.5906863}, {'nam...   \n9997        [{'name': 'Metaheuristic', 'w': 0.605617642}, ...   \n9999        [{'name': 'Rule induction', 'w': 0.5433053}, {...   \n\n                               doi  \\\n1      10.1007/978-3-319-03491-1_5   \n3     10.1007/978-3-642-33065-0_34   \n4     10.1007/978-3-540-87559-8_89   \n11     10.1007/978-3-642-41773-3_1   \n13       10.1016/j.amc.2015.07.011   \n...                            ...   \n9991  10.1007/978-3-642-31644-9_12   \n9993   10.1007/978-3-319-19962-7_8   \n9994  10.1007/978-3-319-19962-7_11   \n9997   10.1007/978-3-642-30671-6_1   \n9999   10.1007/978-1-4471-4739-8_5   \n\n                                             references  \\\n1     [94181602, 1504669610, 1542792105, 1639158619,...   \n3     [1578000111, 2120433720, 2136461127, 213893135...   \n4     [291899685, 1964166287, 2135293965, 2146842127...   \n11    [1801089468, 1963850605, 2064076416, 211953192...   \n13                             [2115718968, 2151110682]   \n...                                                 ...   \n9991  [196129900, 1496549841, 1601504131, 1970961429...   \n9993  [122561124, 165774471, 177462532, 198181672, 1...   \n9994  [21280657, 1484751769, 1522268755, 1546774120,...   \n9997  [51126395, 72011665, 73826515, 91781137, 12577...   \n9999  [1569433171, 1591695423, 1971601157, 197851564...   \n\n                                       indexed_abstract  \n1     {'IndexLength': 173, 'InvertedIndex': {'Both':...  \n3     {'IndexLength': 82, 'InvertedIndex': {'In': [0...  \n4     {'IndexLength': 171, 'InvertedIndex': {'Comple...  \n11    {'IndexLength': 131, 'InvertedIndex': {'In': [...  \n13    {'IndexLength': 159, 'InvertedIndex': {'We': [...  \n...                                                 ...  \n9991  {'IndexLength': 64, 'InvertedIndex': {'In': [0...  \n9993  {'IndexLength': 218, 'InvertedIndex': {'In': [...  \n9994  {'IndexLength': 177, 'InvertedIndex': {'Key': ...  \n9997  {'IndexLength': 101, 'InvertedIndex': {'Over':...  \n9999  {'IndexLength': 300, 'InvertedIndex': {'Advanc...  \n\n[4418 rows x 16 columns]",
      "text/html": "<div>\n<style scoped>\n    .dataframe tbody tr th:only-of-type {\n        vertical-align: middle;\n    }\n\n    .dataframe tbody tr th {\n        vertical-align: top;\n    }\n\n    .dataframe thead th {\n        text-align: right;\n    }\n</style>\n<table border=\"1\" class=\"dataframe\">\n  <thead>\n    <tr style=\"text-align: right;\">\n      <th></th>\n      <th>id</th>\n      <th>title</th>\n      <th>authors</th>\n      <th>venue</th>\n      <th>year</th>\n      <th>n_citation</th>\n      <th>page_start</th>\n      <th>page_end</th>\n      <th>doc_type</th>\n      <th>publisher</th>\n      <th>volume</th>\n      <th>issue</th>\n      <th>fos</th>\n      <th>doi</th>\n      <th>references</th>\n      <th>indexed_abstract</th>\n    </tr>\n  </thead>\n  <tbody>\n    <tr>\n      <th>1</th>\n      <td>1000018889</td>\n      <td>Remote Policy Enforcement for Trusted Applicat...</td>\n      <td>[{'name': 'Fabio Martinelli', 'id': '210743870...</td>\n      <td>{'raw': 'international conference on trusted s...</td>\n      <td>2013</td>\n      <td>2</td>\n      <td>70</td>\n      <td>84</td>\n      <td>Conference</td>\n      <td>Springer, Cham</td>\n      <td></td>\n      <td></td>\n      <td>[{'name': 'Trusted Computing', 'w': 0.63148589...</td>\n      <td>10.1007/978-3-319-03491-1_5</td>\n      <td>[94181602, 1504669610, 1542792105, 1639158619,...</td>\n      <td>{'IndexLength': 173, 'InvertedIndex': {'Both':...</td>\n    </tr>\n    <tr>\n      <th>3</th>\n      <td>100004108</td>\n      <td>Gait based human identity recognition from mul...</td>\n      <td>[{'name': 'Emdad Hossain', 'id': '2017661848',...</td>\n      <td>{'raw': 'international conference on algorithm...</td>\n      <td>2012</td>\n      <td>0</td>\n      <td>319</td>\n      <td>328</td>\n      <td>Conference</td>\n      <td>Springer, Berlin, Heidelberg</td>\n      <td></td>\n      <td></td>\n      <td>[{'name': 'Biometrics', 'w': 0.529778063000000...</td>\n      <td>10.1007/978-3-642-33065-0_34</td>\n      <td>[1578000111, 2120433720, 2136461127, 213893135...</td>\n      <td>{'IndexLength': 82, 'InvertedIndex': {'In': [0...</td>\n    </tr>\n    <tr>\n      <th>4</th>\n      <td>10000571</td>\n      <td>The GAME Algorithm Applied to Complex Fraction...</td>\n      <td>[{'name': 'Pavel Kordík', 'id': '419063071', '...</td>\n      <td>{'raw': 'international conference on artificia...</td>\n      <td>2008</td>\n      <td>5</td>\n      <td>859</td>\n      <td>868</td>\n      <td>Conference</td>\n      <td>Springer, Berlin, Heidelberg</td>\n      <td></td>\n      <td></td>\n      <td>[{'name': 'Pattern recognition', 'w': 0.453429...</td>\n      <td>10.1007/978-3-540-87559-8_89</td>\n      <td>[291899685, 1964166287, 2135293965, 2146842127...</td>\n      <td>{'IndexLength': 171, 'InvertedIndex': {'Comple...</td>\n    </tr>\n    <tr>\n      <th>11</th>\n      <td>1000096266</td>\n      <td>Pilots Aided Channel Estimation for Doubly Sel...</td>\n      <td>[{'name': 'Sunzeng Cai', 'id': '2703866035', '...</td>\n      <td>{'raw': 'international wireless internet confe...</td>\n      <td>2013</td>\n      <td>0</td>\n      <td>1</td>\n      <td>13</td>\n      <td>Conference</td>\n      <td>Springer, Berlin, Heidelberg</td>\n      <td></td>\n      <td></td>\n      <td>[{'name': 'Computer science', 'w': 0.361955434...</td>\n      <td>10.1007/978-3-642-41773-3_1</td>\n      <td>[1801089468, 1963850605, 2064076416, 211953192...</td>\n      <td>{'IndexLength': 131, 'InvertedIndex': {'In': [...</td>\n    </tr>\n    <tr>\n      <th>13</th>\n      <td>1000117647</td>\n      <td>Mould-taper asymptotics and air gap formation ...</td>\n      <td>[{'name': 'Brendan J. Florio', 'id': '19948004...</td>\n      <td>{'raw': 'Applied Mathematics and Computation',...</td>\n      <td>2015</td>\n      <td>7</td>\n      <td>1122</td>\n      <td>1139</td>\n      <td>Journal</td>\n      <td>Elsevier</td>\n      <td>268</td>\n      <td></td>\n      <td>[{'name': 'Mathematical optimization', 'w': 0....</td>\n      <td>10.1016/j.amc.2015.07.011</td>\n      <td>[2115718968, 2151110682]</td>\n      <td>{'IndexLength': 159, 'InvertedIndex': {'We': [...</td>\n    </tr>\n    <tr>\n      <th>...</th>\n      <td>...</td>\n      <td>...</td>\n      <td>...</td>\n      <td>...</td>\n      <td>...</td>\n      <td>...</td>\n      <td>...</td>\n      <td>...</td>\n      <td>...</td>\n      <td>...</td>\n      <td>...</td>\n      <td>...</td>\n      <td>...</td>\n      <td>...</td>\n      <td>...</td>\n      <td>...</td>\n    </tr>\n    <tr>\n      <th>9991</th>\n      <td>105153476</td>\n      <td>Earley’s Parsing Algorithm and k-Petri Net Con...</td>\n      <td>[{'name': 'Taishin Y. Nishida', 'id': '2040037...</td>\n      <td>{'raw': 'Languages Alive'}</td>\n      <td>2012</td>\n      <td>1</td>\n      <td>174</td>\n      <td>185</td>\n      <td></td>\n      <td>Springer, Berlin, Heidelberg</td>\n      <td></td>\n      <td></td>\n      <td>[{'name': 'Parsing', 'w': 0.651717365}, {'name...</td>\n      <td>10.1007/978-3-642-31644-9_12</td>\n      <td>[196129900, 1496549841, 1601504131, 1970961429...</td>\n      <td>{'IndexLength': 64, 'InvertedIndex': {'In': [0...</td>\n    </tr>\n    <tr>\n      <th>9993</th>\n      <td>1051540501</td>\n      <td>Towards Forward Security Properties for PEKS a...</td>\n      <td>[{'name': 'Qiang Tang', 'id': '2132485330', 'o...</td>\n      <td>{'raw': 'australasian conference on informatio...</td>\n      <td>2015</td>\n      <td>2</td>\n      <td>127</td>\n      <td>144</td>\n      <td>Conference</td>\n      <td>Springer, Cham</td>\n      <td></td>\n      <td></td>\n      <td>[{'name': 'Computer science', 'w': 0.3969278},...</td>\n      <td>10.1007/978-3-319-19962-7_8</td>\n      <td>[122561124, 165774471, 177462532, 198181672, 1...</td>\n      <td>{'IndexLength': 218, 'InvertedIndex': {'In': [...</td>\n    </tr>\n    <tr>\n      <th>9994</th>\n      <td>1051540762</td>\n      <td>Constructions of CCA-Secure Revocable Identity...</td>\n      <td>[{'name': 'Yuu Ishida', 'id': '2512789699', 'o...</td>\n      <td>{'raw': 'australasian conference on informatio...</td>\n      <td>2015</td>\n      <td>3</td>\n      <td>174</td>\n      <td>191</td>\n      <td>Conference</td>\n      <td>Springer, Cham</td>\n      <td></td>\n      <td></td>\n      <td>[{'name': 'Ciphertext', 'w': 0.5906863}, {'nam...</td>\n      <td>10.1007/978-3-319-19962-7_11</td>\n      <td>[21280657, 1484751769, 1522268755, 1546774120,...</td>\n      <td>{'IndexLength': 177, 'InvertedIndex': {'Key': ...</td>\n    </tr>\n    <tr>\n      <th>9997</th>\n      <td>10515480</td>\n      <td>A Unified Taxonomy of Hybrid Metaheuristics wi...</td>\n      <td>[{'name': 'El-Ghazali Talbi', 'id': '228565846...</td>\n      <td>{'raw': 'Hybrid Metaheuristics'}</td>\n      <td>2013</td>\n      <td>7</td>\n      <td>3</td>\n      <td>76</td>\n      <td></td>\n      <td>Springer Berlin Heidelberg</td>\n      <td></td>\n      <td></td>\n      <td>[{'name': 'Metaheuristic', 'w': 0.605617642}, ...</td>\n      <td>10.1007/978-3-642-30671-6_1</td>\n      <td>[51126395, 72011665, 73826515, 91781137, 12577...</td>\n      <td>{'IndexLength': 101, 'InvertedIndex': {'Over':...</td>\n    </tr>\n    <tr>\n      <th>9999</th>\n      <td>105155515</td>\n      <td>eRules: A Modular Adaptive Classification Rule...</td>\n      <td>[{'name': 'Frederic T. Stahl', 'id': '21128370...</td>\n      <td>{'raw': 'Proceedings of the Thirty-second SGAI...</td>\n      <td>2012</td>\n      <td>2</td>\n      <td>65</td>\n      <td>78</td>\n      <td></td>\n      <td>Springer, London</td>\n      <td></td>\n      <td></td>\n      <td>[{'name': 'Rule induction', 'w': 0.5433053}, {...</td>\n      <td>10.1007/978-1-4471-4739-8_5</td>\n      <td>[1569433171, 1591695423, 1971601157, 197851564...</td>\n      <td>{'IndexLength': 300, 'InvertedIndex': {'Advanc...</td>\n    </tr>\n  </tbody>\n</table>\n<p>4418 rows × 16 columns</p>\n</div>"
     },
     "execution_count": 8,
     "metadata": {},
     "output_type": "execute_result"
    }
   ]
  },
  {
   "cell_type": "markdown",
   "source": [
    "We check that all the incomplete values have been removed:"
   ],
   "metadata": {
    "id": "F3KdXtmkEosj"
   }
  },
  {
   "cell_type": "code",
   "source": [
    "for column in df:\n",
    "  print(f\"Column: {column}\")\n",
    "  print(f\"NUll values: {df[column].isnull().values.any()}\") \n",
    "  print(f\"NaN values : {df[column].isna().values.any()}\\n\")"
   ],
   "metadata": {
    "colab": {
     "base_uri": "https://localhost:8080/"
    },
    "id": "UH9DyhPqQanS",
    "outputId": "ac9ca93a-8085-46b7-8266-cbddc1d59200"
   },
   "execution_count": 9,
   "outputs": [
    {
     "name": "stdout",
     "output_type": "stream",
     "text": [
      "Column: id\n",
      "NUll values: False\n",
      "NaN values : False\n",
      "\n",
      "Column: title\n",
      "NUll values: False\n",
      "NaN values : False\n",
      "\n",
      "Column: authors\n",
      "NUll values: False\n",
      "NaN values : False\n",
      "\n",
      "Column: venue\n",
      "NUll values: False\n",
      "NaN values : False\n",
      "\n",
      "Column: year\n",
      "NUll values: False\n",
      "NaN values : False\n",
      "\n",
      "Column: n_citation\n",
      "NUll values: False\n",
      "NaN values : False\n",
      "\n",
      "Column: page_start\n",
      "NUll values: False\n",
      "NaN values : False\n",
      "\n",
      "Column: page_end\n",
      "NUll values: False\n",
      "NaN values : False\n",
      "\n",
      "Column: doc_type\n",
      "NUll values: False\n",
      "NaN values : False\n",
      "\n",
      "Column: publisher\n",
      "NUll values: False\n",
      "NaN values : False\n",
      "\n",
      "Column: volume\n",
      "NUll values: False\n",
      "NaN values : False\n",
      "\n",
      "Column: issue\n",
      "NUll values: False\n",
      "NaN values : False\n",
      "\n",
      "Column: fos\n",
      "NUll values: False\n",
      "NaN values : False\n",
      "\n",
      "Column: doi\n",
      "NUll values: False\n",
      "NaN values : False\n",
      "\n",
      "Column: references\n",
      "NUll values: False\n",
      "NaN values : False\n",
      "\n",
      "Column: indexed_abstract\n",
      "NUll values: False\n",
      "NaN values : False\n",
      "\n"
     ]
    }
   ]
  },
  {
   "cell_type": "markdown",
   "source": [
    "Again, given that the dataset is very large, we will also drop the samples that contain an empty string in any column."
   ],
   "metadata": {
    "id": "emMLE1KyTTZA"
   }
  },
  {
   "cell_type": "code",
   "source": [
    "for column in df:\n",
    "  df = df[df[column] != \"\"]\n",
    "  \n",
    "df"
   ],
   "metadata": {
    "colab": {
     "base_uri": "https://localhost:8080/",
     "height": 1000
    },
    "id": "_dX3LTIyTXdz",
    "outputId": "50d76d87-b196-4ef1-bc8a-773852c137c2"
   },
   "execution_count": 10,
   "outputs": [
    {
     "data": {
      "text/plain": "              id                                              title  \\\n44     100026658  On the Seismic Disturbance Rejection of Struct...   \n49    1000290224  Fast motion estimation for HEVC on graphics pr...   \n50    1000298444  Technological unemployment and human disenhanc...   \n56    1000312060  Runtime verification with minimal intrusion th...   \n61     100031634            A window on shared virtual environments   \n...          ...                                                ...   \n9840  1050485050  Several classes of polynomials with low differ...   \n9846  1050549874  A diagnosis algorithm by using graph-coloring ...   \n9868  1050717819  Descriptive analysis of medication errors repo...   \n9949  1051237357           Construction of self-dual codes over ℤ2m   \n9973  1051421224           An NP-complete fragment of fibring logic   \n\n                                                authors  \\\n44    [{'name': 'Emmanuel C. Zacharenakis', 'id': '2...   \n49    [{'name': 'Dongkyu Lee', 'id': '2163056226', '...   \n50    [{'name': 'Michele Loi', 'id': '2676097775', '...   \n56    [{'name': 'Shay Berkovich', 'id': '2117350123'...   \n61    [{'name': 'Denis Amselem', 'id': '2533711948',...   \n...                                                 ...   \n9840  [{'name': 'Guangkui Xu', 'id': '2097899471', '...   \n9846  [{'name': 'Qiang Zhu', 'id': '2656285327', 'or...   \n9868  [{'name': 'Zahraa Hassan Abdelrahman Shehata',...   \n9949  [{'name': 'Anuradha Sharma', 'id': '2424898481...   \n9973  [{'name': 'Yin Wu', 'id': '2096410828', 'org':...   \n\n                                                  venue  year  n_citation  \\\n44    {'raw': 'Journal of Global Optimization', 'id'...  2000           1   \n49    {'raw': 'Journal of Real-time Image Processing...  2016           3   \n50    {'raw': 'Ethics and Information Technology', '...  2015           6   \n56        {'raw': 'formal methods', 'id': '1169806927'}  2015           8   \n61    {'raw': 'Presence: Teleoperators & Virtual Env...  1995          28   \n...                                                 ...   ...         ...   \n9840  {'raw': 'Applicable Algebra in Engineering, Co...  2016           0   \n9846  {'raw': 'Journal of Combinatorial Optimization...  2016           2   \n9868  {'raw': 'Journal of the American Medical Infor...  2016           4   \n9949  {'raw': 'Cryptography and Communications', 'id...  2016           0   \n9973  {'raw': 'Annals of Mathematics and Artificial ...  2015           6   \n\n     page_start page_end    doc_type                          publisher  \\\n44          403      410     Journal         Kluwer Academic Publishers   \n49          549      562     Journal         Springer Berlin Heidelberg   \n50          201      210     Journal               Springer Netherlands   \n56          317      348  Conference                        Springer US   \n61          130      145     Journal                          MIT Press   \n...         ...      ...         ...                                ...   \n9840         91      103     Journal         Springer Berlin Heidelberg   \n9846        960      969     Journal                        Springer US   \n9868        366      374     Journal        The Oxford University Press   \n9949         83      101     Journal                        Springer US   \n9973        391      417     Journal  Springer International Publishing   \n\n     volume issue                                                fos  \\\n44       17     1  [{'name': 'Mathematical optimization', 'w': 0....   \n49       12     2  [{'name': 'Synchronization (computer science)'...   \n50       17     3  [{'name': 'Sociology', 'w': 0.410797566}, {'na...   \n56       46     3  [{'name': 'Real-time computing', 'w': 0.469279...   \n61        4     2  [{'name': 'Multi-user', 'w': 0.477106541000000...   \n...     ...   ...                                                ...   \n9840     27     2  [{'name': 'Combinatorics', 'w': 0.461340159}, ...   \n9846     32     3  [{'name': 'Vertex (geometry)', 'w': 0.44818171...   \n9868     23     2  [{'name': 'Knowledge transfer', 'w': 0.4179790...   \n9949      8     1  [{'name': 'Combinatorics', 'w': 0.401857883}, ...   \n9973     75     3  [{'name': 'Discrete mathematics', 'w': 0.46110...   \n\n                            doi  \\\n44      10.1023/A:1026528715747   \n49    10.1007/s11554-015-0522-6   \n50    10.1007/s10676-015-9375-8   \n56    10.1007/s10703-015-0226-3   \n61    10.1162/pres.1995.4.2.130   \n...                         ...   \n9840  10.1007/s00200-015-0272-5   \n9846  10.1007/s10878-015-9923-5   \n9868       10.1093/jamia/ocv096   \n9949  10.1007/s12095-015-0139-4   \n9973  10.1007/s10472-015-9468-4   \n\n                                             references  \\\n44                             [2003915072, 2006246895]   \n49    [2019126579, 2024876340, 2033981732, 208518556...   \n50                                         [1631150390]   \n56    [39084266, 140229164, 143962766, 209133351, 32...   \n61    [203056148, 1515186102, 1965498649, 2023331673...   \n...                                                 ...   \n9840  [103329842, 1528065150, 1587687098, 1858314666...   \n9846  [1584084163, 1595619353, 1699514597, 192339624...   \n9868                                       [2099114371]   \n9949   [2061721328, 2063618950, 2127017001, 2151813678]   \n9973  [60027889, 125059438, 1499632220, 1500091283, ...   \n\n                                       indexed_abstract  \n44    {'IndexLength': 40, 'InvertedIndex': {'Using':...  \n49    {'IndexLength': 211, 'InvertedIndex': {'The': ...  \n50    {'IndexLength': 135, 'InvertedIndex': {'This':...  \n56    {'IndexLength': 207, 'InvertedIndex': {'Runtim...  \n61    {'IndexLength': 56, 'InvertedIndex': {'This': ...  \n...                                                 ...  \n9840  {'IndexLength': 66, 'InvertedIndex': {'In': [0...  \n9846  {'IndexLength': 144, 'InvertedIndex': {'Fault'...  \n9868  {'IndexLength': 282, 'InvertedIndex': {'Object...  \n9949  {'IndexLength': 147, 'InvertedIndex': {'Self-d...  \n9973  {'IndexLength': 133, 'InvertedIndex': {'The': ...  \n\n[478 rows x 16 columns]",
      "text/html": "<div>\n<style scoped>\n    .dataframe tbody tr th:only-of-type {\n        vertical-align: middle;\n    }\n\n    .dataframe tbody tr th {\n        vertical-align: top;\n    }\n\n    .dataframe thead th {\n        text-align: right;\n    }\n</style>\n<table border=\"1\" class=\"dataframe\">\n  <thead>\n    <tr style=\"text-align: right;\">\n      <th></th>\n      <th>id</th>\n      <th>title</th>\n      <th>authors</th>\n      <th>venue</th>\n      <th>year</th>\n      <th>n_citation</th>\n      <th>page_start</th>\n      <th>page_end</th>\n      <th>doc_type</th>\n      <th>publisher</th>\n      <th>volume</th>\n      <th>issue</th>\n      <th>fos</th>\n      <th>doi</th>\n      <th>references</th>\n      <th>indexed_abstract</th>\n    </tr>\n  </thead>\n  <tbody>\n    <tr>\n      <th>44</th>\n      <td>100026658</td>\n      <td>On the Seismic Disturbance Rejection of Struct...</td>\n      <td>[{'name': 'Emmanuel C. Zacharenakis', 'id': '2...</td>\n      <td>{'raw': 'Journal of Global Optimization', 'id'...</td>\n      <td>2000</td>\n      <td>1</td>\n      <td>403</td>\n      <td>410</td>\n      <td>Journal</td>\n      <td>Kluwer Academic Publishers</td>\n      <td>17</td>\n      <td>1</td>\n      <td>[{'name': 'Mathematical optimization', 'w': 0....</td>\n      <td>10.1023/A:1026528715747</td>\n      <td>[2003915072, 2006246895]</td>\n      <td>{'IndexLength': 40, 'InvertedIndex': {'Using':...</td>\n    </tr>\n    <tr>\n      <th>49</th>\n      <td>1000290224</td>\n      <td>Fast motion estimation for HEVC on graphics pr...</td>\n      <td>[{'name': 'Dongkyu Lee', 'id': '2163056226', '...</td>\n      <td>{'raw': 'Journal of Real-time Image Processing...</td>\n      <td>2016</td>\n      <td>3</td>\n      <td>549</td>\n      <td>562</td>\n      <td>Journal</td>\n      <td>Springer Berlin Heidelberg</td>\n      <td>12</td>\n      <td>2</td>\n      <td>[{'name': 'Synchronization (computer science)'...</td>\n      <td>10.1007/s11554-015-0522-6</td>\n      <td>[2019126579, 2024876340, 2033981732, 208518556...</td>\n      <td>{'IndexLength': 211, 'InvertedIndex': {'The': ...</td>\n    </tr>\n    <tr>\n      <th>50</th>\n      <td>1000298444</td>\n      <td>Technological unemployment and human disenhanc...</td>\n      <td>[{'name': 'Michele Loi', 'id': '2676097775', '...</td>\n      <td>{'raw': 'Ethics and Information Technology', '...</td>\n      <td>2015</td>\n      <td>6</td>\n      <td>201</td>\n      <td>210</td>\n      <td>Journal</td>\n      <td>Springer Netherlands</td>\n      <td>17</td>\n      <td>3</td>\n      <td>[{'name': 'Sociology', 'w': 0.410797566}, {'na...</td>\n      <td>10.1007/s10676-015-9375-8</td>\n      <td>[1631150390]</td>\n      <td>{'IndexLength': 135, 'InvertedIndex': {'This':...</td>\n    </tr>\n    <tr>\n      <th>56</th>\n      <td>1000312060</td>\n      <td>Runtime verification with minimal intrusion th...</td>\n      <td>[{'name': 'Shay Berkovich', 'id': '2117350123'...</td>\n      <td>{'raw': 'formal methods', 'id': '1169806927'}</td>\n      <td>2015</td>\n      <td>8</td>\n      <td>317</td>\n      <td>348</td>\n      <td>Conference</td>\n      <td>Springer US</td>\n      <td>46</td>\n      <td>3</td>\n      <td>[{'name': 'Real-time computing', 'w': 0.469279...</td>\n      <td>10.1007/s10703-015-0226-3</td>\n      <td>[39084266, 140229164, 143962766, 209133351, 32...</td>\n      <td>{'IndexLength': 207, 'InvertedIndex': {'Runtim...</td>\n    </tr>\n    <tr>\n      <th>61</th>\n      <td>100031634</td>\n      <td>A window on shared virtual environments</td>\n      <td>[{'name': 'Denis Amselem', 'id': '2533711948',...</td>\n      <td>{'raw': 'Presence: Teleoperators &amp; Virtual Env...</td>\n      <td>1995</td>\n      <td>28</td>\n      <td>130</td>\n      <td>145</td>\n      <td>Journal</td>\n      <td>MIT Press</td>\n      <td>4</td>\n      <td>2</td>\n      <td>[{'name': 'Multi-user', 'w': 0.477106541000000...</td>\n      <td>10.1162/pres.1995.4.2.130</td>\n      <td>[203056148, 1515186102, 1965498649, 2023331673...</td>\n      <td>{'IndexLength': 56, 'InvertedIndex': {'This': ...</td>\n    </tr>\n    <tr>\n      <th>...</th>\n      <td>...</td>\n      <td>...</td>\n      <td>...</td>\n      <td>...</td>\n      <td>...</td>\n      <td>...</td>\n      <td>...</td>\n      <td>...</td>\n      <td>...</td>\n      <td>...</td>\n      <td>...</td>\n      <td>...</td>\n      <td>...</td>\n      <td>...</td>\n      <td>...</td>\n      <td>...</td>\n    </tr>\n    <tr>\n      <th>9840</th>\n      <td>1050485050</td>\n      <td>Several classes of polynomials with low differ...</td>\n      <td>[{'name': 'Guangkui Xu', 'id': '2097899471', '...</td>\n      <td>{'raw': 'Applicable Algebra in Engineering, Co...</td>\n      <td>2016</td>\n      <td>0</td>\n      <td>91</td>\n      <td>103</td>\n      <td>Journal</td>\n      <td>Springer Berlin Heidelberg</td>\n      <td>27</td>\n      <td>2</td>\n      <td>[{'name': 'Combinatorics', 'w': 0.461340159}, ...</td>\n      <td>10.1007/s00200-015-0272-5</td>\n      <td>[103329842, 1528065150, 1587687098, 1858314666...</td>\n      <td>{'IndexLength': 66, 'InvertedIndex': {'In': [0...</td>\n    </tr>\n    <tr>\n      <th>9846</th>\n      <td>1050549874</td>\n      <td>A diagnosis algorithm by using graph-coloring ...</td>\n      <td>[{'name': 'Qiang Zhu', 'id': '2656285327', 'or...</td>\n      <td>{'raw': 'Journal of Combinatorial Optimization...</td>\n      <td>2016</td>\n      <td>2</td>\n      <td>960</td>\n      <td>969</td>\n      <td>Journal</td>\n      <td>Springer US</td>\n      <td>32</td>\n      <td>3</td>\n      <td>[{'name': 'Vertex (geometry)', 'w': 0.44818171...</td>\n      <td>10.1007/s10878-015-9923-5</td>\n      <td>[1584084163, 1595619353, 1699514597, 192339624...</td>\n      <td>{'IndexLength': 144, 'InvertedIndex': {'Fault'...</td>\n    </tr>\n    <tr>\n      <th>9868</th>\n      <td>1050717819</td>\n      <td>Descriptive analysis of medication errors repo...</td>\n      <td>[{'name': 'Zahraa Hassan Abdelrahman Shehata',...</td>\n      <td>{'raw': 'Journal of the American Medical Infor...</td>\n      <td>2016</td>\n      <td>4</td>\n      <td>366</td>\n      <td>374</td>\n      <td>Journal</td>\n      <td>The Oxford University Press</td>\n      <td>23</td>\n      <td>2</td>\n      <td>[{'name': 'Knowledge transfer', 'w': 0.4179790...</td>\n      <td>10.1093/jamia/ocv096</td>\n      <td>[2099114371]</td>\n      <td>{'IndexLength': 282, 'InvertedIndex': {'Object...</td>\n    </tr>\n    <tr>\n      <th>9949</th>\n      <td>1051237357</td>\n      <td>Construction of self-dual codes over ℤ2m</td>\n      <td>[{'name': 'Anuradha Sharma', 'id': '2424898481...</td>\n      <td>{'raw': 'Cryptography and Communications', 'id...</td>\n      <td>2016</td>\n      <td>0</td>\n      <td>83</td>\n      <td>101</td>\n      <td>Journal</td>\n      <td>Springer US</td>\n      <td>8</td>\n      <td>1</td>\n      <td>[{'name': 'Combinatorics', 'w': 0.401857883}, ...</td>\n      <td>10.1007/s12095-015-0139-4</td>\n      <td>[2061721328, 2063618950, 2127017001, 2151813678]</td>\n      <td>{'IndexLength': 147, 'InvertedIndex': {'Self-d...</td>\n    </tr>\n    <tr>\n      <th>9973</th>\n      <td>1051421224</td>\n      <td>An NP-complete fragment of fibring logic</td>\n      <td>[{'name': 'Yin Wu', 'id': '2096410828', 'org':...</td>\n      <td>{'raw': 'Annals of Mathematics and Artificial ...</td>\n      <td>2015</td>\n      <td>6</td>\n      <td>391</td>\n      <td>417</td>\n      <td>Journal</td>\n      <td>Springer International Publishing</td>\n      <td>75</td>\n      <td>3</td>\n      <td>[{'name': 'Discrete mathematics', 'w': 0.46110...</td>\n      <td>10.1007/s10472-015-9468-4</td>\n      <td>[60027889, 125059438, 1499632220, 1500091283, ...</td>\n      <td>{'IndexLength': 133, 'InvertedIndex': {'The': ...</td>\n    </tr>\n  </tbody>\n</table>\n<p>478 rows × 16 columns</p>\n</div>"
     },
     "execution_count": 10,
     "metadata": {},
     "output_type": "execute_result"
    }
   ]
  },
  {
   "cell_type": "code",
   "source": [
    "df.shape"
   ],
   "metadata": {
    "colab": {
     "base_uri": "https://localhost:8080/"
    },
    "id": "pAItfb2UMeBB",
    "outputId": "2c8a50cf-2d86-4645-a951-a7aee3cf13d7"
   },
   "execution_count": 11,
   "outputs": [
    {
     "data": {
      "text/plain": "(478, 16)"
     },
     "execution_count": 11,
     "metadata": {},
     "output_type": "execute_result"
    }
   ]
  },
  {
   "cell_type": "markdown",
   "source": [
    "Additionally, we remove the samples with a number of citations smaller than threshold, assuming that they are \"less important\"."
   ],
   "metadata": {
    "id": "1vY1Vp4JEwGK"
   }
  },
  {
   "cell_type": "code",
   "source": [
    "df = df[df[\"n_citation\"] >= 5]\n",
    "df"
   ],
   "metadata": {
    "colab": {
     "base_uri": "https://localhost:8080/",
     "height": 1000
    },
    "id": "gbu71pcXEK8q",
    "outputId": "a7bd1458-df6e-45f6-f280-5bfceede8bc8"
   },
   "execution_count": 12,
   "outputs": [
    {
     "data": {
      "text/plain": "              id                                              title  \\\n50    1000298444  Technological unemployment and human disenhanc...   \n56    1000312060  Runtime verification with minimal intrusion th...   \n61     100031634            A window on shared virtual environments   \n67     100034678  Technical Section: Topology authentication for...   \n94    1000498390  Automatic Geolocation Correction of Satellite ...   \n...          ...                                                ...   \n9530  1048334742  Security framework for RESTful mobile cloud co...   \n9549   104841381  Refining UML interactions with underspecificat...   \n9660   104916616  GDDP: Generalized Dual Dynamic Programming Theory   \n9699   104945644  Invariant imbedding and the calculation of eig...   \n9973  1051421224           An NP-complete fragment of fibring logic   \n\n                                                authors  \\\n50    [{'name': 'Michele Loi', 'id': '2676097775', '...   \n56    [{'name': 'Shay Berkovich', 'id': '2117350123'...   \n61    [{'name': 'Denis Amselem', 'id': '2533711948',...   \n67    [{'name': 'Zhiyong Su', 'id': '2493435590', 'o...   \n94    [{'name': 'Özge Can Özcanli', 'id': '204855396...   \n...                                                 ...   \n9530  [{'name': 'Feda AlShahwan', 'id': '1384795202'...   \n9549  [{'name': 'Ragnhild Kobro Runde', 'id': '20412...   \n9660  [{'name': 'Jesús M. Velásquez Bermúdez', 'id':...   \n9699  [{'name': 'M. R. Scott', 'id': '2645941388', '...   \n9973  [{'name': 'Yin Wu', 'id': '2096410828', 'org':...   \n\n                                                  venue  year  n_citation  \\\n50    {'raw': 'Ethics and Information Technology', '...  2015           6   \n56        {'raw': 'formal methods', 'id': '1169806927'}  2015           8   \n61    {'raw': 'Presence: Teleoperators & Virtual Env...  1995          28   \n67    {'raw': 'Computers & Graphics', 'id': '94821547'}  2013           6   \n94    {'raw': 'International Journal of Computer Vis...  2016           7   \n...                                                 ...   ...         ...   \n9530  {'raw': 'ambient intelligence', 'id': '1197908...  2016           9   \n9549  {'raw': 'Nordic Journal of Computing', 'id': '...  2005          31   \n9660  {'raw': 'Annals of Operations Research', 'id':...  2002           6   \n9699             {'raw': 'Computing', 'id': '35593046'}  1969          34   \n9973  {'raw': 'Annals of Mathematics and Artificial ...  2015           6   \n\n     page_start page_end    doc_type  \\\n50          201      210     Journal   \n56          317      348  Conference   \n61          130      145     Journal   \n67          269      279     Journal   \n94          263      277     Journal   \n...         ...      ...         ...   \n9530        649      659  Conference   \n9549        157      188     Journal   \n9660         21       31     Journal   \n9699         10       23     Journal   \n9973        391      417     Journal   \n\n                                              publisher volume issue  \\\n50                                 Springer Netherlands     17     3   \n56                                          Springer US     46     3   \n61                                            MIT Press      4     2   \n67                                             Pergamon     37     4   \n94                                          Springer US    116     3   \n...                                                 ...    ...   ...   \n9530                         Springer Berlin Heidelberg      7     5   \n9549  Publishing Association Nordic Journal of Compu...     12     2   \n9660                                           Springer    117     1   \n9699                                    Springer Vienna      4     1   \n9973                  Springer International Publishing     75     3   \n\n                                                    fos  \\\n50    [{'name': 'Sociology', 'w': 0.410797566}, {'na...   \n56    [{'name': 'Real-time computing', 'w': 0.469279...   \n61    [{'name': 'Multi-user', 'w': 0.477106541000000...   \n67    [{'name': 'Digital watermarking', 'w': 0.51685...   \n94    [{'name': 'Computer science', 'w': 0.3579622},...   \n...                                                 ...   \n9530  [{'name': 'Mobile search', 'w': 0.680315554}, ...   \n9549  [{'name': 'Underspecification', 'w': 0.5243531...   \n9660  [{'name': 'Mathematical optimization', 'w': 0....   \n9699  [{'name': 'Gravitational singularity', 'w': 0....   \n9973  [{'name': 'Discrete mathematics', 'w': 0.46110...   \n\n                              doi  \\\n50      10.1007/s10676-015-9375-8   \n56      10.1007/s10703-015-0226-3   \n61      10.1162/pres.1995.4.2.130   \n67      10.1016/j.cag.2013.02.009   \n94      10.1007/s11263-015-0852-7   \n...                           ...   \n9530    10.1007/s12652-015-0308-5   \n9549  10.13140/rg.2.2.36691.37920   \n9660      10.1023/A:1021557003554   \n9699           10.1007/BF02236538   \n9973    10.1007/s10472-015-9468-4   \n\n                                             references  \\\n50                                         [1631150390]   \n56    [39084266, 140229164, 143962766, 209133351, 32...   \n61    [203056148, 1515186102, 1965498649, 2023331673...   \n67    [1883100757, 1964254008, 1964939487, 196870166...   \n94                                         [2098079560]   \n...                                                 ...   \n9530  [83167447, 86792954, 141134686, 1524329929, 16...   \n9549  [189544743, 1482962177, 1561178350, 1581532873...   \n9660                                       [2019710194]   \n9699                                                 []   \n9973  [60027889, 125059438, 1499632220, 1500091283, ...   \n\n                                       indexed_abstract  \n50    {'IndexLength': 135, 'InvertedIndex': {'This':...  \n56    {'IndexLength': 207, 'InvertedIndex': {'Runtim...  \n61    {'IndexLength': 56, 'InvertedIndex': {'This': ...  \n67    {'IndexLength': 173, 'InvertedIndex': {'Topolo...  \n94    {'IndexLength': 211, 'InvertedIndex': {'Modern...  \n...                                                 ...  \n9530  {'IndexLength': 146, 'InvertedIndex': {'Provid...  \n9549  {'IndexLength': 111, 'InvertedIndex': {'STAIRS...  \n9660  {'IndexLength': 81, 'InvertedIndex': {'This': ...  \n9699  {'IndexLength': 193, 'InvertedIndex': {'A': [0...  \n9973  {'IndexLength': 133, 'InvertedIndex': {'The': ...  \n\n[234 rows x 16 columns]",
      "text/html": "<div>\n<style scoped>\n    .dataframe tbody tr th:only-of-type {\n        vertical-align: middle;\n    }\n\n    .dataframe tbody tr th {\n        vertical-align: top;\n    }\n\n    .dataframe thead th {\n        text-align: right;\n    }\n</style>\n<table border=\"1\" class=\"dataframe\">\n  <thead>\n    <tr style=\"text-align: right;\">\n      <th></th>\n      <th>id</th>\n      <th>title</th>\n      <th>authors</th>\n      <th>venue</th>\n      <th>year</th>\n      <th>n_citation</th>\n      <th>page_start</th>\n      <th>page_end</th>\n      <th>doc_type</th>\n      <th>publisher</th>\n      <th>volume</th>\n      <th>issue</th>\n      <th>fos</th>\n      <th>doi</th>\n      <th>references</th>\n      <th>indexed_abstract</th>\n    </tr>\n  </thead>\n  <tbody>\n    <tr>\n      <th>50</th>\n      <td>1000298444</td>\n      <td>Technological unemployment and human disenhanc...</td>\n      <td>[{'name': 'Michele Loi', 'id': '2676097775', '...</td>\n      <td>{'raw': 'Ethics and Information Technology', '...</td>\n      <td>2015</td>\n      <td>6</td>\n      <td>201</td>\n      <td>210</td>\n      <td>Journal</td>\n      <td>Springer Netherlands</td>\n      <td>17</td>\n      <td>3</td>\n      <td>[{'name': 'Sociology', 'w': 0.410797566}, {'na...</td>\n      <td>10.1007/s10676-015-9375-8</td>\n      <td>[1631150390]</td>\n      <td>{'IndexLength': 135, 'InvertedIndex': {'This':...</td>\n    </tr>\n    <tr>\n      <th>56</th>\n      <td>1000312060</td>\n      <td>Runtime verification with minimal intrusion th...</td>\n      <td>[{'name': 'Shay Berkovich', 'id': '2117350123'...</td>\n      <td>{'raw': 'formal methods', 'id': '1169806927'}</td>\n      <td>2015</td>\n      <td>8</td>\n      <td>317</td>\n      <td>348</td>\n      <td>Conference</td>\n      <td>Springer US</td>\n      <td>46</td>\n      <td>3</td>\n      <td>[{'name': 'Real-time computing', 'w': 0.469279...</td>\n      <td>10.1007/s10703-015-0226-3</td>\n      <td>[39084266, 140229164, 143962766, 209133351, 32...</td>\n      <td>{'IndexLength': 207, 'InvertedIndex': {'Runtim...</td>\n    </tr>\n    <tr>\n      <th>61</th>\n      <td>100031634</td>\n      <td>A window on shared virtual environments</td>\n      <td>[{'name': 'Denis Amselem', 'id': '2533711948',...</td>\n      <td>{'raw': 'Presence: Teleoperators &amp; Virtual Env...</td>\n      <td>1995</td>\n      <td>28</td>\n      <td>130</td>\n      <td>145</td>\n      <td>Journal</td>\n      <td>MIT Press</td>\n      <td>4</td>\n      <td>2</td>\n      <td>[{'name': 'Multi-user', 'w': 0.477106541000000...</td>\n      <td>10.1162/pres.1995.4.2.130</td>\n      <td>[203056148, 1515186102, 1965498649, 2023331673...</td>\n      <td>{'IndexLength': 56, 'InvertedIndex': {'This': ...</td>\n    </tr>\n    <tr>\n      <th>67</th>\n      <td>100034678</td>\n      <td>Technical Section: Topology authentication for...</td>\n      <td>[{'name': 'Zhiyong Su', 'id': '2493435590', 'o...</td>\n      <td>{'raw': 'Computers &amp; Graphics', 'id': '94821547'}</td>\n      <td>2013</td>\n      <td>6</td>\n      <td>269</td>\n      <td>279</td>\n      <td>Journal</td>\n      <td>Pergamon</td>\n      <td>37</td>\n      <td>4</td>\n      <td>[{'name': 'Digital watermarking', 'w': 0.51685...</td>\n      <td>10.1016/j.cag.2013.02.009</td>\n      <td>[1883100757, 1964254008, 1964939487, 196870166...</td>\n      <td>{'IndexLength': 173, 'InvertedIndex': {'Topolo...</td>\n    </tr>\n    <tr>\n      <th>94</th>\n      <td>1000498390</td>\n      <td>Automatic Geolocation Correction of Satellite ...</td>\n      <td>[{'name': 'Özge Can Özcanli', 'id': '204855396...</td>\n      <td>{'raw': 'International Journal of Computer Vis...</td>\n      <td>2016</td>\n      <td>7</td>\n      <td>263</td>\n      <td>277</td>\n      <td>Journal</td>\n      <td>Springer US</td>\n      <td>116</td>\n      <td>3</td>\n      <td>[{'name': 'Computer science', 'w': 0.3579622},...</td>\n      <td>10.1007/s11263-015-0852-7</td>\n      <td>[2098079560]</td>\n      <td>{'IndexLength': 211, 'InvertedIndex': {'Modern...</td>\n    </tr>\n    <tr>\n      <th>...</th>\n      <td>...</td>\n      <td>...</td>\n      <td>...</td>\n      <td>...</td>\n      <td>...</td>\n      <td>...</td>\n      <td>...</td>\n      <td>...</td>\n      <td>...</td>\n      <td>...</td>\n      <td>...</td>\n      <td>...</td>\n      <td>...</td>\n      <td>...</td>\n      <td>...</td>\n      <td>...</td>\n    </tr>\n    <tr>\n      <th>9530</th>\n      <td>1048334742</td>\n      <td>Security framework for RESTful mobile cloud co...</td>\n      <td>[{'name': 'Feda AlShahwan', 'id': '1384795202'...</td>\n      <td>{'raw': 'ambient intelligence', 'id': '1197908...</td>\n      <td>2016</td>\n      <td>9</td>\n      <td>649</td>\n      <td>659</td>\n      <td>Conference</td>\n      <td>Springer Berlin Heidelberg</td>\n      <td>7</td>\n      <td>5</td>\n      <td>[{'name': 'Mobile search', 'w': 0.680315554}, ...</td>\n      <td>10.1007/s12652-015-0308-5</td>\n      <td>[83167447, 86792954, 141134686, 1524329929, 16...</td>\n      <td>{'IndexLength': 146, 'InvertedIndex': {'Provid...</td>\n    </tr>\n    <tr>\n      <th>9549</th>\n      <td>104841381</td>\n      <td>Refining UML interactions with underspecificat...</td>\n      <td>[{'name': 'Ragnhild Kobro Runde', 'id': '20412...</td>\n      <td>{'raw': 'Nordic Journal of Computing', 'id': '...</td>\n      <td>2005</td>\n      <td>31</td>\n      <td>157</td>\n      <td>188</td>\n      <td>Journal</td>\n      <td>Publishing Association Nordic Journal of Compu...</td>\n      <td>12</td>\n      <td>2</td>\n      <td>[{'name': 'Underspecification', 'w': 0.5243531...</td>\n      <td>10.13140/rg.2.2.36691.37920</td>\n      <td>[189544743, 1482962177, 1561178350, 1581532873...</td>\n      <td>{'IndexLength': 111, 'InvertedIndex': {'STAIRS...</td>\n    </tr>\n    <tr>\n      <th>9660</th>\n      <td>104916616</td>\n      <td>GDDP: Generalized Dual Dynamic Programming Theory</td>\n      <td>[{'name': 'Jesús M. Velásquez Bermúdez', 'id':...</td>\n      <td>{'raw': 'Annals of Operations Research', 'id':...</td>\n      <td>2002</td>\n      <td>6</td>\n      <td>21</td>\n      <td>31</td>\n      <td>Journal</td>\n      <td>Springer</td>\n      <td>117</td>\n      <td>1</td>\n      <td>[{'name': 'Mathematical optimization', 'w': 0....</td>\n      <td>10.1023/A:1021557003554</td>\n      <td>[2019710194]</td>\n      <td>{'IndexLength': 81, 'InvertedIndex': {'This': ...</td>\n    </tr>\n    <tr>\n      <th>9699</th>\n      <td>104945644</td>\n      <td>Invariant imbedding and the calculation of eig...</td>\n      <td>[{'name': 'M. R. Scott', 'id': '2645941388', '...</td>\n      <td>{'raw': 'Computing', 'id': '35593046'}</td>\n      <td>1969</td>\n      <td>34</td>\n      <td>10</td>\n      <td>23</td>\n      <td>Journal</td>\n      <td>Springer Vienna</td>\n      <td>4</td>\n      <td>1</td>\n      <td>[{'name': 'Gravitational singularity', 'w': 0....</td>\n      <td>10.1007/BF02236538</td>\n      <td>[]</td>\n      <td>{'IndexLength': 193, 'InvertedIndex': {'A': [0...</td>\n    </tr>\n    <tr>\n      <th>9973</th>\n      <td>1051421224</td>\n      <td>An NP-complete fragment of fibring logic</td>\n      <td>[{'name': 'Yin Wu', 'id': '2096410828', 'org':...</td>\n      <td>{'raw': 'Annals of Mathematics and Artificial ...</td>\n      <td>2015</td>\n      <td>6</td>\n      <td>391</td>\n      <td>417</td>\n      <td>Journal</td>\n      <td>Springer International Publishing</td>\n      <td>75</td>\n      <td>3</td>\n      <td>[{'name': 'Discrete mathematics', 'w': 0.46110...</td>\n      <td>10.1007/s10472-015-9468-4</td>\n      <td>[60027889, 125059438, 1499632220, 1500091283, ...</td>\n      <td>{'IndexLength': 133, 'InvertedIndex': {'The': ...</td>\n    </tr>\n  </tbody>\n</table>\n<p>234 rows × 16 columns</p>\n</div>"
     },
     "execution_count": 12,
     "metadata": {},
     "output_type": "execute_result"
    }
   ]
  },
  {
   "cell_type": "code",
   "source": [
    "df.shape"
   ],
   "metadata": {
    "colab": {
     "base_uri": "https://localhost:8080/"
    },
    "id": "YeL4tR23E-uW",
    "outputId": "8f11d1cf-c803-43de-cc94-ffe8050f70c9"
   },
   "execution_count": 13,
   "outputs": [
    {
     "data": {
      "text/plain": "(234, 16)"
     },
     "execution_count": 13,
     "metadata": {},
     "output_type": "execute_result"
    }
   ]
  },
  {
   "cell_type": "markdown",
   "source": [
    "We also remove the samples with a number of references smaller than a threshold."
   ],
   "metadata": {
    "id": "UPWB6XdjH-VL"
   }
  },
  {
   "cell_type": "code",
   "source": [
    "num_references = df[\"references\"].to_numpy().copy()\n",
    "for i in range(num_references.size):\n",
    "  num_references[i] = len(num_references[i])"
   ],
   "metadata": {
    "id": "8bKz0KOyIFyY"
   },
   "execution_count": 14,
   "outputs": []
  },
  {
   "cell_type": "code",
   "source": [
    "df = df[num_references >= 5]\n",
    "df"
   ],
   "metadata": {
    "colab": {
     "base_uri": "https://localhost:8080/",
     "height": 1000
    },
    "id": "ogPjeY0KMaa1",
    "outputId": "78192877-427a-4a7b-bc64-5601fd0b7d4a"
   },
   "execution_count": 15,
   "outputs": [
    {
     "data": {
      "text/plain": "              id                                              title  \\\n56    1000312060  Runtime verification with minimal intrusion th...   \n61     100031634            A window on shared virtual environments   \n67     100034678  Technical Section: Topology authentication for...   \n151   1000804384  Parallel Double Snakes. Application to the seg...   \n218   1001060374  Lattice Boltzmann analysis of micro-particles ...   \n...          ...                                                ...   \n9421   104754383  Shackled to the status quo: the inhibiting eff...   \n9529   104833327  A framework for linking the structure of infor...   \n9530  1048334742  Security framework for RESTful mobile cloud co...   \n9549   104841381  Refining UML interactions with underspecificat...   \n9973  1051421224           An NP-complete fragment of fibring logic   \n\n                                                authors  \\\n56    [{'name': 'Shay Berkovich', 'id': '2117350123'...   \n61    [{'name': 'Denis Amselem', 'id': '2533711948',...   \n67    [{'name': 'Zhiyong Su', 'id': '2493435590', 'o...   \n151   [{'name': 'Florence Rossant', 'id': '182637985...   \n218   [{'name': 'Hamid Hassanzadeh Afrouzi', 'id': '...   \n...                                                 ...   \n9421  [{'name': 'Greta L. Polites', 'id': '230572121...   \n9529  [{'name': 'Sunro Lee', 'id': '2576570380'}, {'...   \n9530  [{'name': 'Feda AlShahwan', 'id': '1384795202'...   \n9549  [{'name': 'Ragnhild Kobro Runde', 'id': '20412...   \n9973  [{'name': 'Yin Wu', 'id': '2096410828', 'org':...   \n\n                                                  venue  year  n_citation  \\\n56        {'raw': 'formal methods', 'id': '1169806927'}  2015           8   \n61    {'raw': 'Presence: Teleoperators & Virtual Env...  1995          28   \n67    {'raw': 'Computers & Graphics', 'id': '94821547'}  2013           6   \n151      {'raw': 'Pattern Recognition', 'id': '414566'}  2015          11   \n218   {'raw': 'Computers & Mathematics With Applicat...  2015           8   \n...                                                 ...   ...         ...   \n9421  {'raw': 'Management Information Systems Quarte...  2012         215   \n9529  {'raw': 'Journal of Management Information Sys...  1992          49   \n9530  {'raw': 'ambient intelligence', 'id': '1197908...  2016           9   \n9549  {'raw': 'Nordic Journal of Computing', 'id': '...  2005          31   \n9973  {'raw': 'Annals of Mathematics and Artificial ...  2015           6   \n\n     page_start page_end    doc_type  \\\n56          317      348  Conference   \n61          130      145     Journal   \n67          269      279     Journal   \n151        3857     3870     Journal   \n218        1136     1151     Journal   \n...         ...      ...         ...   \n9421         21       42     Journal   \n9529         27       44     Journal   \n9530        649      659  Conference   \n9549        157      188     Journal   \n9973        391      417     Journal   \n\n                                              publisher volume issue  \\\n56                                          Springer US     46     3   \n61                                            MIT Press      4     2   \n67                                             Pergamon     37     4   \n151                               Elsevier Science Inc.     48    12   \n218                                Pergamon Press, Inc.     70     5   \n...                                                 ...    ...   ...   \n9421  Society for Information Management and The Man...     36     1   \n9529                                 M. E. Sharpe, Inc.      8     4   \n9530                         Springer Berlin Heidelberg      7     5   \n9549  Publishing Association Nordic Journal of Compu...     12     2   \n9973                  Springer International Publishing     75     3   \n\n                                                    fos  \\\n56    [{'name': 'Real-time computing', 'w': 0.469279...   \n61    [{'name': 'Multi-user', 'w': 0.477106541000000...   \n67    [{'name': 'Digital watermarking', 'w': 0.51685...   \n151   [{'name': 'Pattern recognition', 'w': 0.418113...   \n218   [{'name': 'Lift (force)', 'w': 0.508257}, {'na...   \n...                                                 ...   \n9421  [{'name': 'Management science', 'w': 0.3945593...   \n9529  [{'name': 'Knowledge management', 'w': 0.47296...   \n9530  [{'name': 'Mobile search', 'w': 0.680315554}, ...   \n9549  [{'name': 'Underspecification', 'w': 0.5243531...   \n9973  [{'name': 'Discrete mathematics', 'w': 0.46110...   \n\n                                 doi  \\\n56         10.1007/s10703-015-0226-3   \n61         10.1162/pres.1995.4.2.130   \n67         10.1016/j.cag.2013.02.009   \n151     10.1016/j.patcog.2015.06.009   \n218      10.1016/j.camwa.2015.07.008   \n...                              ...   \n9421                10.2307/41410404   \n9529  10.1080/07421222.1992.11517937   \n9530       10.1007/s12652-015-0308-5   \n9549     10.13140/rg.2.2.36691.37920   \n9973       10.1007/s10472-015-9468-4   \n\n                                             references  \\\n56    [39084266, 140229164, 143962766, 209133351, 32...   \n61    [203056148, 1515186102, 1965498649, 2023331673...   \n67    [1883100757, 1964254008, 1964939487, 196870166...   \n151   [246149496, 1501827752, 1534168035, 1603965921...   \n218   [1996902556, 2015054985, 2032012801, 204422735...   \n...                                                 ...   \n9421  [150339760, 1482773440, 1487725643, 1508343863...   \n9529  [96126854, 1509283903, 1521870617, 1527944521,...   \n9530  [83167447, 86792954, 141134686, 1524329929, 16...   \n9549  [189544743, 1482962177, 1561178350, 1581532873...   \n9973  [60027889, 125059438, 1499632220, 1500091283, ...   \n\n                                       indexed_abstract  \n56    {'IndexLength': 207, 'InvertedIndex': {'Runtim...  \n61    {'IndexLength': 56, 'InvertedIndex': {'This': ...  \n67    {'IndexLength': 173, 'InvertedIndex': {'Topolo...  \n151   {'IndexLength': 191, 'InvertedIndex': {'In': [...  \n218   {'IndexLength': 242, 'InvertedIndex': {'Disper...  \n...                                                 ...  \n9421  {'IndexLength': 293, 'InvertedIndex': {'Given'...  \n9529  {'IndexLength': 71, 'InvertedIndex': {'Abstrac...  \n9530  {'IndexLength': 146, 'InvertedIndex': {'Provid...  \n9549  {'IndexLength': 111, 'InvertedIndex': {'STAIRS...  \n9973  {'IndexLength': 133, 'InvertedIndex': {'The': ...  \n\n[182 rows x 16 columns]",
      "text/html": "<div>\n<style scoped>\n    .dataframe tbody tr th:only-of-type {\n        vertical-align: middle;\n    }\n\n    .dataframe tbody tr th {\n        vertical-align: top;\n    }\n\n    .dataframe thead th {\n        text-align: right;\n    }\n</style>\n<table border=\"1\" class=\"dataframe\">\n  <thead>\n    <tr style=\"text-align: right;\">\n      <th></th>\n      <th>id</th>\n      <th>title</th>\n      <th>authors</th>\n      <th>venue</th>\n      <th>year</th>\n      <th>n_citation</th>\n      <th>page_start</th>\n      <th>page_end</th>\n      <th>doc_type</th>\n      <th>publisher</th>\n      <th>volume</th>\n      <th>issue</th>\n      <th>fos</th>\n      <th>doi</th>\n      <th>references</th>\n      <th>indexed_abstract</th>\n    </tr>\n  </thead>\n  <tbody>\n    <tr>\n      <th>56</th>\n      <td>1000312060</td>\n      <td>Runtime verification with minimal intrusion th...</td>\n      <td>[{'name': 'Shay Berkovich', 'id': '2117350123'...</td>\n      <td>{'raw': 'formal methods', 'id': '1169806927'}</td>\n      <td>2015</td>\n      <td>8</td>\n      <td>317</td>\n      <td>348</td>\n      <td>Conference</td>\n      <td>Springer US</td>\n      <td>46</td>\n      <td>3</td>\n      <td>[{'name': 'Real-time computing', 'w': 0.469279...</td>\n      <td>10.1007/s10703-015-0226-3</td>\n      <td>[39084266, 140229164, 143962766, 209133351, 32...</td>\n      <td>{'IndexLength': 207, 'InvertedIndex': {'Runtim...</td>\n    </tr>\n    <tr>\n      <th>61</th>\n      <td>100031634</td>\n      <td>A window on shared virtual environments</td>\n      <td>[{'name': 'Denis Amselem', 'id': '2533711948',...</td>\n      <td>{'raw': 'Presence: Teleoperators &amp; Virtual Env...</td>\n      <td>1995</td>\n      <td>28</td>\n      <td>130</td>\n      <td>145</td>\n      <td>Journal</td>\n      <td>MIT Press</td>\n      <td>4</td>\n      <td>2</td>\n      <td>[{'name': 'Multi-user', 'w': 0.477106541000000...</td>\n      <td>10.1162/pres.1995.4.2.130</td>\n      <td>[203056148, 1515186102, 1965498649, 2023331673...</td>\n      <td>{'IndexLength': 56, 'InvertedIndex': {'This': ...</td>\n    </tr>\n    <tr>\n      <th>67</th>\n      <td>100034678</td>\n      <td>Technical Section: Topology authentication for...</td>\n      <td>[{'name': 'Zhiyong Su', 'id': '2493435590', 'o...</td>\n      <td>{'raw': 'Computers &amp; Graphics', 'id': '94821547'}</td>\n      <td>2013</td>\n      <td>6</td>\n      <td>269</td>\n      <td>279</td>\n      <td>Journal</td>\n      <td>Pergamon</td>\n      <td>37</td>\n      <td>4</td>\n      <td>[{'name': 'Digital watermarking', 'w': 0.51685...</td>\n      <td>10.1016/j.cag.2013.02.009</td>\n      <td>[1883100757, 1964254008, 1964939487, 196870166...</td>\n      <td>{'IndexLength': 173, 'InvertedIndex': {'Topolo...</td>\n    </tr>\n    <tr>\n      <th>151</th>\n      <td>1000804384</td>\n      <td>Parallel Double Snakes. Application to the seg...</td>\n      <td>[{'name': 'Florence Rossant', 'id': '182637985...</td>\n      <td>{'raw': 'Pattern Recognition', 'id': '414566'}</td>\n      <td>2015</td>\n      <td>11</td>\n      <td>3857</td>\n      <td>3870</td>\n      <td>Journal</td>\n      <td>Elsevier Science Inc.</td>\n      <td>48</td>\n      <td>12</td>\n      <td>[{'name': 'Pattern recognition', 'w': 0.418113...</td>\n      <td>10.1016/j.patcog.2015.06.009</td>\n      <td>[246149496, 1501827752, 1534168035, 1603965921...</td>\n      <td>{'IndexLength': 191, 'InvertedIndex': {'In': [...</td>\n    </tr>\n    <tr>\n      <th>218</th>\n      <td>1001060374</td>\n      <td>Lattice Boltzmann analysis of micro-particles ...</td>\n      <td>[{'name': 'Hamid Hassanzadeh Afrouzi', 'id': '...</td>\n      <td>{'raw': 'Computers &amp; Mathematics With Applicat...</td>\n      <td>2015</td>\n      <td>8</td>\n      <td>1136</td>\n      <td>1151</td>\n      <td>Journal</td>\n      <td>Pergamon Press, Inc.</td>\n      <td>70</td>\n      <td>5</td>\n      <td>[{'name': 'Lift (force)', 'w': 0.508257}, {'na...</td>\n      <td>10.1016/j.camwa.2015.07.008</td>\n      <td>[1996902556, 2015054985, 2032012801, 204422735...</td>\n      <td>{'IndexLength': 242, 'InvertedIndex': {'Disper...</td>\n    </tr>\n    <tr>\n      <th>...</th>\n      <td>...</td>\n      <td>...</td>\n      <td>...</td>\n      <td>...</td>\n      <td>...</td>\n      <td>...</td>\n      <td>...</td>\n      <td>...</td>\n      <td>...</td>\n      <td>...</td>\n      <td>...</td>\n      <td>...</td>\n      <td>...</td>\n      <td>...</td>\n      <td>...</td>\n      <td>...</td>\n    </tr>\n    <tr>\n      <th>9421</th>\n      <td>104754383</td>\n      <td>Shackled to the status quo: the inhibiting eff...</td>\n      <td>[{'name': 'Greta L. Polites', 'id': '230572121...</td>\n      <td>{'raw': 'Management Information Systems Quarte...</td>\n      <td>2012</td>\n      <td>215</td>\n      <td>21</td>\n      <td>42</td>\n      <td>Journal</td>\n      <td>Society for Information Management and The Man...</td>\n      <td>36</td>\n      <td>1</td>\n      <td>[{'name': 'Management science', 'w': 0.3945593...</td>\n      <td>10.2307/41410404</td>\n      <td>[150339760, 1482773440, 1487725643, 1508343863...</td>\n      <td>{'IndexLength': 293, 'InvertedIndex': {'Given'...</td>\n    </tr>\n    <tr>\n      <th>9529</th>\n      <td>104833327</td>\n      <td>A framework for linking the structure of infor...</td>\n      <td>[{'name': 'Sunro Lee', 'id': '2576570380'}, {'...</td>\n      <td>{'raw': 'Journal of Management Information Sys...</td>\n      <td>1992</td>\n      <td>49</td>\n      <td>27</td>\n      <td>44</td>\n      <td>Journal</td>\n      <td>M. E. Sharpe, Inc.</td>\n      <td>8</td>\n      <td>4</td>\n      <td>[{'name': 'Knowledge management', 'w': 0.47296...</td>\n      <td>10.1080/07421222.1992.11517937</td>\n      <td>[96126854, 1509283903, 1521870617, 1527944521,...</td>\n      <td>{'IndexLength': 71, 'InvertedIndex': {'Abstrac...</td>\n    </tr>\n    <tr>\n      <th>9530</th>\n      <td>1048334742</td>\n      <td>Security framework for RESTful mobile cloud co...</td>\n      <td>[{'name': 'Feda AlShahwan', 'id': '1384795202'...</td>\n      <td>{'raw': 'ambient intelligence', 'id': '1197908...</td>\n      <td>2016</td>\n      <td>9</td>\n      <td>649</td>\n      <td>659</td>\n      <td>Conference</td>\n      <td>Springer Berlin Heidelberg</td>\n      <td>7</td>\n      <td>5</td>\n      <td>[{'name': 'Mobile search', 'w': 0.680315554}, ...</td>\n      <td>10.1007/s12652-015-0308-5</td>\n      <td>[83167447, 86792954, 141134686, 1524329929, 16...</td>\n      <td>{'IndexLength': 146, 'InvertedIndex': {'Provid...</td>\n    </tr>\n    <tr>\n      <th>9549</th>\n      <td>104841381</td>\n      <td>Refining UML interactions with underspecificat...</td>\n      <td>[{'name': 'Ragnhild Kobro Runde', 'id': '20412...</td>\n      <td>{'raw': 'Nordic Journal of Computing', 'id': '...</td>\n      <td>2005</td>\n      <td>31</td>\n      <td>157</td>\n      <td>188</td>\n      <td>Journal</td>\n      <td>Publishing Association Nordic Journal of Compu...</td>\n      <td>12</td>\n      <td>2</td>\n      <td>[{'name': 'Underspecification', 'w': 0.5243531...</td>\n      <td>10.13140/rg.2.2.36691.37920</td>\n      <td>[189544743, 1482962177, 1561178350, 1581532873...</td>\n      <td>{'IndexLength': 111, 'InvertedIndex': {'STAIRS...</td>\n    </tr>\n    <tr>\n      <th>9973</th>\n      <td>1051421224</td>\n      <td>An NP-complete fragment of fibring logic</td>\n      <td>[{'name': 'Yin Wu', 'id': '2096410828', 'org':...</td>\n      <td>{'raw': 'Annals of Mathematics and Artificial ...</td>\n      <td>2015</td>\n      <td>6</td>\n      <td>391</td>\n      <td>417</td>\n      <td>Journal</td>\n      <td>Springer International Publishing</td>\n      <td>75</td>\n      <td>3</td>\n      <td>[{'name': 'Discrete mathematics', 'w': 0.46110...</td>\n      <td>10.1007/s10472-015-9468-4</td>\n      <td>[60027889, 125059438, 1499632220, 1500091283, ...</td>\n      <td>{'IndexLength': 133, 'InvertedIndex': {'The': ...</td>\n    </tr>\n  </tbody>\n</table>\n<p>182 rows × 16 columns</p>\n</div>"
     },
     "execution_count": 15,
     "metadata": {},
     "output_type": "execute_result"
    }
   ]
  },
  {
   "cell_type": "code",
   "source": [
    "df.shape"
   ],
   "metadata": {
    "colab": {
     "base_uri": "https://localhost:8080/"
    },
    "id": "uMP3BHdmUOQY",
    "outputId": "87f347aa-ab2b-477a-d72d-7bd4fd2179d5"
   },
   "execution_count": 16,
   "outputs": [
    {
     "data": {
      "text/plain": "(182, 16)"
     },
     "execution_count": 16,
     "metadata": {},
     "output_type": "execute_result"
    }
   ]
  },
  {
   "cell_type": "markdown",
   "source": [
    "We can see that the field `indexed_abstract` has the structure of an inverted index. Here we will convert this structure to a string, so that it would be easier to query once the dataset is imported in a database\n",
    "\n"
   ],
   "metadata": {
    "id": "RoJeUu7Bi-YQ"
   }
  },
  {
   "cell_type": "code",
   "source": [
    "indexed_abstract = df[\"indexed_abstract\"].to_numpy()\n",
    "\n",
    "# Read samples one-by-one\n",
    "for i in range(indexed_abstract.size):\n",
    "  entry = indexed_abstract[i]\n",
    "  # Words are stored temporary in an array\n",
    "  string_arr = np.ndarray(shape=entry[\"IndexLength\"], dtype=object)\n",
    "  dictionary = entry[\"InvertedIndex\"]\n",
    "\n",
    "  # Store the words\n",
    "  for key, value in dictionary.items():\n",
    "    for elem in value:\n",
    "      string_arr[elem] = key\n",
    "\n",
    "  # Input data is not always correct, in such cases we have to clean it\n",
    "  string_arr = string_arr[string_arr != None]\n",
    "\n",
    "  # Compact the array into a single string\n",
    "  indexed_abstract[i] = \" \".join(string_arr)"
   ],
   "metadata": {
    "id": "qxe0cpU9j1Iz",
    "pycharm": {
     "name": "#%%\n"
    }
   },
   "execution_count": 17,
   "outputs": []
  },
  {
   "cell_type": "markdown",
   "source": [
    "Accordingly, we rename the column `indexed_abstract` into `abstract`:"
   ],
   "metadata": {
    "collapsed": false
   }
  },
  {
   "cell_type": "code",
   "execution_count": 21,
   "outputs": [
    {
     "data": {
      "text/plain": "              id                                              title  \\\n56    1000312060  Runtime verification with minimal intrusion th...   \n61     100031634            A window on shared virtual environments   \n67     100034678  Technical Section: Topology authentication for...   \n151   1000804384  Parallel Double Snakes. Application to the seg...   \n218   1001060374  Lattice Boltzmann analysis of micro-particles ...   \n...          ...                                                ...   \n9421   104754383  Shackled to the status quo: the inhibiting eff...   \n9529   104833327  A framework for linking the structure of infor...   \n9530  1048334742  Security framework for RESTful mobile cloud co...   \n9549   104841381  Refining UML interactions with underspecificat...   \n9973  1051421224           An NP-complete fragment of fibring logic   \n\n                                                authors  \\\n56    [{'name': 'Shay Berkovich', 'id': '2117350123'...   \n61    [{'name': 'Denis Amselem', 'id': '2533711948',...   \n67    [{'name': 'Zhiyong Su', 'id': '2493435590', 'o...   \n151   [{'name': 'Florence Rossant', 'id': '182637985...   \n218   [{'name': 'Hamid Hassanzadeh Afrouzi', 'id': '...   \n...                                                 ...   \n9421  [{'name': 'Greta L. Polites', 'id': '230572121...   \n9529  [{'name': 'Sunro Lee', 'id': '2576570380'}, {'...   \n9530  [{'name': 'Feda AlShahwan', 'id': '1384795202'...   \n9549  [{'name': 'Ragnhild Kobro Runde', 'id': '20412...   \n9973  [{'name': 'Yin Wu', 'id': '2096410828', 'org':...   \n\n                                                  venue  year  n_citation  \\\n56        {'raw': 'formal methods', 'id': '1169806927'}  2015           8   \n61    {'raw': 'Presence: Teleoperators & Virtual Env...  1995          28   \n67    {'raw': 'Computers & Graphics', 'id': '94821547'}  2013           6   \n151      {'raw': 'Pattern Recognition', 'id': '414566'}  2015          11   \n218   {'raw': 'Computers & Mathematics With Applicat...  2015           8   \n...                                                 ...   ...         ...   \n9421  {'raw': 'Management Information Systems Quarte...  2012         215   \n9529  {'raw': 'Journal of Management Information Sys...  1992          49   \n9530  {'raw': 'ambient intelligence', 'id': '1197908...  2016           9   \n9549  {'raw': 'Nordic Journal of Computing', 'id': '...  2005          31   \n9973  {'raw': 'Annals of Mathematics and Artificial ...  2015           6   \n\n     page_start page_end    doc_type  \\\n56          317      348  Conference   \n61          130      145     Journal   \n67          269      279     Journal   \n151        3857     3870     Journal   \n218        1136     1151     Journal   \n...         ...      ...         ...   \n9421         21       42     Journal   \n9529         27       44     Journal   \n9530        649      659  Conference   \n9549        157      188     Journal   \n9973        391      417     Journal   \n\n                                              publisher volume issue  \\\n56                                          Springer US     46     3   \n61                                            MIT Press      4     2   \n67                                             Pergamon     37     4   \n151                               Elsevier Science Inc.     48    12   \n218                                Pergamon Press, Inc.     70     5   \n...                                                 ...    ...   ...   \n9421  Society for Information Management and The Man...     36     1   \n9529                                 M. E. Sharpe, Inc.      8     4   \n9530                         Springer Berlin Heidelberg      7     5   \n9549  Publishing Association Nordic Journal of Compu...     12     2   \n9973                  Springer International Publishing     75     3   \n\n                                                    fos  \\\n56    [{'name': 'Real-time computing', 'w': 0.469279...   \n61    [{'name': 'Multi-user', 'w': 0.477106541000000...   \n67    [{'name': 'Digital watermarking', 'w': 0.51685...   \n151   [{'name': 'Pattern recognition', 'w': 0.418113...   \n218   [{'name': 'Lift (force)', 'w': 0.508257}, {'na...   \n...                                                 ...   \n9421  [{'name': 'Management science', 'w': 0.3945593...   \n9529  [{'name': 'Knowledge management', 'w': 0.47296...   \n9530  [{'name': 'Mobile search', 'w': 0.680315554}, ...   \n9549  [{'name': 'Underspecification', 'w': 0.5243531...   \n9973  [{'name': 'Discrete mathematics', 'w': 0.46110...   \n\n                                 doi  \\\n56         10.1007/s10703-015-0226-3   \n61         10.1162/pres.1995.4.2.130   \n67         10.1016/j.cag.2013.02.009   \n151     10.1016/j.patcog.2015.06.009   \n218      10.1016/j.camwa.2015.07.008   \n...                              ...   \n9421                10.2307/41410404   \n9529  10.1080/07421222.1992.11517937   \n9530       10.1007/s12652-015-0308-5   \n9549     10.13140/rg.2.2.36691.37920   \n9973       10.1007/s10472-015-9468-4   \n\n                                             references  \\\n56    [39084266, 140229164, 143962766, 209133351, 32...   \n61    [203056148, 1515186102, 1965498649, 2023331673...   \n67    [1883100757, 1964254008, 1964939487, 196870166...   \n151   [246149496, 1501827752, 1534168035, 1603965921...   \n218   [1996902556, 2015054985, 2032012801, 204422735...   \n...                                                 ...   \n9421  [150339760, 1482773440, 1487725643, 1508343863...   \n9529  [96126854, 1509283903, 1521870617, 1527944521,...   \n9530  [83167447, 86792954, 141134686, 1524329929, 16...   \n9549  [189544743, 1482962177, 1561178350, 1581532873...   \n9973  [60027889, 125059438, 1499632220, 1500091283, ...   \n\n                                               abstract  \n56    Runtime verification is a monitoring technique...  \n61    This paper presents the architecture of a mult...  \n67    Topology authentication for computer-aided pla...  \n151   In order to segment elongated structures, we p...  \n218   Dispersion and deposition of microparticles ar...  \n...                                                 ...  \n9421  Given that adoption of a new system often impl...  \n9529  Abstract:This paper describes relations betwee...  \n9530  Providing Web services from the mobile cloud i...  \n9549  STAIRS is an approach to the compositional dev...  \n9973  The fibring method provides a semantic way to ...  \n\n[182 rows x 16 columns]",
      "text/html": "<div>\n<style scoped>\n    .dataframe tbody tr th:only-of-type {\n        vertical-align: middle;\n    }\n\n    .dataframe tbody tr th {\n        vertical-align: top;\n    }\n\n    .dataframe thead th {\n        text-align: right;\n    }\n</style>\n<table border=\"1\" class=\"dataframe\">\n  <thead>\n    <tr style=\"text-align: right;\">\n      <th></th>\n      <th>id</th>\n      <th>title</th>\n      <th>authors</th>\n      <th>venue</th>\n      <th>year</th>\n      <th>n_citation</th>\n      <th>page_start</th>\n      <th>page_end</th>\n      <th>doc_type</th>\n      <th>publisher</th>\n      <th>volume</th>\n      <th>issue</th>\n      <th>fos</th>\n      <th>doi</th>\n      <th>references</th>\n      <th>abstract</th>\n    </tr>\n  </thead>\n  <tbody>\n    <tr>\n      <th>56</th>\n      <td>1000312060</td>\n      <td>Runtime verification with minimal intrusion th...</td>\n      <td>[{'name': 'Shay Berkovich', 'id': '2117350123'...</td>\n      <td>{'raw': 'formal methods', 'id': '1169806927'}</td>\n      <td>2015</td>\n      <td>8</td>\n      <td>317</td>\n      <td>348</td>\n      <td>Conference</td>\n      <td>Springer US</td>\n      <td>46</td>\n      <td>3</td>\n      <td>[{'name': 'Real-time computing', 'w': 0.469279...</td>\n      <td>10.1007/s10703-015-0226-3</td>\n      <td>[39084266, 140229164, 143962766, 209133351, 32...</td>\n      <td>Runtime verification is a monitoring technique...</td>\n    </tr>\n    <tr>\n      <th>61</th>\n      <td>100031634</td>\n      <td>A window on shared virtual environments</td>\n      <td>[{'name': 'Denis Amselem', 'id': '2533711948',...</td>\n      <td>{'raw': 'Presence: Teleoperators &amp; Virtual Env...</td>\n      <td>1995</td>\n      <td>28</td>\n      <td>130</td>\n      <td>145</td>\n      <td>Journal</td>\n      <td>MIT Press</td>\n      <td>4</td>\n      <td>2</td>\n      <td>[{'name': 'Multi-user', 'w': 0.477106541000000...</td>\n      <td>10.1162/pres.1995.4.2.130</td>\n      <td>[203056148, 1515186102, 1965498649, 2023331673...</td>\n      <td>This paper presents the architecture of a mult...</td>\n    </tr>\n    <tr>\n      <th>67</th>\n      <td>100034678</td>\n      <td>Technical Section: Topology authentication for...</td>\n      <td>[{'name': 'Zhiyong Su', 'id': '2493435590', 'o...</td>\n      <td>{'raw': 'Computers &amp; Graphics', 'id': '94821547'}</td>\n      <td>2013</td>\n      <td>6</td>\n      <td>269</td>\n      <td>279</td>\n      <td>Journal</td>\n      <td>Pergamon</td>\n      <td>37</td>\n      <td>4</td>\n      <td>[{'name': 'Digital watermarking', 'w': 0.51685...</td>\n      <td>10.1016/j.cag.2013.02.009</td>\n      <td>[1883100757, 1964254008, 1964939487, 196870166...</td>\n      <td>Topology authentication for computer-aided pla...</td>\n    </tr>\n    <tr>\n      <th>151</th>\n      <td>1000804384</td>\n      <td>Parallel Double Snakes. Application to the seg...</td>\n      <td>[{'name': 'Florence Rossant', 'id': '182637985...</td>\n      <td>{'raw': 'Pattern Recognition', 'id': '414566'}</td>\n      <td>2015</td>\n      <td>11</td>\n      <td>3857</td>\n      <td>3870</td>\n      <td>Journal</td>\n      <td>Elsevier Science Inc.</td>\n      <td>48</td>\n      <td>12</td>\n      <td>[{'name': 'Pattern recognition', 'w': 0.418113...</td>\n      <td>10.1016/j.patcog.2015.06.009</td>\n      <td>[246149496, 1501827752, 1534168035, 1603965921...</td>\n      <td>In order to segment elongated structures, we p...</td>\n    </tr>\n    <tr>\n      <th>218</th>\n      <td>1001060374</td>\n      <td>Lattice Boltzmann analysis of micro-particles ...</td>\n      <td>[{'name': 'Hamid Hassanzadeh Afrouzi', 'id': '...</td>\n      <td>{'raw': 'Computers &amp; Mathematics With Applicat...</td>\n      <td>2015</td>\n      <td>8</td>\n      <td>1136</td>\n      <td>1151</td>\n      <td>Journal</td>\n      <td>Pergamon Press, Inc.</td>\n      <td>70</td>\n      <td>5</td>\n      <td>[{'name': 'Lift (force)', 'w': 0.508257}, {'na...</td>\n      <td>10.1016/j.camwa.2015.07.008</td>\n      <td>[1996902556, 2015054985, 2032012801, 204422735...</td>\n      <td>Dispersion and deposition of microparticles ar...</td>\n    </tr>\n    <tr>\n      <th>...</th>\n      <td>...</td>\n      <td>...</td>\n      <td>...</td>\n      <td>...</td>\n      <td>...</td>\n      <td>...</td>\n      <td>...</td>\n      <td>...</td>\n      <td>...</td>\n      <td>...</td>\n      <td>...</td>\n      <td>...</td>\n      <td>...</td>\n      <td>...</td>\n      <td>...</td>\n      <td>...</td>\n    </tr>\n    <tr>\n      <th>9421</th>\n      <td>104754383</td>\n      <td>Shackled to the status quo: the inhibiting eff...</td>\n      <td>[{'name': 'Greta L. Polites', 'id': '230572121...</td>\n      <td>{'raw': 'Management Information Systems Quarte...</td>\n      <td>2012</td>\n      <td>215</td>\n      <td>21</td>\n      <td>42</td>\n      <td>Journal</td>\n      <td>Society for Information Management and The Man...</td>\n      <td>36</td>\n      <td>1</td>\n      <td>[{'name': 'Management science', 'w': 0.3945593...</td>\n      <td>10.2307/41410404</td>\n      <td>[150339760, 1482773440, 1487725643, 1508343863...</td>\n      <td>Given that adoption of a new system often impl...</td>\n    </tr>\n    <tr>\n      <th>9529</th>\n      <td>104833327</td>\n      <td>A framework for linking the structure of infor...</td>\n      <td>[{'name': 'Sunro Lee', 'id': '2576570380'}, {'...</td>\n      <td>{'raw': 'Journal of Management Information Sys...</td>\n      <td>1992</td>\n      <td>49</td>\n      <td>27</td>\n      <td>44</td>\n      <td>Journal</td>\n      <td>M. E. Sharpe, Inc.</td>\n      <td>8</td>\n      <td>4</td>\n      <td>[{'name': 'Knowledge management', 'w': 0.47296...</td>\n      <td>10.1080/07421222.1992.11517937</td>\n      <td>[96126854, 1509283903, 1521870617, 1527944521,...</td>\n      <td>Abstract:This paper describes relations betwee...</td>\n    </tr>\n    <tr>\n      <th>9530</th>\n      <td>1048334742</td>\n      <td>Security framework for RESTful mobile cloud co...</td>\n      <td>[{'name': 'Feda AlShahwan', 'id': '1384795202'...</td>\n      <td>{'raw': 'ambient intelligence', 'id': '1197908...</td>\n      <td>2016</td>\n      <td>9</td>\n      <td>649</td>\n      <td>659</td>\n      <td>Conference</td>\n      <td>Springer Berlin Heidelberg</td>\n      <td>7</td>\n      <td>5</td>\n      <td>[{'name': 'Mobile search', 'w': 0.680315554}, ...</td>\n      <td>10.1007/s12652-015-0308-5</td>\n      <td>[83167447, 86792954, 141134686, 1524329929, 16...</td>\n      <td>Providing Web services from the mobile cloud i...</td>\n    </tr>\n    <tr>\n      <th>9549</th>\n      <td>104841381</td>\n      <td>Refining UML interactions with underspecificat...</td>\n      <td>[{'name': 'Ragnhild Kobro Runde', 'id': '20412...</td>\n      <td>{'raw': 'Nordic Journal of Computing', 'id': '...</td>\n      <td>2005</td>\n      <td>31</td>\n      <td>157</td>\n      <td>188</td>\n      <td>Journal</td>\n      <td>Publishing Association Nordic Journal of Compu...</td>\n      <td>12</td>\n      <td>2</td>\n      <td>[{'name': 'Underspecification', 'w': 0.5243531...</td>\n      <td>10.13140/rg.2.2.36691.37920</td>\n      <td>[189544743, 1482962177, 1561178350, 1581532873...</td>\n      <td>STAIRS is an approach to the compositional dev...</td>\n    </tr>\n    <tr>\n      <th>9973</th>\n      <td>1051421224</td>\n      <td>An NP-complete fragment of fibring logic</td>\n      <td>[{'name': 'Yin Wu', 'id': '2096410828', 'org':...</td>\n      <td>{'raw': 'Annals of Mathematics and Artificial ...</td>\n      <td>2015</td>\n      <td>6</td>\n      <td>391</td>\n      <td>417</td>\n      <td>Journal</td>\n      <td>Springer International Publishing</td>\n      <td>75</td>\n      <td>3</td>\n      <td>[{'name': 'Discrete mathematics', 'w': 0.46110...</td>\n      <td>10.1007/s10472-015-9468-4</td>\n      <td>[60027889, 125059438, 1499632220, 1500091283, ...</td>\n      <td>The fibring method provides a semantic way to ...</td>\n    </tr>\n  </tbody>\n</table>\n<p>182 rows × 16 columns</p>\n</div>"
     },
     "execution_count": 21,
     "metadata": {},
     "output_type": "execute_result"
    }
   ],
   "source": [
    "df = df.rename({\"indexed_abstract\": \"abstract\"}, axis=1)\n",
    "df"
   ],
   "metadata": {
    "collapsed": false,
    "pycharm": {
     "name": "#%%\n"
    }
   }
  },
  {
   "cell_type": "markdown",
   "source": [
    "Lastly, we export the chunk we are working with into a .csv file:"
   ],
   "metadata": {
    "id": "2SDRN0qTVuZy"
   }
  },
  {
   "cell_type": "code",
   "source": [
    "df.to_csv(\"dataset_v11.csv\", encoding=\"UTF-8\", index=False)"
   ],
   "metadata": {
    "id": "f4tooVWIUDmS",
    "pycharm": {
     "name": "#%%\n"
    }
   },
   "execution_count": 22,
   "outputs": []
  }
 ],
 "metadata": {
  "kernelspec": {
   "display_name": "Python 3",
   "language": "python",
   "name": "python3"
  },
  "language_info": {
   "codemirror_mode": {
    "name": "ipython",
    "version": 2
   },
   "file_extension": ".py",
   "mimetype": "text/x-python",
   "name": "python",
   "nbconvert_exporter": "python",
   "pygments_lexer": "ipython2",
   "version": "2.7.6"
  },
  "colab": {
   "provenance": [],
   "collapsed_sections": []
  }
 },
 "nbformat": 4,
 "nbformat_minor": 0
}